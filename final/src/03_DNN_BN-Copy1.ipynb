{
 "cells": [
  {
   "cell_type": "code",
   "execution_count": 1,
   "metadata": {},
   "outputs": [
    {
     "name": "stderr",
     "output_type": "stream",
     "text": [
      "Using TensorFlow backend.\n"
     ]
    }
   ],
   "source": [
    "import numpy as np\n",
    "import pandas as pd\n",
    "import matplotlib.pyplot as plt\n",
    "from sklearn.model_selection import train_test_split, KFold\n",
    "from sklearn.metrics import mean_squared_error, r2_score, mean_absolute_error\n",
    "from sklearn.preprocessing import scale\n",
    "\n",
    "from keras.models import Sequential\n",
    "from keras.layers import Dense, Dropout\n",
    "\n",
    "from keras.layers.normalization import BatchNormalization\n",
    "from keras.initializers import Initializer\n",
    "from keras import regularizers\n",
    "from keras.callbacks import EarlyStopping, ModelCheckpoint\n",
    "from keras.models import load_model\n"
   ]
  },
  {
   "cell_type": "code",
   "execution_count": 2,
   "metadata": {},
   "outputs": [],
   "source": [
    "raw_data = pd.read_csv('./data/ordered_molecules.csv')"
   ]
  },
  {
   "cell_type": "code",
   "execution_count": 3,
   "metadata": {},
   "outputs": [],
   "source": [
    "raw_data = raw_data.loc[(raw_data['time'] >= 0) & (raw_data['time'] <= 500)]"
   ]
  },
  {
   "cell_type": "code",
   "execution_count": 4,
   "metadata": {},
   "outputs": [
    {
     "data": {
      "text/html": [
       "<div>\n",
       "<style scoped>\n",
       "    .dataframe tbody tr th:only-of-type {\n",
       "        vertical-align: middle;\n",
       "    }\n",
       "\n",
       "    .dataframe tbody tr th {\n",
       "        vertical-align: top;\n",
       "    }\n",
       "\n",
       "    .dataframe thead th {\n",
       "        text-align: right;\n",
       "    }\n",
       "</style>\n",
       "<table border=\"1\" class=\"dataframe\">\n",
       "  <thead>\n",
       "    <tr style=\"text-align: right;\">\n",
       "      <th></th>\n",
       "      <th>time</th>\n",
       "      <th>molecule</th>\n",
       "      <th>px</th>\n",
       "      <th>py</th>\n",
       "      <th>pz</th>\n",
       "      <th>ax</th>\n",
       "      <th>ay</th>\n",
       "      <th>az</th>\n",
       "    </tr>\n",
       "  </thead>\n",
       "  <tbody>\n",
       "    <tr>\n",
       "      <th>0</th>\n",
       "      <td>0</td>\n",
       "      <td>1</td>\n",
       "      <td>0.27497</td>\n",
       "      <td>0.22765</td>\n",
       "      <td>0.40548</td>\n",
       "      <td>1.185458</td>\n",
       "      <td>-1.527830</td>\n",
       "      <td>-4.614324</td>\n",
       "    </tr>\n",
       "    <tr>\n",
       "      <th>1</th>\n",
       "      <td>0</td>\n",
       "      <td>2</td>\n",
       "      <td>2.13410</td>\n",
       "      <td>1.61428</td>\n",
       "      <td>1.62211</td>\n",
       "      <td>-4.601109</td>\n",
       "      <td>-0.659241</td>\n",
       "      <td>1.090967</td>\n",
       "    </tr>\n",
       "    <tr>\n",
       "      <th>2</th>\n",
       "      <td>0</td>\n",
       "      <td>3</td>\n",
       "      <td>12.05408</td>\n",
       "      <td>12.60878</td>\n",
       "      <td>2.90295</td>\n",
       "      <td>4.530882</td>\n",
       "      <td>-2.598597</td>\n",
       "      <td>2.008448</td>\n",
       "    </tr>\n",
       "    <tr>\n",
       "      <th>3</th>\n",
       "      <td>0</td>\n",
       "      <td>4</td>\n",
       "      <td>0.85376</td>\n",
       "      <td>1.93829</td>\n",
       "      <td>4.87515</td>\n",
       "      <td>3.975239</td>\n",
       "      <td>0.917088</td>\n",
       "      <td>-2.261618</td>\n",
       "    </tr>\n",
       "    <tr>\n",
       "      <th>4</th>\n",
       "      <td>0</td>\n",
       "      <td>5</td>\n",
       "      <td>12.70257</td>\n",
       "      <td>0.12956</td>\n",
       "      <td>6.09076</td>\n",
       "      <td>-1.861295</td>\n",
       "      <td>-0.908830</td>\n",
       "      <td>5.337542</td>\n",
       "    </tr>\n",
       "  </tbody>\n",
       "</table>\n",
       "</div>"
      ],
      "text/plain": [
       "   time  molecule        px        py       pz        ax        ay        az\n",
       "0     0         1   0.27497   0.22765  0.40548  1.185458 -1.527830 -4.614324\n",
       "1     0         2   2.13410   1.61428  1.62211 -4.601109 -0.659241  1.090967\n",
       "2     0         3  12.05408  12.60878  2.90295  4.530882 -2.598597  2.008448\n",
       "3     0         4   0.85376   1.93829  4.87515  3.975239  0.917088 -2.261618\n",
       "4     0         5  12.70257   0.12956  6.09076 -1.861295 -0.908830  5.337542"
      ]
     },
     "execution_count": 4,
     "metadata": {},
     "output_type": "execute_result"
    }
   ],
   "source": [
    "raw_data.head()"
   ]
  },
  {
   "cell_type": "code",
   "execution_count": 5,
   "metadata": {},
   "outputs": [],
   "source": [
    "#raw_data.iloc[:,2:] = scale(raw_data.iloc[:,2:], axis = 0)"
   ]
  },
  {
   "cell_type": "code",
   "execution_count": 6,
   "metadata": {},
   "outputs": [],
   "source": [
    "raw_data_scaled = raw_data"
   ]
  },
  {
   "cell_type": "code",
   "execution_count": 8,
   "metadata": {},
   "outputs": [],
   "source": [
    "target_data = raw_data_scaled.iloc[128:,2:]\n",
    "data = pd.concat([raw_data_scaled.iloc[0:64000,:].reset_index(drop=True), target_data.reset_index(drop=True)], axis = 1, ignore_index=True)"
   ]
  },
  {
   "cell_type": "code",
   "execution_count": 9,
   "metadata": {},
   "outputs": [
    {
     "data": {
      "text/plain": [
       "(64000, 14)"
      ]
     },
     "execution_count": 9,
     "metadata": {},
     "output_type": "execute_result"
    }
   ],
   "source": [
    "data.shape"
   ]
  },
  {
   "cell_type": "code",
   "execution_count": 10,
   "metadata": {},
   "outputs": [],
   "source": [
    "diff_x = data.iloc[:,8] - data.iloc[:,2]\n",
    "diff_y = data.iloc[:,9] - data.iloc[:,3]\n",
    "diff_z = data.iloc[:,10] - data.iloc[:,4]\n",
    "\n",
    "\n",
    "diff_x_idx, = np.where(abs(diff_x) > 3)\n",
    "diff_y_idx, = np.where(abs(diff_y) > 3)\n",
    "diff_z_idx, = np.where(abs(diff_z) > 3)\n",
    "\n",
    "diff_idx = set(diff_x_idx) | set(diff_y_idx) | set(diff_z_idx)\n",
    "\n",
    "final_data = data.loc[data.index.drop(list(diff_idx))]"
   ]
  },
  {
   "cell_type": "code",
   "execution_count": 11,
   "metadata": {},
   "outputs": [],
   "source": [
    "x_train, x_test, y_train, y_test = train_test_split(final_data.iloc[:,2:8], \n",
    "                                                    final_data.iloc[:,8:], \n",
    "                                                    test_size = 0.3, random_state = 10)"
   ]
  },
  {
   "cell_type": "code",
   "execution_count": 12,
   "metadata": {},
   "outputs": [],
   "source": [
    "#model 1\n",
    "model_1 = Sequential()\n",
    "\n",
    "model_1.add(Dense(32, input_dim=6, activation='relu', kernel_initializer = 'he_normal', kernel_regularizer = regularizers.l2(0.01)))\n",
    "model_1.add(BatchNormalization())\n",
    "\n",
    "model_1.add(Dense(32, activation='relu', kernel_initializer = 'he_normal', kernel_regularizer = regularizers.l2(0.01)))\n",
    "model_1.add(BatchNormalization())\n",
    "\n",
    "model_1.add(Dense(32, activation='relu', kernel_initializer = 'he_normal', kernel_regularizer = regularizers.l2(0.01)))\n",
    "model_1.add(BatchNormalization())\n",
    "\n",
    "model_1.add(Dense(6, activation='linear', kernel_initializer = 'glorot_normal', kernel_regularizer = regularizers.l2(0.01)))"
   ]
  },
  {
   "cell_type": "code",
   "execution_count": 13,
   "metadata": {},
   "outputs": [],
   "source": [
    "model_1.compile(loss='mean_absolute_error', optimizer= \"rmsprop\", metrics=['mae'])\n",
    "\n",
    "early_stop = EarlyStopping(monitor='val_loss', patience=20, mode='min')\n",
    "model_check_point = ModelCheckpoint('./model/DNN_BN_test.h5', monitor = 'val_loss', verbose=2, save_best_only=True)\n",
    "callback_list = [model_check_point, early_stop]"
   ]
  },
  {
   "cell_type": "code",
   "execution_count": 14,
   "metadata": {
    "scrolled": true
   },
   "outputs": [
    {
     "name": "stdout",
     "output_type": "stream",
     "text": [
      "Train on 44729 samples, validate on 19170 samples\n",
      "Epoch 1/150\n",
      "44729/44729 [==============================] - 3s 73us/step - loss: 2.5858 - mean_absolute_error: 1.7110 - val_loss: 1.0879 - val_mean_absolute_error: 0.4703\n",
      "\n",
      "Epoch 00001: val_loss improved from inf to 1.08791, saving model to ./model/DNN_BN_test.h5\n",
      "Epoch 2/150\n",
      "44729/44729 [==============================] - 2s 46us/step - loss: 0.9878 - mean_absolute_error: 0.5053 - val_loss: 0.8418 - val_mean_absolute_error: 0.4604\n",
      "\n",
      "Epoch 00002: val_loss improved from 1.08791 to 0.84185, saving model to ./model/DNN_BN_test.h5\n",
      "Epoch 3/150\n",
      "44729/44729 [==============================] - 2s 45us/step - loss: 0.7996 - mean_absolute_error: 0.4756 - val_loss: 0.6687 - val_mean_absolute_error: 0.3920\n",
      "\n",
      "Epoch 00003: val_loss improved from 0.84185 to 0.66868, saving model to ./model/DNN_BN_test.h5\n",
      "Epoch 4/150\n",
      "44729/44729 [==============================] - 2s 45us/step - loss: 0.7132 - mean_absolute_error: 0.4663 - val_loss: 0.5615 - val_mean_absolute_error: 0.3412\n",
      "\n",
      "Epoch 00004: val_loss improved from 0.66868 to 0.56154, saving model to ./model/DNN_BN_test.h5\n",
      "Epoch 5/150\n",
      "44729/44729 [==============================] - 2s 47us/step - loss: 0.6681 - mean_absolute_error: 0.4657 - val_loss: 0.4870 - val_mean_absolute_error: 0.3012\n",
      "\n",
      "Epoch 00005: val_loss improved from 0.56154 to 0.48699, saving model to ./model/DNN_BN_test.h5\n",
      "Epoch 6/150\n",
      "44729/44729 [==============================] - 2s 48us/step - loss: 0.6318 - mean_absolute_error: 0.4573 - val_loss: 0.4369 - val_mean_absolute_error: 0.2737\n",
      "\n",
      "Epoch 00006: val_loss improved from 0.48699 to 0.43686, saving model to ./model/DNN_BN_test.h5\n",
      "Epoch 7/150\n",
      "44729/44729 [==============================] - 2s 46us/step - loss: 0.6112 - mean_absolute_error: 0.4558 - val_loss: 0.3994 - val_mean_absolute_error: 0.2516\n",
      "\n",
      "Epoch 00007: val_loss improved from 0.43686 to 0.39941, saving model to ./model/DNN_BN_test.h5\n",
      "Epoch 8/150\n",
      "44729/44729 [==============================] - 2s 46us/step - loss: 0.5956 - mean_absolute_error: 0.4547 - val_loss: 0.3838 - val_mean_absolute_error: 0.2487\n",
      "\n",
      "Epoch 00008: val_loss improved from 0.39941 to 0.38375, saving model to ./model/DNN_BN_test.h5\n",
      "Epoch 9/150\n",
      "44729/44729 [==============================] - 2s 46us/step - loss: 0.5823 - mean_absolute_error: 0.4520 - val_loss: 0.3778 - val_mean_absolute_error: 0.2518\n",
      "\n",
      "Epoch 00009: val_loss improved from 0.38375 to 0.37785, saving model to ./model/DNN_BN_test.h5\n",
      "Epoch 10/150\n",
      "44729/44729 [==============================] - 2s 46us/step - loss: 0.5713 - mean_absolute_error: 0.4491 - val_loss: 0.3905 - val_mean_absolute_error: 0.2713\n",
      "\n",
      "Epoch 00010: val_loss did not improve from 0.37785\n",
      "Epoch 11/150\n",
      "44729/44729 [==============================] - 2s 45us/step - loss: 0.5579 - mean_absolute_error: 0.4425 - val_loss: 0.3340 - val_mean_absolute_error: 0.2210\n",
      "\n",
      "Epoch 00011: val_loss improved from 0.37785 to 0.33404, saving model to ./model/DNN_BN_test.h5\n",
      "Epoch 12/150\n",
      "44729/44729 [==============================] - 2s 45us/step - loss: 0.5496 - mean_absolute_error: 0.4399 - val_loss: 0.3411 - val_mean_absolute_error: 0.2341\n",
      "\n",
      "Epoch 00012: val_loss did not improve from 0.33404\n",
      "Epoch 13/150\n",
      "44729/44729 [==============================] - 2s 45us/step - loss: 0.5415 - mean_absolute_error: 0.4365 - val_loss: 0.3975 - val_mean_absolute_error: 0.2950\n",
      "\n",
      "Epoch 00013: val_loss did not improve from 0.33404\n",
      "Epoch 14/150\n",
      "44729/44729 [==============================] - 2s 45us/step - loss: 0.5316 - mean_absolute_error: 0.4309 - val_loss: 0.3234 - val_mean_absolute_error: 0.2241\n",
      "\n",
      "Epoch 00014: val_loss improved from 0.33404 to 0.32343, saving model to ./model/DNN_BN_test.h5\n",
      "Epoch 15/150\n",
      "44729/44729 [==============================] - 2s 47us/step - loss: 0.5260 - mean_absolute_error: 0.4291 - val_loss: 0.3547 - val_mean_absolute_error: 0.2601\n",
      "\n",
      "Epoch 00015: val_loss did not improve from 0.32343\n",
      "Epoch 16/150\n",
      "44729/44729 [==============================] - 2s 46us/step - loss: 0.5202 - mean_absolute_error: 0.4268 - val_loss: 0.3557 - val_mean_absolute_error: 0.2640\n",
      "\n",
      "Epoch 00016: val_loss did not improve from 0.32343\n",
      "Epoch 17/150\n",
      "44729/44729 [==============================] - 2s 46us/step - loss: 0.5083 - mean_absolute_error: 0.4175 - val_loss: 0.3312 - val_mean_absolute_error: 0.2417\n",
      "\n",
      "Epoch 00017: val_loss did not improve from 0.32343\n",
      "Epoch 18/150\n",
      "44729/44729 [==============================] - 2s 47us/step - loss: 0.4987 - mean_absolute_error: 0.4107 - val_loss: 0.2791 - val_mean_absolute_error: 0.1919\n",
      "\n",
      "Epoch 00018: val_loss improved from 0.32343 to 0.27910, saving model to ./model/DNN_BN_test.h5\n",
      "Epoch 19/150\n",
      "44729/44729 [==============================] - 2s 45us/step - loss: 0.4897 - mean_absolute_error: 0.4040 - val_loss: 0.3021 - val_mean_absolute_error: 0.2172\n",
      "\n",
      "Epoch 00019: val_loss did not improve from 0.27910\n",
      "Epoch 20/150\n",
      "44729/44729 [==============================] - 2s 46us/step - loss: 0.4881 - mean_absolute_error: 0.4047 - val_loss: 0.2781 - val_mean_absolute_error: 0.1961\n",
      "\n",
      "Epoch 00020: val_loss improved from 0.27910 to 0.27808, saving model to ./model/DNN_BN_test.h5\n",
      "Epoch 21/150\n",
      "44729/44729 [==============================] - 2s 47us/step - loss: 0.4801 - mean_absolute_error: 0.3989 - val_loss: 0.2959 - val_mean_absolute_error: 0.2162\n",
      "\n",
      "Epoch 00021: val_loss did not improve from 0.27808\n",
      "Epoch 22/150\n",
      "44729/44729 [==============================] - 2s 46us/step - loss: 0.4778 - mean_absolute_error: 0.3983 - val_loss: 0.2725 - val_mean_absolute_error: 0.1936\n",
      "\n",
      "Epoch 00022: val_loss improved from 0.27808 to 0.27254, saving model to ./model/DNN_BN_test.h5\n",
      "Epoch 23/150\n",
      "44729/44729 [==============================] - 2s 45us/step - loss: 0.4779 - mean_absolute_error: 0.4004 - val_loss: 0.2876 - val_mean_absolute_error: 0.2109\n",
      "\n",
      "Epoch 00023: val_loss did not improve from 0.27254\n",
      "Epoch 24/150\n",
      "44729/44729 [==============================] - 2s 46us/step - loss: 0.4764 - mean_absolute_error: 0.4006 - val_loss: 0.2774 - val_mean_absolute_error: 0.2026\n",
      "\n",
      "Epoch 00024: val_loss did not improve from 0.27254\n",
      "Epoch 25/150\n",
      "44729/44729 [==============================] - 2s 46us/step - loss: 0.4718 - mean_absolute_error: 0.3978 - val_loss: 0.2345 - val_mean_absolute_error: 0.1612\n",
      "\n",
      "Epoch 00025: val_loss improved from 0.27254 to 0.23449, saving model to ./model/DNN_BN_test.h5\n",
      "Epoch 26/150\n",
      "44729/44729 [==============================] - 2s 46us/step - loss: 0.4624 - mean_absolute_error: 0.3900 - val_loss: 0.2665 - val_mean_absolute_error: 0.1951\n",
      "\n",
      "Epoch 00026: val_loss did not improve from 0.23449\n",
      "Epoch 27/150\n",
      "44729/44729 [==============================] - 2s 45us/step - loss: 0.4635 - mean_absolute_error: 0.3927 - val_loss: 0.2525 - val_mean_absolute_error: 0.1826\n",
      "\n",
      "Epoch 00027: val_loss did not improve from 0.23449\n",
      "Epoch 28/150\n",
      "44729/44729 [==============================] - 2s 45us/step - loss: 0.4589 - mean_absolute_error: 0.3899 - val_loss: 0.2624 - val_mean_absolute_error: 0.1932\n",
      "\n",
      "Epoch 00028: val_loss did not improve from 0.23449\n",
      "Epoch 29/150\n",
      "44729/44729 [==============================] - 2s 45us/step - loss: 0.4582 - mean_absolute_error: 0.3907 - val_loss: 0.2314 - val_mean_absolute_error: 0.1649\n",
      "\n",
      "Epoch 00029: val_loss improved from 0.23449 to 0.23141, saving model to ./model/DNN_BN_test.h5\n",
      "Epoch 30/150\n",
      "44729/44729 [==============================] - 2s 46us/step - loss: 0.4553 - mean_absolute_error: 0.3893 - val_loss: 0.2340 - val_mean_absolute_error: 0.1689\n",
      "\n",
      "Epoch 00030: val_loss did not improve from 0.23141\n",
      "Epoch 31/150\n",
      "44729/44729 [==============================] - 2s 48us/step - loss: 0.4539 - mean_absolute_error: 0.3890 - val_loss: 0.2776 - val_mean_absolute_error: 0.2133\n",
      "\n",
      "Epoch 00031: val_loss did not improve from 0.23141\n",
      "Epoch 32/150\n",
      "44729/44729 [==============================] - 2s 46us/step - loss: 0.4528 - mean_absolute_error: 0.3892 - val_loss: 0.2344 - val_mean_absolute_error: 0.1713\n",
      "\n",
      "Epoch 00032: val_loss did not improve from 0.23141\n",
      "Epoch 33/150\n",
      "44729/44729 [==============================] - 2s 47us/step - loss: 0.4460 - mean_absolute_error: 0.3835 - val_loss: 0.2604 - val_mean_absolute_error: 0.1990\n",
      "\n",
      "Epoch 00033: val_loss did not improve from 0.23141\n",
      "Epoch 34/150\n",
      "44729/44729 [==============================] - 2s 48us/step - loss: 0.4490 - mean_absolute_error: 0.3881 - val_loss: 0.2467 - val_mean_absolute_error: 0.1863\n",
      "\n",
      "Epoch 00034: val_loss did not improve from 0.23141\n",
      "Epoch 35/150\n",
      "44729/44729 [==============================] - 2s 47us/step - loss: 0.4407 - mean_absolute_error: 0.3808 - val_loss: 0.2380 - val_mean_absolute_error: 0.1791\n",
      "\n",
      "Epoch 00035: val_loss did not improve from 0.23141\n",
      "Epoch 36/150\n",
      "44729/44729 [==============================] - 2s 45us/step - loss: 0.4458 - mean_absolute_error: 0.3870 - val_loss: 0.2718 - val_mean_absolute_error: 0.2128\n",
      "\n",
      "Epoch 00036: val_loss did not improve from 0.23141\n",
      "Epoch 37/150\n",
      "44729/44729 [==============================] - 2s 46us/step - loss: 0.4389 - mean_absolute_error: 0.3807 - val_loss: 0.2544 - val_mean_absolute_error: 0.1959\n",
      "\n",
      "Epoch 00037: val_loss did not improve from 0.23141\n",
      "Epoch 38/150\n",
      "44729/44729 [==============================] - 2s 46us/step - loss: 0.4391 - mean_absolute_error: 0.3818 - val_loss: 0.2175 - val_mean_absolute_error: 0.1605\n",
      "\n",
      "Epoch 00038: val_loss improved from 0.23141 to 0.21750, saving model to ./model/DNN_BN_test.h5\n",
      "Epoch 39/150\n",
      "44729/44729 [==============================] - 2s 45us/step - loss: 0.4436 - mean_absolute_error: 0.3869 - val_loss: 0.2463 - val_mean_absolute_error: 0.1905\n",
      "\n",
      "Epoch 00039: val_loss did not improve from 0.21750\n",
      "Epoch 40/150\n",
      "44729/44729 [==============================] - 2s 45us/step - loss: 0.4370 - mean_absolute_error: 0.3812 - val_loss: 0.2243 - val_mean_absolute_error: 0.1693\n",
      "\n",
      "Epoch 00040: val_loss did not improve from 0.21750\n",
      "Epoch 41/150\n",
      "44729/44729 [==============================] - 2s 45us/step - loss: 0.4372 - mean_absolute_error: 0.3820 - val_loss: 0.2546 - val_mean_absolute_error: 0.2002\n",
      "\n",
      "Epoch 00041: val_loss did not improve from 0.21750\n",
      "Epoch 42/150\n",
      "44729/44729 [==============================] - 2s 47us/step - loss: 0.4352 - mean_absolute_error: 0.3809 - val_loss: 0.2088 - val_mean_absolute_error: 0.1554\n",
      "\n",
      "Epoch 00042: val_loss improved from 0.21750 to 0.20882, saving model to ./model/DNN_BN_test.h5\n",
      "Epoch 43/150\n",
      "44729/44729 [==============================] - 2s 50us/step - loss: 0.4338 - mean_absolute_error: 0.3801 - val_loss: 0.2259 - val_mean_absolute_error: 0.1720\n",
      "\n",
      "Epoch 00043: val_loss did not improve from 0.20882\n",
      "Epoch 44/150\n",
      "44729/44729 [==============================] - 2s 50us/step - loss: 0.4301 - mean_absolute_error: 0.3770 - val_loss: 0.2303 - val_mean_absolute_error: 0.1778\n",
      "\n",
      "Epoch 00044: val_loss did not improve from 0.20882\n",
      "Epoch 45/150\n",
      "44729/44729 [==============================] - 2s 48us/step - loss: 0.4373 - mean_absolute_error: 0.3850 - val_loss: 0.1856 - val_mean_absolute_error: 0.1336\n",
      "\n",
      "Epoch 00045: val_loss improved from 0.20882 to 0.18565, saving model to ./model/DNN_BN_test.h5\n",
      "Epoch 46/150\n",
      "44729/44729 [==============================] - 2s 48us/step - loss: 0.4310 - mean_absolute_error: 0.3794 - val_loss: 0.2488 - val_mean_absolute_error: 0.1975\n",
      "\n",
      "Epoch 00046: val_loss did not improve from 0.18565\n",
      "Epoch 47/150\n",
      "44729/44729 [==============================] - 2s 46us/step - loss: 0.4345 - mean_absolute_error: 0.3837 - val_loss: 0.2256 - val_mean_absolute_error: 0.1746\n",
      "\n",
      "Epoch 00047: val_loss did not improve from 0.18565\n",
      "Epoch 48/150\n",
      "44729/44729 [==============================] - 2s 46us/step - loss: 0.4275 - mean_absolute_error: 0.3771 - val_loss: 0.2353 - val_mean_absolute_error: 0.1854\n",
      "\n",
      "Epoch 00048: val_loss did not improve from 0.18565\n",
      "Epoch 49/150\n",
      "44729/44729 [==============================] - 2s 45us/step - loss: 0.4266 - mean_absolute_error: 0.3768 - val_loss: 0.1842 - val_mean_absolute_error: 0.1338\n",
      "\n",
      "Epoch 00049: val_loss improved from 0.18565 to 0.18422, saving model to ./model/DNN_BN_test.h5\n",
      "Epoch 50/150\n",
      "44729/44729 [==============================] - 2s 45us/step - loss: 0.4262 - mean_absolute_error: 0.3770 - val_loss: 0.2414 - val_mean_absolute_error: 0.1927\n",
      "\n",
      "Epoch 00050: val_loss did not improve from 0.18422\n",
      "Epoch 51/150\n",
      "44729/44729 [==============================] - 2s 46us/step - loss: 0.4352 - mean_absolute_error: 0.3867 - val_loss: 0.2286 - val_mean_absolute_error: 0.1807\n",
      "\n",
      "Epoch 00051: val_loss did not improve from 0.18422\n",
      "Epoch 52/150\n",
      "44729/44729 [==============================] - 2s 45us/step - loss: 0.4289 - mean_absolute_error: 0.3808 - val_loss: 0.2413 - val_mean_absolute_error: 0.1935\n",
      "\n",
      "Epoch 00052: val_loss did not improve from 0.18422\n",
      "Epoch 53/150\n",
      "44729/44729 [==============================] - 2s 46us/step - loss: 0.4311 - mean_absolute_error: 0.3835 - val_loss: 0.2087 - val_mean_absolute_error: 0.1612\n",
      "\n",
      "Epoch 00053: val_loss did not improve from 0.18422\n",
      "Epoch 54/150\n",
      "44729/44729 [==============================] - 2s 46us/step - loss: 0.4276 - mean_absolute_error: 0.3807 - val_loss: 0.1850 - val_mean_absolute_error: 0.1380\n",
      "\n",
      "Epoch 00054: val_loss did not improve from 0.18422\n",
      "Epoch 55/150\n",
      "44729/44729 [==============================] - 2s 45us/step - loss: 0.4278 - mean_absolute_error: 0.3812 - val_loss: 0.2725 - val_mean_absolute_error: 0.2266\n",
      "\n",
      "Epoch 00055: val_loss did not improve from 0.18422\n",
      "Epoch 56/150\n",
      "44729/44729 [==============================] - 2s 47us/step - loss: 0.4288 - mean_absolute_error: 0.3826 - val_loss: 0.2181 - val_mean_absolute_error: 0.1722\n",
      "\n",
      "Epoch 00056: val_loss did not improve from 0.18422\n",
      "Epoch 57/150\n",
      "44729/44729 [==============================] - 2s 47us/step - loss: 0.4249 - mean_absolute_error: 0.3790 - val_loss: 0.2306 - val_mean_absolute_error: 0.1851\n",
      "\n",
      "Epoch 00057: val_loss did not improve from 0.18422\n",
      "Epoch 58/150\n",
      "44729/44729 [==============================] - 2s 45us/step - loss: 0.4275 - mean_absolute_error: 0.3819 - val_loss: 0.2198 - val_mean_absolute_error: 0.1744\n",
      "\n",
      "Epoch 00058: val_loss did not improve from 0.18422\n",
      "Epoch 59/150\n",
      "44729/44729 [==============================] - 2s 47us/step - loss: 0.4285 - mean_absolute_error: 0.3833 - val_loss: 0.1813 - val_mean_absolute_error: 0.1360\n",
      "\n",
      "Epoch 00059: val_loss improved from 0.18422 to 0.18128, saving model to ./model/DNN_BN_test.h5\n",
      "Epoch 60/150\n",
      "44729/44729 [==============================] - 2s 47us/step - loss: 0.4292 - mean_absolute_error: 0.3843 - val_loss: 0.2241 - val_mean_absolute_error: 0.1798\n",
      "\n",
      "Epoch 00060: val_loss did not improve from 0.18128\n",
      "Epoch 61/150\n",
      "44729/44729 [==============================] - 2s 45us/step - loss: 0.4245 - mean_absolute_error: 0.3801 - val_loss: 0.1899 - val_mean_absolute_error: 0.1454\n",
      "\n",
      "Epoch 00061: val_loss did not improve from 0.18128\n",
      "Epoch 62/150\n",
      "44729/44729 [==============================] - 2s 46us/step - loss: 0.4218 - mean_absolute_error: 0.3777 - val_loss: 0.2176 - val_mean_absolute_error: 0.1738\n",
      "\n",
      "Epoch 00062: val_loss did not improve from 0.18128\n",
      "Epoch 63/150\n",
      "44729/44729 [==============================] - 2s 45us/step - loss: 0.4201 - mean_absolute_error: 0.3762 - val_loss: 0.2380 - val_mean_absolute_error: 0.1937\n",
      "\n",
      "Epoch 00063: val_loss did not improve from 0.18128\n",
      "Epoch 64/150\n",
      "44729/44729 [==============================] - 2s 45us/step - loss: 0.4217 - mean_absolute_error: 0.3781 - val_loss: 0.2130 - val_mean_absolute_error: 0.1700\n",
      "\n",
      "Epoch 00064: val_loss did not improve from 0.18128\n",
      "Epoch 65/150\n",
      "44729/44729 [==============================] - 2s 45us/step - loss: 0.4275 - mean_absolute_error: 0.3841 - val_loss: 0.2086 - val_mean_absolute_error: 0.1650\n",
      "\n",
      "Epoch 00065: val_loss did not improve from 0.18128\n",
      "Epoch 66/150\n",
      "44729/44729 [==============================] - 2s 45us/step - loss: 0.4201 - mean_absolute_error: 0.3771 - val_loss: 0.2242 - val_mean_absolute_error: 0.1813\n",
      "\n",
      "Epoch 00066: val_loss did not improve from 0.18128\n",
      "Epoch 67/150\n",
      "44729/44729 [==============================] - 2s 45us/step - loss: 0.4217 - mean_absolute_error: 0.3789 - val_loss: 0.2024 - val_mean_absolute_error: 0.1602\n",
      "\n",
      "Epoch 00067: val_loss did not improve from 0.18128\n",
      "Epoch 68/150\n",
      "44729/44729 [==============================] - 2s 45us/step - loss: 0.4186 - mean_absolute_error: 0.3761 - val_loss: 0.2166 - val_mean_absolute_error: 0.1739\n",
      "\n",
      "Epoch 00068: val_loss did not improve from 0.18128\n",
      "Epoch 69/150\n",
      "44729/44729 [==============================] - 2s 45us/step - loss: 0.4213 - mean_absolute_error: 0.3793 - val_loss: 0.2221 - val_mean_absolute_error: 0.1796\n",
      "\n",
      "Epoch 00069: val_loss did not improve from 0.18128\n",
      "Epoch 70/150\n",
      "44729/44729 [==============================] - 2s 45us/step - loss: 0.4286 - mean_absolute_error: 0.3869 - val_loss: 0.2422 - val_mean_absolute_error: 0.2002\n",
      "\n",
      "Epoch 00070: val_loss did not improve from 0.18128\n",
      "Epoch 71/150\n",
      "44729/44729 [==============================] - 2s 47us/step - loss: 0.4153 - mean_absolute_error: 0.3738 - val_loss: 0.2222 - val_mean_absolute_error: 0.1807\n",
      "\n",
      "Epoch 00071: val_loss did not improve from 0.18128\n",
      "Epoch 72/150\n",
      "44729/44729 [==============================] - 2s 45us/step - loss: 0.4177 - mean_absolute_error: 0.3762 - val_loss: 0.2108 - val_mean_absolute_error: 0.1695\n",
      "\n",
      "Epoch 00072: val_loss did not improve from 0.18128\n",
      "Epoch 73/150\n",
      "44729/44729 [==============================] - 2s 46us/step - loss: 0.4221 - mean_absolute_error: 0.3810 - val_loss: 0.2145 - val_mean_absolute_error: 0.1736\n",
      "\n",
      "Epoch 00073: val_loss did not improve from 0.18128\n",
      "Epoch 74/150\n",
      "44729/44729 [==============================] - 2s 48us/step - loss: 0.4211 - mean_absolute_error: 0.3803 - val_loss: 0.2162 - val_mean_absolute_error: 0.1752\n",
      "\n",
      "Epoch 00074: val_loss did not improve from 0.18128\n",
      "Epoch 75/150\n",
      "44729/44729 [==============================] - 2s 47us/step - loss: 0.4264 - mean_absolute_error: 0.3857 - val_loss: 0.2371 - val_mean_absolute_error: 0.1972\n",
      "\n",
      "Epoch 00075: val_loss did not improve from 0.18128\n",
      "Epoch 76/150\n",
      "44729/44729 [==============================] - 2s 47us/step - loss: 0.4246 - mean_absolute_error: 0.3844 - val_loss: 0.2082 - val_mean_absolute_error: 0.1679\n",
      "\n",
      "Epoch 00076: val_loss did not improve from 0.18128\n",
      "Epoch 77/150\n",
      "44729/44729 [==============================] - 2s 46us/step - loss: 0.4177 - mean_absolute_error: 0.3775 - val_loss: 0.2139 - val_mean_absolute_error: 0.1734\n",
      "\n",
      "Epoch 00077: val_loss did not improve from 0.18128\n",
      "Epoch 78/150\n",
      "44729/44729 [==============================] - 2s 45us/step - loss: 0.4224 - mean_absolute_error: 0.3823 - val_loss: 0.2660 - val_mean_absolute_error: 0.2260\n",
      "\n",
      "Epoch 00078: val_loss did not improve from 0.18128\n",
      "Epoch 79/150\n",
      "44729/44729 [==============================] - 2s 48us/step - loss: 0.4176 - mean_absolute_error: 0.3779 - val_loss: 0.2027 - val_mean_absolute_error: 0.1631\n",
      "\n",
      "Epoch 00079: val_loss did not improve from 0.18128\n"
     ]
    }
   ],
   "source": [
    "hist_1 = model_1.fit(x_train, y_train, validation_data=(x_test, y_test), epochs=150, batch_size=64, callbacks = callback_list)"
   ]
  },
  {
   "cell_type": "code",
   "execution_count": 15,
   "metadata": {},
   "outputs": [],
   "source": [
    "model = load_model('./model/DNN_BN_test.h5')"
   ]
  },
  {
   "cell_type": "code",
   "execution_count": 16,
   "metadata": {},
   "outputs": [],
   "source": [
    "y_pred = model.predict(x_test)"
   ]
  },
  {
   "cell_type": "code",
   "execution_count": 17,
   "metadata": {},
   "outputs": [],
   "source": [
    "mse = mean_squared_error(y_test, y_pred)\n",
    "rmse = np.sqrt(mse)\n",
    "mae_metric = mean_absolute_error(y_test, y_pred)\n",
    "r2_error = r2_score(y_test, y_pred)"
   ]
  },
  {
   "cell_type": "code",
   "execution_count": 18,
   "metadata": {},
   "outputs": [
    {
     "name": "stdout",
     "output_type": "stream",
     "text": [
      "MSE:  0.03229488910229244\n",
      "RMSE:  0.17970778809582083\n",
      "MAE:  0.13599438011177734\n",
      "R2_Score: 0.996475055060278\n"
     ]
    }
   ],
   "source": [
    "print(\"MSE: \", mse)\n",
    "print(\"RMSE: \", rmse)\n",
    "print(\"MAE: \", mae_metric)\n",
    "print(\"R2_Score:\", r2_error)"
   ]
  },
  {
   "cell_type": "code",
   "execution_count": 19,
   "metadata": {
    "scrolled": false
   },
   "outputs": [
    {
     "data": {
      "image/png": "[encoded data removed]",
      "text/plain": [
       "<Figure size 720x720 with 6 Axes>"
      ]
     },
     "metadata": {},
     "output_type": "display_data"
    }
   ],
   "source": [
    "fig = plt.figure(figsize=(10,10))\n",
    "\n",
    "ax1 = fig.add_subplot(3,3,1)\n",
    "ax2 = fig.add_subplot(3,3,2)\n",
    "ax3 = fig.add_subplot(3,3,3)\n",
    "ax4 = fig.add_subplot(3,3,4)\n",
    "ax5 = fig.add_subplot(3,3,5)\n",
    "ax6 = fig.add_subplot(3,3,6)\n",
    "\n",
    "ax1.scatter(y_test.values[:,0], y_pred[:,0], s= 2)\n",
    "ax1.set_xlabel('x_real')\n",
    "ax1.set_ylabel('x_pred')\n",
    "ax2.scatter(y_test.values[:,1], y_pred[:,1], s= 2)\n",
    "ax2.set_xlabel('y_real')\n",
    "ax2.set_ylabel('y_pred')\n",
    "ax3.scatter(y_test.values[:,2], y_pred[:,2], s= 2)\n",
    "ax3.set_xlabel('z_real')\n",
    "ax3.set_ylabel('z_pred')\n",
    "ax4.scatter(y_test.values[:,3], y_pred[:,3], s= 2)\n",
    "ax4.set_xlabel('ax_real')\n",
    "ax4.set_ylabel('ax_pred')\n",
    "ax5.scatter(y_test.values[:,4], y_pred[:,4], s= 2)\n",
    "ax5.set_xlabel('ay_real')\n",
    "ax5.set_ylabel('ay_pred')\n",
    "ax6.scatter(y_test.values[:,5], y_pred[:,5], s= 2)\n",
    "ax6.set_xlabel('az_real')\n",
    "ax6.set_ylabel('az_pred')\n",
    "\n",
    "plt.subplots_adjust(wspace = 1, hspace = 0.5)\n",
    "plt.show()"
   ]
  },
  {
   "cell_type": "code",
   "execution_count": 20,
   "metadata": {},
   "outputs": [
    {
     "data": {
      "image/png": "[encoded data removed]",
      "text/plain": [
       "<Figure size 432x288 with 1 Axes>"
      ]
     },
     "metadata": {},
     "output_type": "display_data"
    }
   ],
   "source": [
    "# plot history\n",
    "plt.plot(hist_1.history['loss'], label='train')\n",
    "plt.plot(hist_1.history['val_loss'], label='test')\n",
    "plt.xlabel('Epochs')\n",
    "plt.ylabel('Loss')\n",
    "plt.legend()\n",
    "plt.show()"
   ]
  },
  {
   "cell_type": "code",
   "execution_count": 21,
   "metadata": {},
   "outputs": [],
   "source": [
    "#cross validation\n",
    "\n",
    "kfold = KFold(n_splits=20, shuffle=True, random_state = 500)\n",
    "X = final_data.iloc[:,2:8]\n",
    "Y = final_data.iloc[:,8:]\n",
    "\n",
    "cv_rmse = []\n",
    "cv_mae = []\n",
    "cv_r2 = []\n",
    "\n",
    "for train, test in kfold.split(X, Y):\n",
    "    \n",
    "    # evaluate the model\n",
    "    pred = model.predict(X.iloc[test,:])\n",
    "    \n",
    "    rmse = np.sqrt(mean_squared_error(Y.iloc[test,:], pred))\n",
    "    mae = mean_absolute_error(Y.iloc[test,:], pred)\n",
    "    r2 = r2_score(Y.iloc[test,:], pred)\n",
    "    \n",
    "    cv_rmse.append(rmse)\n",
    "    cv_mae.append(mae)\n",
    "    cv_r2.append(r2)"
   ]
  },
  {
   "cell_type": "code",
   "execution_count": 22,
   "metadata": {},
   "outputs": [
    {
     "name": "stdout",
     "output_type": "stream",
     "text": [
      "0.1797943933782195\n",
      "0.0010100250896837673\n",
      "\n",
      "\n",
      "0.13613905834436518\n",
      "0.0007352497563814413\n",
      "\n",
      "\n",
      "0.9964706164701932\n",
      "5.220469730872192e-05\n"
     ]
    }
   ],
   "source": [
    "print(np.mean(cv_rmse))\n",
    "print(np.std(cv_rmse))\n",
    "print('\\n')\n",
    "\n",
    "print(np.mean(cv_mae))\n",
    "print(np.std(cv_mae))\n",
    "print('\\n')\n",
    "\n",
    "print(np.mean(cv_r2))\n",
    "print(np.std(cv_r2))"
   ]
  },
  {
   "cell_type": "code",
   "execution_count": 30,
   "metadata": {},
   "outputs": [],
   "source": [
    "###############################################################################"
   ]
  },
  {
   "cell_type": "markdown",
   "metadata": {},
   "source": [
    "원래 scale 로 변환"
   ]
  },
  {
   "cell_type": "code",
   "execution_count": 31,
   "metadata": {},
   "outputs": [],
   "source": [
    "raw_data = pd.read_csv('./data/ordered_molecules.csv')"
   ]
  },
  {
   "cell_type": "code",
   "execution_count": 32,
   "metadata": {},
   "outputs": [],
   "source": [
    "px_mean = np.mean(raw_data['px'])\n",
    "px_std = np.std(raw_data['px'])\n",
    "py_mean = np.mean(raw_data['py'])\n",
    "py_std = np.std(raw_data['py'])\n",
    "pz_mean = np.mean(raw_data['pz'])\n",
    "pz_std = np.std(raw_data['pz'])\n",
    "\n",
    "ax_mean = np.mean(raw_data['ax'])\n",
    "ax_std = np.std(raw_data['ax'])\n",
    "ay_mean = np.mean(raw_data['ay'])\n",
    "ay_std = np.std(raw_data['ay'])\n",
    "az_mean = np.mean(raw_data['az'])\n",
    "az_std = np.std(raw_data['az'])"
   ]
  },
  {
   "cell_type": "code",
   "execution_count": 33,
   "metadata": {},
   "outputs": [],
   "source": [
    "y_test.iloc[:,0] = y_test.iloc[:,0] * px_std + px_mean\n",
    "y_test.iloc[:,1] = y_test.iloc[:,1] * py_std + py_mean\n",
    "y_test.iloc[:,2] = y_test.iloc[:,2] * pz_std + pz_mean\n",
    "\n",
    "y_test.iloc[:,3] = y_test.iloc[:,3] * ax_std + ax_mean\n",
    "y_test.iloc[:,4] = y_test.iloc[:,4] * ay_std + ay_mean\n",
    "y_test.iloc[:,5] = y_test.iloc[:,5] * az_std + az_mean\n"
   ]
  },
  {
   "cell_type": "code",
   "execution_count": 34,
   "metadata": {},
   "outputs": [],
   "source": [
    "y_pred_df = pd.DataFrame(y_pred)"
   ]
  },
  {
   "cell_type": "code",
   "execution_count": 35,
   "metadata": {},
   "outputs": [],
   "source": [
    "y_pred_df.iloc[:,0] = y_pred_df.iloc[:,0] * px_std + px_mean\n",
    "y_pred_df.iloc[:,1] = y_pred_df.iloc[:,1] * py_std + py_mean\n",
    "y_pred_df.iloc[:,2] = y_pred_df.iloc[:,2] * pz_std + pz_mean\n",
    "\n",
    "y_pred_df.iloc[:,3] = y_pred_df.iloc[:,3] * ax_std + ax_mean\n",
    "y_pred_df.iloc[:,4] = y_pred_df.iloc[:,4] * ay_std + ay_mean\n",
    "y_pred_df.iloc[:,5] = y_pred_df.iloc[:,5] * az_std + az_mean"
   ]
  },
  {
   "cell_type": "code",
   "execution_count": 36,
   "metadata": {},
   "outputs": [],
   "source": [
    "mse = mean_squared_error(y_test, y_pred_df)\n",
    "rmse = np.sqrt(mse)\n",
    "mae_metric = mean_absolute_error(y_test, y_pred_df)\n",
    "r2_error = r2_score(y_test, y_pred_df)"
   ]
  },
  {
   "cell_type": "code",
   "execution_count": 37,
   "metadata": {},
   "outputs": [
    {
     "name": "stdout",
     "output_type": "stream",
     "text": [
      "MSE:  0.046369350713990405\n",
      "RMSE:  0.2153354376641021\n",
      "MAE:  0.15791820639455167\n",
      "R2_Score: 0.9945541084578083\n"
     ]
    }
   ],
   "source": [
    "print(\"MSE: \", mse)\n",
    "print(\"RMSE: \", rmse)\n",
    "print(\"MAE: \", mae_metric)\n",
    "print(\"R2_Score:\", r2_error)"
   ]
  },
  {
   "cell_type": "code",
   "execution_count": 38,
   "metadata": {},
   "outputs": [
    {
     "name": "stderr",
     "output_type": "stream",
     "text": [
      "/usr/local/anaconda/envs/env_py3/lib/python3.6/site-packages/pandas/core/indexing.py:630: SettingWithCopyWarning: \n",
      "A value is trying to be set on a copy of a slice from a DataFrame.\n",
      "Try using .loc[row_indexer,col_indexer] = value instead\n",
      "\n",
      "See the caveats in the documentation: http://pandas.pydata.org/pandas-docs/stable/indexing.html#indexing-view-versus-copy\n",
      "  self.obj[item_labels[indexer[info_axis]]] = value\n"
     ]
    }
   ],
   "source": [
    "#cross validation\n",
    "\n",
    "kfold = KFold(n_splits=20, shuffle=True, random_state = 500)\n",
    "X = final_data.iloc[:,2:8]\n",
    "Y = final_data.iloc[:,8:]\n",
    "\n",
    "cv_rmse = []\n",
    "cv_mae = []\n",
    "cv_r2 = []\n",
    "\n",
    "for train, test in kfold.split(X, Y):\n",
    "    y_test = Y.iloc[test,:]\n",
    "\n",
    "    y_test.iloc[:,0] = y_test.iloc[:,0] * px_std + px_mean\n",
    "    y_test.iloc[:,1] = y_test.iloc[:,1] * py_std + py_mean\n",
    "    y_test.iloc[:,2] = y_test.iloc[:,2] * pz_std + pz_mean\n",
    "\n",
    "    y_test.iloc[:,3] = y_test.iloc[:,3] * ax_std + ax_mean\n",
    "    y_test.iloc[:,4] = y_test.iloc[:,4] * ay_std + ay_mean\n",
    "    y_test.iloc[:,5] = y_test.iloc[:,5] * az_std + az_mean\n",
    "    \n",
    "    y_pred = model.predict(X.iloc[test,:])\n",
    "    y_pred_df = pd.DataFrame(y_pred)\n",
    "    \n",
    "    y_pred_df.iloc[:,0] = y_pred_df.iloc[:,0] * px_std + px_mean\n",
    "    y_pred_df.iloc[:,1] = y_pred_df.iloc[:,1] * py_std + py_mean\n",
    "    y_pred_df.iloc[:,2] = y_pred_df.iloc[:,2] * pz_std + pz_mean\n",
    "\n",
    "    y_pred_df.iloc[:,3] = y_pred_df.iloc[:,3] * ax_std + ax_mean\n",
    "    y_pred_df.iloc[:,4] = y_pred_df.iloc[:,4] * ay_std + ay_mean\n",
    "    y_pred_df.iloc[:,5] = y_pred_df.iloc[:,5] * az_std + az_mean\n",
    "    \n",
    "    rmse = np.sqrt(mean_squared_error(y_test, y_pred_df))\n",
    "    mae = mean_absolute_error(y_test, y_pred_df)\n",
    "    r2 = r2_score(y_test, y_pred_df)\n",
    "    \n",
    "    cv_rmse.append(rmse)\n",
    "    cv_mae.append(mae)\n",
    "    cv_r2.append(r2)"
   ]
  },
  {
   "cell_type": "code",
   "execution_count": 39,
   "metadata": {},
   "outputs": [
    {
     "name": "stdout",
     "output_type": "stream",
     "text": [
      "0.2150729214100356\n",
      "0.0033220475426071596\n",
      "\n",
      "\n",
      "0.157912338189241\n",
      "0.0010395283807248447\n",
      "\n",
      "\n",
      "0.9945696091137004\n",
      "0.00016215912410976765\n"
     ]
    }
   ],
   "source": [
    "print(np.mean(cv_rmse))\n",
    "print(np.std(cv_rmse))\n",
    "print('\\n')\n",
    "\n",
    "print(np.mean(cv_mae))\n",
    "print(np.std(cv_mae))\n",
    "print('\\n')\n",
    "\n",
    "print(np.mean(cv_r2))\n",
    "print(np.std(cv_r2))"
   ]
  },
  {
   "cell_type": "code",
   "execution_count": 23,
   "metadata": {},
   "outputs": [],
   "source": [
    "raw_data = pd.read_csv('./data/ordered_molecules.csv')"
   ]
  },
  {
   "cell_type": "code",
   "execution_count": 24,
   "metadata": {},
   "outputs": [],
   "source": [
    "#raw_data.iloc[:,2:] = scale(raw_data.iloc[:,2:], axis = 0)\n",
    "\n",
    "raw_data_scaled = raw_data"
   ]
  },
  {
   "cell_type": "code",
   "execution_count": 25,
   "metadata": {},
   "outputs": [
    {
     "data": {
      "text/html": [
       "<div>\n",
       "<style scoped>\n",
       "    .dataframe tbody tr th:only-of-type {\n",
       "        vertical-align: middle;\n",
       "    }\n",
       "\n",
       "    .dataframe tbody tr th {\n",
       "        vertical-align: top;\n",
       "    }\n",
       "\n",
       "    .dataframe thead th {\n",
       "        text-align: right;\n",
       "    }\n",
       "</style>\n",
       "<table border=\"1\" class=\"dataframe\">\n",
       "  <thead>\n",
       "    <tr style=\"text-align: right;\">\n",
       "      <th></th>\n",
       "      <th>time</th>\n",
       "      <th>molecule</th>\n",
       "      <th>px</th>\n",
       "      <th>py</th>\n",
       "      <th>pz</th>\n",
       "      <th>ax</th>\n",
       "      <th>ay</th>\n",
       "      <th>az</th>\n",
       "    </tr>\n",
       "  </thead>\n",
       "  <tbody>\n",
       "    <tr>\n",
       "      <th>0</th>\n",
       "      <td>0</td>\n",
       "      <td>1</td>\n",
       "      <td>0.27497</td>\n",
       "      <td>0.22765</td>\n",
       "      <td>0.40548</td>\n",
       "      <td>1.185458</td>\n",
       "      <td>-1.527830</td>\n",
       "      <td>-4.614324</td>\n",
       "    </tr>\n",
       "    <tr>\n",
       "      <th>1</th>\n",
       "      <td>0</td>\n",
       "      <td>2</td>\n",
       "      <td>2.13410</td>\n",
       "      <td>1.61428</td>\n",
       "      <td>1.62211</td>\n",
       "      <td>-4.601109</td>\n",
       "      <td>-0.659241</td>\n",
       "      <td>1.090967</td>\n",
       "    </tr>\n",
       "    <tr>\n",
       "      <th>2</th>\n",
       "      <td>0</td>\n",
       "      <td>3</td>\n",
       "      <td>12.05408</td>\n",
       "      <td>12.60878</td>\n",
       "      <td>2.90295</td>\n",
       "      <td>4.530882</td>\n",
       "      <td>-2.598597</td>\n",
       "      <td>2.008448</td>\n",
       "    </tr>\n",
       "    <tr>\n",
       "      <th>3</th>\n",
       "      <td>0</td>\n",
       "      <td>4</td>\n",
       "      <td>0.85376</td>\n",
       "      <td>1.93829</td>\n",
       "      <td>4.87515</td>\n",
       "      <td>3.975239</td>\n",
       "      <td>0.917088</td>\n",
       "      <td>-2.261618</td>\n",
       "    </tr>\n",
       "    <tr>\n",
       "      <th>4</th>\n",
       "      <td>0</td>\n",
       "      <td>5</td>\n",
       "      <td>12.70257</td>\n",
       "      <td>0.12956</td>\n",
       "      <td>6.09076</td>\n",
       "      <td>-1.861295</td>\n",
       "      <td>-0.908830</td>\n",
       "      <td>5.337542</td>\n",
       "    </tr>\n",
       "  </tbody>\n",
       "</table>\n",
       "</div>"
      ],
      "text/plain": [
       "   time  molecule        px        py       pz        ax        ay        az\n",
       "0     0         1   0.27497   0.22765  0.40548  1.185458 -1.527830 -4.614324\n",
       "1     0         2   2.13410   1.61428  1.62211 -4.601109 -0.659241  1.090967\n",
       "2     0         3  12.05408  12.60878  2.90295  4.530882 -2.598597  2.008448\n",
       "3     0         4   0.85376   1.93829  4.87515  3.975239  0.917088 -2.261618\n",
       "4     0         5  12.70257   0.12956  6.09076 -1.861295 -0.908830  5.337542"
      ]
     },
     "execution_count": 25,
     "metadata": {},
     "output_type": "execute_result"
    }
   ],
   "source": [
    "raw_data_scaled.head()"
   ]
  },
  {
   "cell_type": "code",
   "execution_count": 26,
   "metadata": {},
   "outputs": [],
   "source": [
    "test_data = raw_data_scaled.loc[(raw_data_scaled['time'] >= 501) & (raw_data_scaled['time'] <= 600)]"
   ]
  },
  {
   "cell_type": "code",
   "execution_count": 27,
   "metadata": {},
   "outputs": [
    {
     "data": {
      "text/html": [
       "<div>\n",
       "<style scoped>\n",
       "    .dataframe tbody tr th:only-of-type {\n",
       "        vertical-align: middle;\n",
       "    }\n",
       "\n",
       "    .dataframe tbody tr th {\n",
       "        vertical-align: top;\n",
       "    }\n",
       "\n",
       "    .dataframe thead th {\n",
       "        text-align: right;\n",
       "    }\n",
       "</style>\n",
       "<table border=\"1\" class=\"dataframe\">\n",
       "  <thead>\n",
       "    <tr style=\"text-align: right;\">\n",
       "      <th></th>\n",
       "      <th>time</th>\n",
       "      <th>molecule</th>\n",
       "      <th>px</th>\n",
       "      <th>py</th>\n",
       "      <th>pz</th>\n",
       "      <th>ax</th>\n",
       "      <th>ay</th>\n",
       "      <th>az</th>\n",
       "    </tr>\n",
       "  </thead>\n",
       "  <tbody>\n",
       "    <tr>\n",
       "      <th>76923</th>\n",
       "      <td>600</td>\n",
       "      <td>124</td>\n",
       "      <td>11.87236</td>\n",
       "      <td>11.60171</td>\n",
       "      <td>5.39335</td>\n",
       "      <td>-0.500328</td>\n",
       "      <td>-2.837816</td>\n",
       "      <td>1.611168</td>\n",
       "    </tr>\n",
       "    <tr>\n",
       "      <th>76924</th>\n",
       "      <td>600</td>\n",
       "      <td>125</td>\n",
       "      <td>8.39364</td>\n",
       "      <td>8.45403</td>\n",
       "      <td>5.90487</td>\n",
       "      <td>4.020507</td>\n",
       "      <td>-5.413309</td>\n",
       "      <td>1.877294</td>\n",
       "    </tr>\n",
       "    <tr>\n",
       "      <th>76925</th>\n",
       "      <td>600</td>\n",
       "      <td>126</td>\n",
       "      <td>1.52384</td>\n",
       "      <td>12.15480</td>\n",
       "      <td>8.03993</td>\n",
       "      <td>-0.262397</td>\n",
       "      <td>-0.228747</td>\n",
       "      <td>-1.178070</td>\n",
       "    </tr>\n",
       "    <tr>\n",
       "      <th>76926</th>\n",
       "      <td>600</td>\n",
       "      <td>127</td>\n",
       "      <td>10.48536</td>\n",
       "      <td>9.15239</td>\n",
       "      <td>8.98852</td>\n",
       "      <td>-3.601060</td>\n",
       "      <td>-1.924487</td>\n",
       "      <td>2.913010</td>\n",
       "    </tr>\n",
       "    <tr>\n",
       "      <th>76927</th>\n",
       "      <td>600</td>\n",
       "      <td>128</td>\n",
       "      <td>9.72046</td>\n",
       "      <td>12.32493</td>\n",
       "      <td>10.94059</td>\n",
       "      <td>-0.394199</td>\n",
       "      <td>-0.266843</td>\n",
       "      <td>-4.200470</td>\n",
       "    </tr>\n",
       "  </tbody>\n",
       "</table>\n",
       "</div>"
      ],
      "text/plain": [
       "       time  molecule        px        py        pz        ax        ay  \\\n",
       "76923   600       124  11.87236  11.60171   5.39335 -0.500328 -2.837816   \n",
       "76924   600       125   8.39364   8.45403   5.90487  4.020507 -5.413309   \n",
       "76925   600       126   1.52384  12.15480   8.03993 -0.262397 -0.228747   \n",
       "76926   600       127  10.48536   9.15239   8.98852 -3.601060 -1.924487   \n",
       "76927   600       128   9.72046  12.32493  10.94059 -0.394199 -0.266843   \n",
       "\n",
       "             az  \n",
       "76923  1.611168  \n",
       "76924  1.877294  \n",
       "76925 -1.178070  \n",
       "76926  2.913010  \n",
       "76927 -4.200470  "
      ]
     },
     "execution_count": 27,
     "metadata": {},
     "output_type": "execute_result"
    }
   ],
   "source": [
    "test_data.tail()"
   ]
  },
  {
   "cell_type": "code",
   "execution_count": 28,
   "metadata": {},
   "outputs": [],
   "source": [
    "predicted = model.predict(test_data.iloc[:,2:])"
   ]
  },
  {
   "cell_type": "code",
   "execution_count": 29,
   "metadata": {},
   "outputs": [
    {
     "data": {
      "text/plain": [
       "array([[ 7.2866321e-01,  1.0811494e+01,  1.1416976e+01,  4.5848709e-01,\n",
       "        -2.0757062e+00,  3.2427971e+00],\n",
       "       [ 1.0059953e-02,  1.4712685e+00,  1.0425003e+00,  3.1728921e+00,\n",
       "         1.0124816e+00,  5.2346764e+00],\n",
       "       [-2.1099210e-02,  1.2493051e+01,  3.7425680e+00, -6.9305938e-01,\n",
       "        -3.0629784e-01, -1.3606467e+00],\n",
       "       ...,\n",
       "       [ 1.5475361e+00,  1.1897922e+01,  8.1056585e+00, -2.8503361e-01,\n",
       "        -5.0551414e-01, -1.0235683e+00],\n",
       "       [ 1.0526325e+01,  8.9984884e+00,  9.1338863e+00, -3.3923454e+00,\n",
       "        -2.1133232e+00,  2.7826743e+00],\n",
       "       [ 9.8302822e+00,  1.2180186e+01,  1.1142347e+01, -2.0966202e-01,\n",
       "        -4.3414158e-01, -3.9584534e+00]], dtype=float32)"
      ]
     },
     "execution_count": 29,
     "metadata": {},
     "output_type": "execute_result"
    }
   ],
   "source": [
    "predicted"
   ]
  },
  {
   "cell_type": "code",
   "execution_count": 30,
   "metadata": {},
   "outputs": [],
   "source": [
    "next_data = raw_data_scaled.loc[(raw_data_scaled['time'] >= 502) & (raw_data_scaled['time'] <= 601)]"
   ]
  },
  {
   "cell_type": "code",
   "execution_count": 33,
   "metadata": {},
   "outputs": [
    {
     "name": "stdout",
     "output_type": "stream",
     "text": [
      "0.06464983774353855\n",
      "0.14024119912169605\n",
      "0.9940541021910986\n"
     ]
    }
   ],
   "source": [
    "print(mean_squared_error(next_data.iloc[:,2:], pd.DataFrame(predicted)))\n",
    "print(mean_absolute_error(next_data.iloc[:,2:], pd.DataFrame(predicted)))\n",
    "print(r2_score(next_data.iloc[:,2:], pd.DataFrame(predicted)))"
   ]
  },
  {
   "cell_type": "code",
   "execution_count": 32,
   "metadata": {},
   "outputs": [
    {
     "data": {
      "image/png": "[encoded data removed]",
      "text/plain": [
       "<Figure size 720x720 with 6 Axes>"
      ]
     },
     "metadata": {},
     "output_type": "display_data"
    }
   ],
   "source": [
    "fig_2 = plt.figure(figsize=(10,10))\n",
    "\n",
    "ax1 = fig_2.add_subplot(3,3,1)\n",
    "ax2 = fig_2.add_subplot(3,3,2)\n",
    "ax3 = fig_2.add_subplot(3,3,3)\n",
    "ax4 = fig_2.add_subplot(3,3,4)\n",
    "ax5 = fig_2.add_subplot(3,3,5)\n",
    "ax6 = fig_2.add_subplot(3,3,6)\n",
    "\n",
    "ax1.scatter(next_data.iloc[:,2], pd.DataFrame(predicted).iloc[:,0], s= 2)\n",
    "ax1.set_xlabel('x_real')\n",
    "ax1.set_ylabel('x_pred')\n",
    "#ax1.set_xlim((-2.5, 2.5))\n",
    "#ax1.set_ylim((-2.5, 2.5))\n",
    "ax2.scatter(next_data.iloc[:,3], pd.DataFrame(predicted).iloc[:,1], s= 2)\n",
    "ax2.set_xlabel('y_real')\n",
    "ax2.set_ylabel('y_pred')\n",
    "#ax2.set_xlim((-2.5, 2.5))\n",
    "#ax2.set_ylim((-2.5, 2.5))\n",
    "ax3.scatter(next_data.iloc[:,4], pd.DataFrame(predicted).iloc[:,2], s= 2)\n",
    "ax3.set_xlabel('z_real')\n",
    "ax3.set_ylabel('z_pred')\n",
    "#ax3.set_xlim((-2.5, 2.5))\n",
    "#ax3.set_ylim((-2.5, 2.5))\n",
    "ax4.scatter(next_data.iloc[:,5], pd.DataFrame(predicted).iloc[:,3], s= 2)\n",
    "ax4.set_xlabel('ax_real')\n",
    "ax4.set_ylabel('ax_pred')\n",
    "#ax4.set_xlim((-2.5, 2.5))\n",
    "#ax4.set_ylim((-2.5, 2.5))\n",
    "ax5.scatter(next_data.iloc[:,6], pd.DataFrame(predicted).iloc[:,4], s= 2)\n",
    "ax5.set_xlabel('ay_real')\n",
    "ax5.set_ylabel('ay_pred')\n",
    "#ax5.set_xlim((-2.5, 2.5))\n",
    "#ax5.set_ylim((-2.5, 2.5))\n",
    "ax6.scatter(next_data.iloc[:,7], pd.DataFrame(predicted).iloc[:,5], s= 2)\n",
    "ax6.set_xlabel('az_real')\n",
    "ax6.set_ylabel('az_pred')\n",
    "#ax6.set_xlim((-2.5, 2.5))\n",
    "#ax6.set_ylim((-2.5, 2.5))\n",
    "\n",
    "plt.subplots_adjust(wspace = 1, hspace = 0.5)\n",
    "plt.show()"
   ]
  },
  {
   "cell_type": "code",
   "execution_count": 61,
   "metadata": {},
   "outputs": [],
   "source": [
    "px_mean = np.mean(test_data['px'])\n",
    "px_std = np.std(test_data['px'])\n",
    "py_mean = np.mean(test_data['py'])\n",
    "py_std = np.std(test_data['py'])\n",
    "pz_mean = np.mean(test_data['pz'])\n",
    "pz_std = np.std(test_data['pz'])\n",
    "\n",
    "ax_mean = np.mean(test_data['ax'])\n",
    "ax_std = np.std(test_data['ax'])\n",
    "ay_mean = np.mean(test_data['ay'])\n",
    "ay_std = np.std(test_data['ay'])\n",
    "az_mean = np.mean(test_data['az'])\n",
    "az_std = np.std(test_data['az'])"
   ]
  },
  {
   "cell_type": "code",
   "execution_count": 74,
   "metadata": {},
   "outputs": [
    {
     "data": {
      "text/plain": [
       "0.9861126513748661"
      ]
     },
     "execution_count": 74,
     "metadata": {},
     "output_type": "execute_result"
    }
   ],
   "source": [
    "np.std(test_data['px'])"
   ]
  },
  {
   "cell_type": "code",
   "execution_count": 75,
   "metadata": {},
   "outputs": [
    {
     "data": {
      "text/plain": [
       "0.9860718614904698"
      ]
     },
     "execution_count": 75,
     "metadata": {},
     "output_type": "execute_result"
    }
   ],
   "source": [
    "np.std(next_data['px'])"
   ]
  },
  {
   "cell_type": "code",
   "execution_count": 67,
   "metadata": {},
   "outputs": [],
   "source": [
    "a = next_data.iloc[:,2] * px_std + px_mean\n",
    "b = next_data.iloc[:,3] * py_std + py_mean\n",
    "c = next_data.iloc[:,4] * pz_std + pz_mean\n",
    "\n",
    "d= next_data.iloc[:,5] * ax_std + ax_mean\n",
    "e = next_data.iloc[:,6] * ay_std + ay_mean\n",
    "f = next_data.iloc[:,7] * az_std + az_mean\n"
   ]
  },
  {
   "cell_type": "code",
   "execution_count": 68,
   "metadata": {},
   "outputs": [],
   "source": [
    "all_df = pd.concat([a.reset_index(drop=True),b.reset_index(drop=True),c.reset_index(drop=True),d.reset_index(drop=True),e.reset_index(drop=True),f.reset_index(drop=True)],axis=1)"
   ]
  },
  {
   "cell_type": "code",
   "execution_count": 69,
   "metadata": {},
   "outputs": [
    {
     "data": {
      "text/html": [
       "<div>\n",
       "<style scoped>\n",
       "    .dataframe tbody tr th:only-of-type {\n",
       "        vertical-align: middle;\n",
       "    }\n",
       "\n",
       "    .dataframe tbody tr th {\n",
       "        vertical-align: top;\n",
       "    }\n",
       "\n",
       "    .dataframe thead th {\n",
       "        text-align: right;\n",
       "    }\n",
       "</style>\n",
       "<table border=\"1\" class=\"dataframe\">\n",
       "  <thead>\n",
       "    <tr style=\"text-align: right;\">\n",
       "      <th></th>\n",
       "      <th>px</th>\n",
       "      <th>py</th>\n",
       "      <th>pz</th>\n",
       "      <th>ax</th>\n",
       "      <th>ay</th>\n",
       "      <th>az</th>\n",
       "    </tr>\n",
       "  </thead>\n",
       "  <tbody>\n",
       "    <tr>\n",
       "      <th>0</th>\n",
       "      <td>-1.511712</td>\n",
       "      <td>1.088998</td>\n",
       "      <td>1.205650</td>\n",
       "      <td>0.319540</td>\n",
       "      <td>-0.593479</td>\n",
       "      <td>1.168112</td>\n",
       "    </tr>\n",
       "    <tr>\n",
       "      <th>1</th>\n",
       "      <td>-1.663488</td>\n",
       "      <td>-1.480897</td>\n",
       "      <td>-1.404258</td>\n",
       "      <td>1.465105</td>\n",
       "      <td>0.429115</td>\n",
       "      <td>1.896755</td>\n",
       "    </tr>\n",
       "    <tr>\n",
       "      <th>2</th>\n",
       "      <td>-1.667576</td>\n",
       "      <td>1.588766</td>\n",
       "      <td>-0.777714</td>\n",
       "      <td>-0.326174</td>\n",
       "      <td>-0.032933</td>\n",
       "      <td>-0.563683</td>\n",
       "    </tr>\n",
       "    <tr>\n",
       "      <th>3</th>\n",
       "      <td>-0.816014</td>\n",
       "      <td>-1.205403</td>\n",
       "      <td>0.193939</td>\n",
       "      <td>0.298583</td>\n",
       "      <td>-1.756449</td>\n",
       "      <td>-2.191349</td>\n",
       "    </tr>\n",
       "    <tr>\n",
       "      <th>4</th>\n",
       "      <td>-1.340106</td>\n",
       "      <td>-1.630175</td>\n",
       "      <td>-0.278171</td>\n",
       "      <td>1.473514</td>\n",
       "      <td>-1.096934</td>\n",
       "      <td>0.133657</td>\n",
       "    </tr>\n",
       "  </tbody>\n",
       "</table>\n",
       "</div>"
      ],
      "text/plain": [
       "         px        py        pz        ax        ay        az\n",
       "0 -1.511712  1.088998  1.205650  0.319540 -0.593479  1.168112\n",
       "1 -1.663488 -1.480897 -1.404258  1.465105  0.429115  1.896755\n",
       "2 -1.667576  1.588766 -0.777714 -0.326174 -0.032933 -0.563683\n",
       "3 -0.816014 -1.205403  0.193939  0.298583 -1.756449 -2.191349\n",
       "4 -1.340106 -1.630175 -0.278171  1.473514 -1.096934  0.133657"
      ]
     },
     "execution_count": 69,
     "metadata": {},
     "output_type": "execute_result"
    }
   ],
   "source": [
    "all_df.head()"
   ]
  },
  {
   "cell_type": "code",
   "execution_count": 55,
   "metadata": {},
   "outputs": [],
   "source": [
    "pd.DataFrame(predicted).iloc[:,0] = pd.DataFrame(predicted).iloc[:,0] * px_std + px_mean\n",
    "pd.DataFrame(predicted).iloc[:,1] = pd.DataFrame(predicted).iloc[:,1] * py_std + py_mean\n",
    "pd.DataFrame(predicted).iloc[:,2] = pd.DataFrame(predicted).iloc[:,2] * pz_std + pz_mean\n",
    "\n",
    "pd.DataFrame(predicted).iloc[:,3] = pd.DataFrame(predicted).iloc[:,3] * ax_std + ax_mean\n",
    "pd.DataFrame(predicted).iloc[:,4] = pd.DataFrame(predicted).iloc[:,4] * ay_std + ay_mean\n",
    "pd.DataFrame(predicted).iloc[:,5] = pd.DataFrame(predicted).iloc[:,5] * az_std + az_mean"
   ]
  },
  {
   "cell_type": "code",
   "execution_count": 56,
   "metadata": {},
   "outputs": [
    {
     "data": {
      "text/plain": [
       "0.05545773101016804"
      ]
     },
     "execution_count": 56,
     "metadata": {},
     "output_type": "execute_result"
    }
   ],
   "source": [
    "mean_absolute_error(next_data.iloc[:,2:], pd.DataFrame(predicted))"
   ]
  },
  {
   "cell_type": "code",
   "execution_count": 57,
   "metadata": {},
   "outputs": [
    {
     "data": {
      "image/png": "[encoded data removed]",
      "text/plain": [
       "<Figure size 720x720 with 6 Axes>"
      ]
     },
     "metadata": {},
     "output_type": "display_data"
    }
   ],
   "source": [
    "fig_3 = plt.figure(figsize=(10,10))\n",
    "\n",
    "ax1 = fig_3.add_subplot(3,3,1)\n",
    "ax2 = fig_3.add_subplot(3,3,2)\n",
    "ax3 = fig_3.add_subplot(3,3,3)\n",
    "ax4 = fig_3.add_subplot(3,3,4)\n",
    "ax5 = fig_3.add_subplot(3,3,5)\n",
    "ax6 = fig_3.add_subplot(3,3,6)\n",
    "\n",
    "ax1.scatter(next_data.iloc[:,2], pd.DataFrame(predicted).iloc[:,0], s= 2)\n",
    "ax1.set_xlabel('x_real')\n",
    "ax1.set_ylabel('x_pred')\n",
    "#ax1.set_xlim((-2.5, 2.5))\n",
    "#ax1.set_ylim((-2.5, 2.5))\n",
    "ax2.scatter(next_data.iloc[:,3], pd.DataFrame(predicted).iloc[:,1], s= 2)\n",
    "ax2.set_xlabel('y_real')\n",
    "ax2.set_ylabel('y_pred')\n",
    "#ax2.set_xlim((-2.5, 2.5))\n",
    "#ax2.set_ylim((-2.5, 2.5))\n",
    "ax3.scatter(next_data.iloc[:,4], pd.DataFrame(predicted).iloc[:,2], s= 2)\n",
    "ax3.set_xlabel('z_real')\n",
    "ax3.set_ylabel('z_pred')\n",
    "#ax3.set_xlim((-2.5, 2.5))\n",
    "#ax3.set_ylim((-2.5, 2.5))\n",
    "ax4.scatter(next_data.iloc[:,5], pd.DataFrame(predicted).iloc[:,3], s= 2)\n",
    "ax4.set_xlabel('ax_real')\n",
    "ax4.set_ylabel('ax_pred')\n",
    "#ax4.set_xlim((-2.5, 2.5))\n",
    "#ax4.set_ylim((-2.5, 2.5))\n",
    "ax5.scatter(next_data.iloc[:,6], pd.DataFrame(predicted).iloc[:,4], s= 2)\n",
    "ax5.set_xlabel('ay_real')\n",
    "ax5.set_ylabel('ay_pred')\n",
    "#ax5.set_xlim((-2.5, 2.5))\n",
    "#ax5.set_ylim((-2.5, 2.5))\n",
    "ax6.scatter(next_data.iloc[:,7], pd.DataFrame(predicted).iloc[:,5], s= 2)\n",
    "ax6.set_xlabel('az_real')\n",
    "ax6.set_ylabel('az_pred')\n",
    "#ax6.set_xlim((-2.5, 2.5))\n",
    "#ax6.set_ylim((-2.5, 2.5))\n",
    "\n",
    "plt.subplots_adjust(wspace = 1, hspace = 0.5)\n",
    "plt.show()"
   ]
  },
  {
   "cell_type": "code",
   "execution_count": null,
   "metadata": {},
   "outputs": [],
   "source": []
  }
 ],
 "metadata": {
  "kernelspec": {
   "display_name": "Python 3",
   "language": "python",
   "name": "python3"
  },
  "language_info": {
   "codemirror_mode": {
    "name": "ipython",
    "version": 3
   },
   "file_extension": ".py",
   "mimetype": "text/x-python",
   "name": "python",
   "nbconvert_exporter": "python",
   "pygments_lexer": "ipython3",
   "version": "3.6.5"
  }
 },
 "nbformat": 4,
 "nbformat_minor": 2
}
