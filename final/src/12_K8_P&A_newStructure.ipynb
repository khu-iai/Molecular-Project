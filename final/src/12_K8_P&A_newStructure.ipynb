{
 "cells": [
  {
   "cell_type": "code",
   "execution_count": 1,
   "metadata": {},
   "outputs": [
    {
     "name": "stderr",
     "output_type": "stream",
     "text": [
      "Using TensorFlow backend.\n"
     ]
    }
   ],
   "source": [
    "import numpy as np\n",
    "import pandas as pd\n",
    "import matplotlib.pyplot as plt\n",
    "from sklearn.model_selection import train_test_split, KFold\n",
    "from sklearn.metrics import mean_squared_error, r2_score, mean_absolute_error\n",
    "from sklearn.neighbors import NearestNeighbors\n",
    "from sklearn.preprocessing import scale, StandardScaler\n",
    "\n",
    "from keras.models import Sequential, Model\n",
    "from keras.layers import Dense, Dropout, Input, concatenate\n",
    "from keras.layers.normalization import BatchNormalization\n",
    "from keras.initializers import Initializer\n",
    "from keras import regularizers\n",
    "from keras.callbacks import EarlyStopping, ModelCheckpoint\n",
    "from keras.models import load_model\n",
    "import seaborn as sns\n"
   ]
  },
  {
   "cell_type": "code",
   "execution_count": 44,
   "metadata": {},
   "outputs": [],
   "source": [
    "raw_data = pd.read_csv('./data/ordered_molecules.csv')"
   ]
  },
  {
   "cell_type": "code",
   "execution_count": 45,
   "metadata": {},
   "outputs": [
    {
     "data": {
      "text/html": [
       "<div>\n",
       "<style scoped>\n",
       "    .dataframe tbody tr th:only-of-type {\n",
       "        vertical-align: middle;\n",
       "    }\n",
       "\n",
       "    .dataframe tbody tr th {\n",
       "        vertical-align: top;\n",
       "    }\n",
       "\n",
       "    .dataframe thead th {\n",
       "        text-align: right;\n",
       "    }\n",
       "</style>\n",
       "<table border=\"1\" class=\"dataframe\">\n",
       "  <thead>\n",
       "    <tr style=\"text-align: right;\">\n",
       "      <th></th>\n",
       "      <th>time</th>\n",
       "      <th>molecule</th>\n",
       "      <th>px</th>\n",
       "      <th>py</th>\n",
       "      <th>pz</th>\n",
       "      <th>ax</th>\n",
       "      <th>ay</th>\n",
       "      <th>az</th>\n",
       "    </tr>\n",
       "  </thead>\n",
       "  <tbody>\n",
       "    <tr>\n",
       "      <th>255995</th>\n",
       "      <td>1999</td>\n",
       "      <td>124</td>\n",
       "      <td>10.61230</td>\n",
       "      <td>9.20293</td>\n",
       "      <td>8.07598</td>\n",
       "      <td>-1.025038</td>\n",
       "      <td>3.645025</td>\n",
       "      <td>-1.280867</td>\n",
       "    </tr>\n",
       "    <tr>\n",
       "      <th>255996</th>\n",
       "      <td>1999</td>\n",
       "      <td>125</td>\n",
       "      <td>12.28148</td>\n",
       "      <td>7.63805</td>\n",
       "      <td>8.68123</td>\n",
       "      <td>3.634594</td>\n",
       "      <td>-3.766582</td>\n",
       "      <td>-2.338953</td>\n",
       "    </tr>\n",
       "    <tr>\n",
       "      <th>255997</th>\n",
       "      <td>1999</td>\n",
       "      <td>126</td>\n",
       "      <td>6.03300</td>\n",
       "      <td>12.81292</td>\n",
       "      <td>6.05135</td>\n",
       "      <td>2.307742</td>\n",
       "      <td>5.650190</td>\n",
       "      <td>5.404642</td>\n",
       "    </tr>\n",
       "    <tr>\n",
       "      <th>255998</th>\n",
       "      <td>1999</td>\n",
       "      <td>127</td>\n",
       "      <td>9.50306</td>\n",
       "      <td>10.44102</td>\n",
       "      <td>9.99912</td>\n",
       "      <td>1.395564</td>\n",
       "      <td>-1.232665</td>\n",
       "      <td>-0.779073</td>\n",
       "    </tr>\n",
       "    <tr>\n",
       "      <th>255999</th>\n",
       "      <td>1999</td>\n",
       "      <td>128</td>\n",
       "      <td>12.01283</td>\n",
       "      <td>11.18948</td>\n",
       "      <td>11.90577</td>\n",
       "      <td>-0.730089</td>\n",
       "      <td>-1.992210</td>\n",
       "      <td>-0.056095</td>\n",
       "    </tr>\n",
       "  </tbody>\n",
       "</table>\n",
       "</div>"
      ],
      "text/plain": [
       "        time  molecule        px        py        pz        ax        ay  \\\n",
       "255995  1999       124  10.61230   9.20293   8.07598 -1.025038  3.645025   \n",
       "255996  1999       125  12.28148   7.63805   8.68123  3.634594 -3.766582   \n",
       "255997  1999       126   6.03300  12.81292   6.05135  2.307742  5.650190   \n",
       "255998  1999       127   9.50306  10.44102   9.99912  1.395564 -1.232665   \n",
       "255999  1999       128  12.01283  11.18948  11.90577 -0.730089 -1.992210   \n",
       "\n",
       "              az  \n",
       "255995 -1.280867  \n",
       "255996 -2.338953  \n",
       "255997  5.404642  \n",
       "255998 -0.779073  \n",
       "255999 -0.056095  "
      ]
     },
     "execution_count": 45,
     "metadata": {},
     "output_type": "execute_result"
    }
   ],
   "source": [
    "raw_data.tail()"
   ]
  },
  {
   "cell_type": "code",
   "execution_count": 46,
   "metadata": {},
   "outputs": [],
   "source": [
    "def generate_data(t):\n",
    "    df = raw_data.loc[raw_data['time'] == t]\n",
    "    \n",
    "    px_plus = df.iloc[:,2] + 12.9168567587204\n",
    "    px_origin = df.iloc[:,2]\n",
    "    px_minus = df.iloc[:,2] - 12.9168567587204\n",
    "    \n",
    "    py_plus = df.iloc[:,3] + 12.9168567587204\n",
    "    py_origin = df.iloc[:,3]\n",
    "    py_minus = df.iloc[:,3] - 12.9168567587204\n",
    "    \n",
    "    pz_plus = df.iloc[:,4] + 12.9168567587204\n",
    "    pz_origin = df.iloc[:,4]\n",
    "    pz_minus = df.iloc[:,4] - 12.9168567587204\n",
    "    \n",
    "    #plus\n",
    "    data_mod_1 = pd.concat((px_plus.reset_index(drop=True), py_origin.reset_index(drop=True), pz_origin.reset_index(drop=True)), axis = 1)\n",
    "    data_mod_2 = pd.concat((px_origin.reset_index(drop=True), py_plus.reset_index(drop=True), pz_origin.reset_index(drop=True)), axis = 1)\n",
    "    data_mod_3 = pd.concat((px_origin.reset_index(drop=True), py_origin.reset_index(drop=True), pz_plus.reset_index(drop=True)), axis = 1)\n",
    "    \n",
    "    data_mod_4 = pd.concat((px_plus.reset_index(drop=True), py_plus.reset_index(drop=True), pz_origin.reset_index(drop=True)), axis = 1)\n",
    "    data_mod_5 = pd.concat((px_plus.reset_index(drop=True), py_origin.reset_index(drop=True), pz_plus.reset_index(drop=True)), axis = 1)\n",
    "    data_mod_6 = pd.concat((px_origin.reset_index(drop=True), py_plus.reset_index(drop=True), pz_plus.reset_index(drop=True)), axis = 1)\n",
    "    \n",
    "    data_mod_7 = pd.concat((px_plus.reset_index(drop=True), py_plus.reset_index(drop=True), pz_plus.reset_index(drop=True)), axis = 1)\n",
    "    \n",
    "    #minus\n",
    "    data_mod_8 = pd.concat((px_minus.reset_index(drop=True), py_origin.reset_index(drop=True), pz_origin.reset_index(drop=True)), axis = 1)\n",
    "    data_mod_9 = pd.concat((px_origin.reset_index(drop=True), py_minus.reset_index(drop=True), pz_origin.reset_index(drop=True)), axis = 1)\n",
    "    data_mod_10 = pd.concat((px_origin.reset_index(drop=True), py_origin.reset_index(drop=True), pz_minus.reset_index(drop=True)), axis = 1)\n",
    "    \n",
    "    data_mod_11 = pd.concat((px_minus.reset_index(drop=True), py_minus.reset_index(drop=True), pz_origin.reset_index(drop=True)), axis = 1)\n",
    "    data_mod_12 = pd.concat((px_minus.reset_index(drop=True), py_origin.reset_index(drop=True), pz_minus.reset_index(drop=True)), axis = 1)\n",
    "    data_mod_13 = pd.concat((px_origin.reset_index(drop=True), py_minus.reset_index(drop=True), pz_minus.reset_index(drop=True)), axis = 1)\n",
    "    \n",
    "    data_mod_14 = pd.concat((px_minus.reset_index(drop=True), py_minus.reset_index(drop=True), pz_minus.reset_index(drop=True)), axis = 1)\n",
    "    \n",
    "    #plus + minus\n",
    "    data_mod_15 = pd.concat((px_origin.reset_index(drop=True), py_plus.reset_index(drop=True), pz_minus.reset_index(drop=True)), axis = 1)\n",
    "    data_mod_16 = pd.concat((px_origin.reset_index(drop=True), py_minus.reset_index(drop=True), pz_plus.reset_index(drop=True)), axis = 1)\n",
    "    \n",
    "    data_mod_17 = pd.concat((px_plus.reset_index(drop=True), py_minus.reset_index(drop=True), pz_origin.reset_index(drop=True)), axis = 1)\n",
    "    data_mod_18 = pd.concat((px_minus.reset_index(drop=True), py_plus.reset_index(drop=True), pz_origin.reset_index(drop=True)), axis = 1)\n",
    "    \n",
    "    data_mod_19 = pd.concat((px_plus.reset_index(drop=True), py_origin.reset_index(drop=True), pz_minus.reset_index(drop=True)), axis = 1)\n",
    "    data_mod_20 = pd.concat((px_minus.reset_index(drop=True), py_origin.reset_index(drop=True), pz_plus.reset_index(drop=True)), axis = 1)\n",
    "    \n",
    "    #3\n",
    "    data_mod_21 = pd.concat((px_plus.reset_index(drop=True), py_minus.reset_index(drop=True), pz_plus.reset_index(drop=True)), axis = 1)\n",
    "    data_mod_22 = pd.concat((px_plus.reset_index(drop=True), py_minus.reset_index(drop=True), pz_minus.reset_index(drop=True)), axis = 1)\n",
    "    \n",
    "    data_mod_23 = pd.concat((px_minus.reset_index(drop=True), py_plus.reset_index(drop=True), pz_plus.reset_index(drop=True)), axis = 1)\n",
    "    data_mod_24 = pd.concat((px_minus.reset_index(drop=True), py_minus.reset_index(drop=True), pz_plus.reset_index(drop=True)), axis = 1)\n",
    "    \n",
    "    data_mod_25 = pd.concat((px_plus.reset_index(drop=True), py_minus.reset_index(drop=True), pz_minus.reset_index(drop=True)), axis = 1)\n",
    "    data_mod_26 = pd.concat((px_minus.reset_index(drop=True), py_plus.reset_index(drop=True), pz_minus.reset_index(drop=True)), axis = 1)\n",
    "    \n",
    "    data_mod_27 = pd.concat((px_origin.reset_index(drop=True), py_origin.reset_index(drop=True), pz_origin.reset_index(drop=True)), axis = 1)\n",
    "    \n",
    "    combined_df = pd.concat([data_mod_27.reset_index(drop=True), data_mod_1.reset_index(drop=True), data_mod_2.reset_index(drop=True), data_mod_3.reset_index(drop=True), \n",
    "                           data_mod_4.reset_index(drop=True), data_mod_5.reset_index(drop=True), data_mod_6.reset_index(drop=True), data_mod_7.reset_index(drop=True), \n",
    "                           data_mod_8.reset_index(drop=True), data_mod_9.reset_index(drop=True), data_mod_10.reset_index(drop=True), data_mod_11.reset_index(drop=True),\n",
    "                           data_mod_12.reset_index(drop=True), data_mod_13.reset_index(drop=True), data_mod_14.reset_index(drop=True), data_mod_15.reset_index(drop=True),\n",
    "                           data_mod_16.reset_index(drop=True), data_mod_17.reset_index(drop=True), data_mod_18.reset_index(drop=True), data_mod_19.reset_index(drop=True),\n",
    "                           data_mod_20.reset_index(drop=True), data_mod_21.reset_index(drop=True), data_mod_22.reset_index(drop=True), data_mod_23.reset_index(drop=True),\n",
    "                           data_mod_24.reset_index(drop=True), data_mod_25.reset_index(drop=True), data_mod_26.reset_index(drop=True)], axis = 0, ignore_index = True)\n",
    "    \n",
    "    \n",
    "    df_acc = pd.concat([df.iloc[:,5:].reset_index(drop=True), df.iloc[:,5:].reset_index(drop=True),df.iloc[:,5:].reset_index(drop=True),df.iloc[:,5:].reset_index(drop=True),\n",
    "                        df.iloc[:,5:].reset_index(drop=True),df.iloc[:,5:].reset_index(drop=True),df.iloc[:,5:].reset_index(drop=True),df.iloc[:,5:].reset_index(drop=True),\n",
    "                        df.iloc[:,5:].reset_index(drop=True),df.iloc[:,5:].reset_index(drop=True),df.iloc[:,5:].reset_index(drop=True),df.iloc[:,5:].reset_index(drop=True),\n",
    "                        df.iloc[:,5:].reset_index(drop=True),df.iloc[:,5:].reset_index(drop=True),df.iloc[:,5:].reset_index(drop=True),df.iloc[:,5:].reset_index(drop=True),\n",
    "                        df.iloc[:,5:].reset_index(drop=True),df.iloc[:,5:].reset_index(drop=True),df.iloc[:,5:].reset_index(drop=True),df.iloc[:,5:].reset_index(drop=True),\n",
    "                        df.iloc[:,5:].reset_index(drop=True),df.iloc[:,5:].reset_index(drop=True),df.iloc[:,5:].reset_index(drop=True),df.iloc[:,5:].reset_index(drop=True),\n",
    "                        df.iloc[:,5:].reset_index(drop=True),df.iloc[:,5:].reset_index(drop=True),df.iloc[:,5:].reset_index(drop=True)], axis = 0, ignore_index = True)\n",
    "    \n",
    "    mol_num = range(1,combined_df.shape[0]+1)\n",
    "    combined_df['molecule'] = mol_num\n",
    "    \n",
    "    result_df = pd.concat([df_acc.reset_index(drop=True), combined_df.reset_index(drop=True)], axis = 1, ignore_index = True)\n",
    "    result_df.columns = [\"ax\", \"ay\", \"az\", \"px\", \"py\", \"pz\", \"molecule\"]\n",
    "    \n",
    "    result_df = result_df[[\"molecule\", \"px\", \"py\", \"pz\", \"ax\", \"ay\", \"az\"]]\n",
    "    return(result_df)"
   ]
  },
  {
   "cell_type": "code",
   "execution_count": 47,
   "metadata": {},
   "outputs": [
    {
     "data": {
      "text/html": [
       "<div>\n",
       "<style scoped>\n",
       "    .dataframe tbody tr th:only-of-type {\n",
       "        vertical-align: middle;\n",
       "    }\n",
       "\n",
       "    .dataframe tbody tr th {\n",
       "        vertical-align: top;\n",
       "    }\n",
       "\n",
       "    .dataframe thead th {\n",
       "        text-align: right;\n",
       "    }\n",
       "</style>\n",
       "<table border=\"1\" class=\"dataframe\">\n",
       "  <thead>\n",
       "    <tr style=\"text-align: right;\">\n",
       "      <th></th>\n",
       "      <th>molecule</th>\n",
       "      <th>px</th>\n",
       "      <th>py</th>\n",
       "      <th>pz</th>\n",
       "      <th>ax</th>\n",
       "      <th>ay</th>\n",
       "      <th>az</th>\n",
       "    </tr>\n",
       "  </thead>\n",
       "  <tbody>\n",
       "    <tr>\n",
       "      <th>3451</th>\n",
       "      <td>3452</td>\n",
       "      <td>-2.282917</td>\n",
       "      <td>23.957887</td>\n",
       "      <td>-8.189287</td>\n",
       "      <td>2.826494</td>\n",
       "      <td>0.120729</td>\n",
       "      <td>3.561412</td>\n",
       "    </tr>\n",
       "    <tr>\n",
       "      <th>3452</th>\n",
       "      <td>3453</td>\n",
       "      <td>-3.424287</td>\n",
       "      <td>22.244557</td>\n",
       "      <td>-6.353907</td>\n",
       "      <td>0.540960</td>\n",
       "      <td>2.726446</td>\n",
       "      <td>-0.040251</td>\n",
       "    </tr>\n",
       "    <tr>\n",
       "      <th>3453</th>\n",
       "      <td>3454</td>\n",
       "      <td>-1.724537</td>\n",
       "      <td>24.117957</td>\n",
       "      <td>-5.084297</td>\n",
       "      <td>0.363945</td>\n",
       "      <td>-0.033185</td>\n",
       "      <td>0.824533</td>\n",
       "    </tr>\n",
       "    <tr>\n",
       "      <th>3454</th>\n",
       "      <td>3455</td>\n",
       "      <td>-2.970927</td>\n",
       "      <td>22.454267</td>\n",
       "      <td>-3.323367</td>\n",
       "      <td>-0.612577</td>\n",
       "      <td>1.925591</td>\n",
       "      <td>-0.319277</td>\n",
       "    </tr>\n",
       "    <tr>\n",
       "      <th>3455</th>\n",
       "      <td>3456</td>\n",
       "      <td>-1.005977</td>\n",
       "      <td>24.060017</td>\n",
       "      <td>-1.581507</td>\n",
       "      <td>-3.718706</td>\n",
       "      <td>0.246769</td>\n",
       "      <td>-1.344216</td>\n",
       "    </tr>\n",
       "  </tbody>\n",
       "</table>\n",
       "</div>"
      ],
      "text/plain": [
       "      molecule        px         py        pz        ax        ay        az\n",
       "3451      3452 -2.282917  23.957887 -8.189287  2.826494  0.120729  3.561412\n",
       "3452      3453 -3.424287  22.244557 -6.353907  0.540960  2.726446 -0.040251\n",
       "3453      3454 -1.724537  24.117957 -5.084297  0.363945 -0.033185  0.824533\n",
       "3454      3455 -2.970927  22.454267 -3.323367 -0.612577  1.925591 -0.319277\n",
       "3455      3456 -1.005977  24.060017 -1.581507 -3.718706  0.246769 -1.344216"
      ]
     },
     "execution_count": 47,
     "metadata": {},
     "output_type": "execute_result"
    }
   ],
   "source": [
    "generate_data(0).tail()"
   ]
  },
  {
   "cell_type": "code",
   "execution_count": 48,
   "metadata": {},
   "outputs": [],
   "source": [
    "def find_neighbors(t):\n",
    "    df_gen = generate_data(t)\n",
    "    \n",
    "    k = 9\n",
    "    nbrs = NearestNeighbors(n_neighbors=k, algorithm='brute').fit(df_gen)\n",
    "    distances, indices = nbrs.kneighbors(df_gen)\n",
    "    \n",
    "    return(k, df_gen, indices[:128], distances[:128])"
   ]
  },
  {
   "cell_type": "code",
   "execution_count": 49,
   "metadata": {},
   "outputs": [],
   "source": [
    "def make_df(t):\n",
    "    t_df = raw_data.loc[raw_data['time']==t]\n",
    "    t_plus_1_df = raw_data.loc[raw_data['time']==t+1]\n",
    "    \n",
    "    acc_t_plus_1 = t_plus_1_df.iloc[:,5:]\n",
    "    delta_position = pd.DataFrame(np.array(t_plus_1_df.iloc[:,2:5]) - np.array(t_df.iloc[:,2:5]), columns=['dlt_px','dlt_py','dlt_pz'])\n",
    "    \n",
    "    k, df_gen, indices, dist = find_neighbors(t)\n",
    "    \n",
    "    li = []\n",
    "    for i in range(0,indices.shape[0]):\n",
    "        rows = []\n",
    "        for j in range(1,k):\n",
    "            row = df_gen.loc[df_gen['molecule'] == (indices[i][j]+1)]\n",
    "            row_rp = row.iloc[:,1:4] - t_df.iloc[i,2:5]\n",
    "            row_acc = pd.DataFrame(np.array(row.iloc[:,4:]) / dist[i][j])\n",
    "            \n",
    "            row_combined = np.array(pd.concat([row_rp.reset_index(drop=True), row_acc.reset_index(drop=True)], axis = 1))\n",
    "            rows.append(row_combined)\n",
    "        \n",
    "        li.append(np.array(rows).ravel())\n",
    "    \n",
    "    acc_df = t_df[['time','ax','ay','az']]\n",
    "    neighbors_df = pd.DataFrame(li)\n",
    "    acc_t_plus_1.columns = ['next_ax','next_ay','next_az']\n",
    "    \n",
    "    df_made = pd.concat([acc_df.reset_index(drop=True), neighbors_df.reset_index(drop=True), \n",
    "                         delta_position.reset_index(drop=True), acc_t_plus_1.reset_index(drop=True)], axis = 1)\n",
    "    \n",
    "    return(df_made)"
   ]
  },
  {
   "cell_type": "code",
   "execution_count": 9,
   "metadata": {},
   "outputs": [],
   "source": [
    "#make whole dataset\n",
    "final_data = make_df(0)\n",
    "\n",
    "for t in range(1,1999):\n",
    "    df_part = make_df(t)\n",
    "    final_data = pd.concat([final_data, df_part], axis = 0, ignore_index=True)"
   ]
  },
  {
   "cell_type": "code",
   "execution_count": null,
   "metadata": {},
   "outputs": [],
   "source": [
    "make_df(0)"
   ]
  },
  {
   "cell_type": "code",
   "execution_count": 79,
   "metadata": {},
   "outputs": [
    {
     "data": {
      "text/html": [
       "<div>\n",
       "<style scoped>\n",
       "    .dataframe tbody tr th:only-of-type {\n",
       "        vertical-align: middle;\n",
       "    }\n",
       "\n",
       "    .dataframe tbody tr th {\n",
       "        vertical-align: top;\n",
       "    }\n",
       "\n",
       "    .dataframe thead th {\n",
       "        text-align: right;\n",
       "    }\n",
       "</style>\n",
       "<table border=\"1\" class=\"dataframe\">\n",
       "  <thead>\n",
       "    <tr style=\"text-align: right;\">\n",
       "      <th></th>\n",
       "      <th>time</th>\n",
       "      <th>ax</th>\n",
       "      <th>ay</th>\n",
       "      <th>az</th>\n",
       "      <th>0</th>\n",
       "      <th>1</th>\n",
       "      <th>2</th>\n",
       "      <th>3</th>\n",
       "      <th>4</th>\n",
       "      <th>5</th>\n",
       "      <th>...</th>\n",
       "      <th>44</th>\n",
       "      <th>45</th>\n",
       "      <th>46</th>\n",
       "      <th>47</th>\n",
       "      <th>dlt_px</th>\n",
       "      <th>dlt_py</th>\n",
       "      <th>dlt_pz</th>\n",
       "      <th>next_ax</th>\n",
       "      <th>next_ay</th>\n",
       "      <th>next_az</th>\n",
       "    </tr>\n",
       "  </thead>\n",
       "  <tbody>\n",
       "    <tr>\n",
       "      <th>255867</th>\n",
       "      <td>1998</td>\n",
       "      <td>-1.117306</td>\n",
       "      <td>3.729599</td>\n",
       "      <td>-1.309010</td>\n",
       "      <td>-1.11728</td>\n",
       "      <td>1.23271</td>\n",
       "      <td>1.93306</td>\n",
       "      <td>0.237879</td>\n",
       "      <td>-0.160086</td>\n",
       "      <td>-0.135830</td>\n",
       "      <td>...</td>\n",
       "      <td>-7.90545</td>\n",
       "      <td>-0.505162</td>\n",
       "      <td>-0.084367</td>\n",
       "      <td>-0.224528</td>\n",
       "      <td>-0.00663</td>\n",
       "      <td>0.00362</td>\n",
       "      <td>0.00284</td>\n",
       "      <td>-1.025038</td>\n",
       "      <td>3.645025</td>\n",
       "      <td>-1.280867</td>\n",
       "    </tr>\n",
       "    <tr>\n",
       "      <th>255868</th>\n",
       "      <td>1998</td>\n",
       "      <td>3.562240</td>\n",
       "      <td>-3.790684</td>\n",
       "      <td>-2.208148</td>\n",
       "      <td>-2.78356</td>\n",
       "      <td>2.79630</td>\n",
       "      <td>1.33114</td>\n",
       "      <td>0.277607</td>\n",
       "      <td>-0.186822</td>\n",
       "      <td>-0.158515</td>\n",
       "      <td>...</td>\n",
       "      <td>-7.15338</td>\n",
       "      <td>0.396960</td>\n",
       "      <td>-0.242948</td>\n",
       "      <td>0.197936</td>\n",
       "      <td>-0.00373</td>\n",
       "      <td>0.00233</td>\n",
       "      <td>0.00617</td>\n",
       "      <td>3.634594</td>\n",
       "      <td>-3.766582</td>\n",
       "      <td>-2.338953</td>\n",
       "    </tr>\n",
       "    <tr>\n",
       "      <th>255869</th>\n",
       "      <td>1998</td>\n",
       "      <td>1.966739</td>\n",
       "      <td>5.790018</td>\n",
       "      <td>5.545910</td>\n",
       "      <td>4.58574</td>\n",
       "      <td>-3.60994</td>\n",
       "      <td>2.02446</td>\n",
       "      <td>-0.110142</td>\n",
       "      <td>0.367657</td>\n",
       "      <td>-0.129040</td>\n",
       "      <td>...</td>\n",
       "      <td>-0.80648</td>\n",
       "      <td>-0.077386</td>\n",
       "      <td>0.048067</td>\n",
       "      <td>0.211089</td>\n",
       "      <td>-0.00019</td>\n",
       "      <td>0.00367</td>\n",
       "      <td>0.00267</td>\n",
       "      <td>2.307742</td>\n",
       "      <td>5.650190</td>\n",
       "      <td>5.404642</td>\n",
       "    </tr>\n",
       "    <tr>\n",
       "      <th>255870</th>\n",
       "      <td>1998</td>\n",
       "      <td>1.619934</td>\n",
       "      <td>-1.090169</td>\n",
       "      <td>-0.924991</td>\n",
       "      <td>2.50430</td>\n",
       "      <td>0.75071</td>\n",
       "      <td>1.88872</td>\n",
       "      <td>-0.141009</td>\n",
       "      <td>-0.452479</td>\n",
       "      <td>0.009933</td>\n",
       "      <td>...</td>\n",
       "      <td>-3.95752</td>\n",
       "      <td>0.176852</td>\n",
       "      <td>0.520645</td>\n",
       "      <td>0.498695</td>\n",
       "      <td>0.00141</td>\n",
       "      <td>0.00900</td>\n",
       "      <td>-0.00708</td>\n",
       "      <td>1.395564</td>\n",
       "      <td>-1.232665</td>\n",
       "      <td>-0.779073</td>\n",
       "    </tr>\n",
       "    <tr>\n",
       "      <th>255871</th>\n",
       "      <td>1998</td>\n",
       "      <td>-0.597181</td>\n",
       "      <td>-1.916267</td>\n",
       "      <td>0.042068</td>\n",
       "      <td>-2.50430</td>\n",
       "      <td>-0.75071</td>\n",
       "      <td>-1.88872</td>\n",
       "      <td>0.382507</td>\n",
       "      <td>-0.257416</td>\n",
       "      <td>-0.218414</td>\n",
       "      <td>...</td>\n",
       "      <td>-7.81960</td>\n",
       "      <td>-0.494961</td>\n",
       "      <td>0.294826</td>\n",
       "      <td>-0.059732</td>\n",
       "      <td>0.00688</td>\n",
       "      <td>0.00675</td>\n",
       "      <td>0.01085</td>\n",
       "      <td>-0.730089</td>\n",
       "      <td>-1.992210</td>\n",
       "      <td>-0.056095</td>\n",
       "    </tr>\n",
       "  </tbody>\n",
       "</table>\n",
       "<p>5 rows × 58 columns</p>\n",
       "</div>"
      ],
      "text/plain": [
       "        time        ax        ay        az        0        1        2  \\\n",
       "255867  1998 -1.117306  3.729599 -1.309010 -1.11728  1.23271  1.93306   \n",
       "255868  1998  3.562240 -3.790684 -2.208148 -2.78356  2.79630  1.33114   \n",
       "255869  1998  1.966739  5.790018  5.545910  4.58574 -3.60994  2.02446   \n",
       "255870  1998  1.619934 -1.090169 -0.924991  2.50430  0.75071  1.88872   \n",
       "255871  1998 -0.597181 -1.916267  0.042068 -2.50430 -0.75071 -1.88872   \n",
       "\n",
       "               3         4         5    ...          44        45        46  \\\n",
       "255867  0.237879 -0.160086 -0.135830    ...    -7.90545 -0.505162 -0.084367   \n",
       "255868  0.277607 -0.186822 -0.158515    ...    -7.15338  0.396960 -0.242948   \n",
       "255869 -0.110142  0.367657 -0.129040    ...    -0.80648 -0.077386  0.048067   \n",
       "255870 -0.141009 -0.452479  0.009933    ...    -3.95752  0.176852  0.520645   \n",
       "255871  0.382507 -0.257416 -0.218414    ...    -7.81960 -0.494961  0.294826   \n",
       "\n",
       "              47   dlt_px   dlt_py   dlt_pz   next_ax   next_ay   next_az  \n",
       "255867 -0.224528 -0.00663  0.00362  0.00284 -1.025038  3.645025 -1.280867  \n",
       "255868  0.197936 -0.00373  0.00233  0.00617  3.634594 -3.766582 -2.338953  \n",
       "255869  0.211089 -0.00019  0.00367  0.00267  2.307742  5.650190  5.404642  \n",
       "255870  0.498695  0.00141  0.00900 -0.00708  1.395564 -1.232665 -0.779073  \n",
       "255871 -0.059732  0.00688  0.00675  0.01085 -0.730089 -1.992210 -0.056095  \n",
       "\n",
       "[5 rows x 58 columns]"
      ]
     },
     "execution_count": 79,
     "metadata": {},
     "output_type": "execute_result"
    }
   ],
   "source": [
    "final_data.tail()"
   ]
  },
  {
   "cell_type": "code",
   "execution_count": 192,
   "metadata": {},
   "outputs": [
    {
     "data": {
      "text/plain": [
       "[<matplotlib.lines.Line2D at 0x7fa9a2dbbc50>]"
      ]
     },
     "execution_count": 192,
     "metadata": {},
     "output_type": "execute_result"
    },
    {
     "data": {
      "image/png": "[encoded data removed]",
      "text/plain": [
       "<Figure size 432x288 with 1 Axes>"
      ]
     },
     "metadata": {},
     "output_type": "display_data"
    }
   ],
   "source": [
    "plt.plot(final_data['dlt_px'])"
   ]
  },
  {
   "cell_type": "code",
   "execution_count": 11,
   "metadata": {},
   "outputs": [],
   "source": [
    "##########################################################\n",
    "################# save dataframe #########################\n",
    "#final_data.to_csv('./data/KNN_8_P_A.csv', index = False)"
   ]
  },
  {
   "cell_type": "markdown",
   "metadata": {},
   "source": [
    "## **Read Data**"
   ]
  },
  {
   "cell_type": "code",
   "execution_count": 28,
   "metadata": {},
   "outputs": [],
   "source": [
    "final_data = pd.read_csv('./data/KNN_8_P_A.csv')"
   ]
  },
  {
   "cell_type": "code",
   "execution_count": 29,
   "metadata": {},
   "outputs": [
    {
     "data": {
      "text/html": [
       "<div>\n",
       "<style scoped>\n",
       "    .dataframe tbody tr th:only-of-type {\n",
       "        vertical-align: middle;\n",
       "    }\n",
       "\n",
       "    .dataframe tbody tr th {\n",
       "        vertical-align: top;\n",
       "    }\n",
       "\n",
       "    .dataframe thead th {\n",
       "        text-align: right;\n",
       "    }\n",
       "</style>\n",
       "<table border=\"1\" class=\"dataframe\">\n",
       "  <thead>\n",
       "    <tr style=\"text-align: right;\">\n",
       "      <th></th>\n",
       "      <th>time</th>\n",
       "      <th>ax</th>\n",
       "      <th>ay</th>\n",
       "      <th>az</th>\n",
       "      <th>0</th>\n",
       "      <th>1</th>\n",
       "      <th>2</th>\n",
       "      <th>3</th>\n",
       "      <th>4</th>\n",
       "      <th>5</th>\n",
       "      <th>...</th>\n",
       "      <th>44</th>\n",
       "      <th>45</th>\n",
       "      <th>46</th>\n",
       "      <th>47</th>\n",
       "      <th>dlt_px</th>\n",
       "      <th>dlt_py</th>\n",
       "      <th>dlt_pz</th>\n",
       "      <th>next_ax</th>\n",
       "      <th>next_ay</th>\n",
       "      <th>next_az</th>\n",
       "    </tr>\n",
       "  </thead>\n",
       "  <tbody>\n",
       "    <tr>\n",
       "      <th>255867</th>\n",
       "      <td>1998</td>\n",
       "      <td>-1.117306</td>\n",
       "      <td>3.729599</td>\n",
       "      <td>-1.309010</td>\n",
       "      <td>-1.11728</td>\n",
       "      <td>1.23271</td>\n",
       "      <td>1.93306</td>\n",
       "      <td>0.237879</td>\n",
       "      <td>-0.160086</td>\n",
       "      <td>-0.135830</td>\n",
       "      <td>...</td>\n",
       "      <td>-7.90545</td>\n",
       "      <td>-0.505162</td>\n",
       "      <td>-0.084367</td>\n",
       "      <td>-0.224528</td>\n",
       "      <td>-0.00663</td>\n",
       "      <td>0.00362</td>\n",
       "      <td>0.00284</td>\n",
       "      <td>-1.025038</td>\n",
       "      <td>3.645025</td>\n",
       "      <td>-1.280867</td>\n",
       "    </tr>\n",
       "    <tr>\n",
       "      <th>255868</th>\n",
       "      <td>1998</td>\n",
       "      <td>3.562240</td>\n",
       "      <td>-3.790684</td>\n",
       "      <td>-2.208148</td>\n",
       "      <td>-2.78356</td>\n",
       "      <td>2.79630</td>\n",
       "      <td>1.33114</td>\n",
       "      <td>0.277607</td>\n",
       "      <td>-0.186822</td>\n",
       "      <td>-0.158515</td>\n",
       "      <td>...</td>\n",
       "      <td>-7.15338</td>\n",
       "      <td>0.396960</td>\n",
       "      <td>-0.242948</td>\n",
       "      <td>0.197936</td>\n",
       "      <td>-0.00373</td>\n",
       "      <td>0.00233</td>\n",
       "      <td>0.00617</td>\n",
       "      <td>3.634594</td>\n",
       "      <td>-3.766582</td>\n",
       "      <td>-2.338953</td>\n",
       "    </tr>\n",
       "    <tr>\n",
       "      <th>255869</th>\n",
       "      <td>1998</td>\n",
       "      <td>1.966739</td>\n",
       "      <td>5.790018</td>\n",
       "      <td>5.545910</td>\n",
       "      <td>4.58574</td>\n",
       "      <td>-3.60994</td>\n",
       "      <td>2.02446</td>\n",
       "      <td>-0.110142</td>\n",
       "      <td>0.367657</td>\n",
       "      <td>-0.129040</td>\n",
       "      <td>...</td>\n",
       "      <td>-0.80648</td>\n",
       "      <td>-0.077386</td>\n",
       "      <td>0.048067</td>\n",
       "      <td>0.211089</td>\n",
       "      <td>-0.00019</td>\n",
       "      <td>0.00367</td>\n",
       "      <td>0.00267</td>\n",
       "      <td>2.307742</td>\n",
       "      <td>5.650190</td>\n",
       "      <td>5.404642</td>\n",
       "    </tr>\n",
       "    <tr>\n",
       "      <th>255870</th>\n",
       "      <td>1998</td>\n",
       "      <td>1.619934</td>\n",
       "      <td>-1.090169</td>\n",
       "      <td>-0.924991</td>\n",
       "      <td>2.50430</td>\n",
       "      <td>0.75071</td>\n",
       "      <td>1.88872</td>\n",
       "      <td>-0.141009</td>\n",
       "      <td>-0.452479</td>\n",
       "      <td>0.009933</td>\n",
       "      <td>...</td>\n",
       "      <td>-3.95752</td>\n",
       "      <td>0.176852</td>\n",
       "      <td>0.520645</td>\n",
       "      <td>0.498695</td>\n",
       "      <td>0.00141</td>\n",
       "      <td>0.00900</td>\n",
       "      <td>-0.00708</td>\n",
       "      <td>1.395564</td>\n",
       "      <td>-1.232665</td>\n",
       "      <td>-0.779073</td>\n",
       "    </tr>\n",
       "    <tr>\n",
       "      <th>255871</th>\n",
       "      <td>1998</td>\n",
       "      <td>-0.597181</td>\n",
       "      <td>-1.916267</td>\n",
       "      <td>0.042068</td>\n",
       "      <td>-2.50430</td>\n",
       "      <td>-0.75071</td>\n",
       "      <td>-1.88872</td>\n",
       "      <td>0.382507</td>\n",
       "      <td>-0.257416</td>\n",
       "      <td>-0.218414</td>\n",
       "      <td>...</td>\n",
       "      <td>-7.81960</td>\n",
       "      <td>-0.494961</td>\n",
       "      <td>0.294826</td>\n",
       "      <td>-0.059732</td>\n",
       "      <td>0.00688</td>\n",
       "      <td>0.00675</td>\n",
       "      <td>0.01085</td>\n",
       "      <td>-0.730089</td>\n",
       "      <td>-1.992210</td>\n",
       "      <td>-0.056095</td>\n",
       "    </tr>\n",
       "  </tbody>\n",
       "</table>\n",
       "<p>5 rows × 58 columns</p>\n",
       "</div>"
      ],
      "text/plain": [
       "        time        ax        ay        az        0        1        2  \\\n",
       "255867  1998 -1.117306  3.729599 -1.309010 -1.11728  1.23271  1.93306   \n",
       "255868  1998  3.562240 -3.790684 -2.208148 -2.78356  2.79630  1.33114   \n",
       "255869  1998  1.966739  5.790018  5.545910  4.58574 -3.60994  2.02446   \n",
       "255870  1998  1.619934 -1.090169 -0.924991  2.50430  0.75071  1.88872   \n",
       "255871  1998 -0.597181 -1.916267  0.042068 -2.50430 -0.75071 -1.88872   \n",
       "\n",
       "               3         4         5    ...          44        45        46  \\\n",
       "255867  0.237879 -0.160086 -0.135830    ...    -7.90545 -0.505162 -0.084367   \n",
       "255868  0.277607 -0.186822 -0.158515    ...    -7.15338  0.396960 -0.242948   \n",
       "255869 -0.110142  0.367657 -0.129040    ...    -0.80648 -0.077386  0.048067   \n",
       "255870 -0.141009 -0.452479  0.009933    ...    -3.95752  0.176852  0.520645   \n",
       "255871  0.382507 -0.257416 -0.218414    ...    -7.81960 -0.494961  0.294826   \n",
       "\n",
       "              47   dlt_px   dlt_py   dlt_pz   next_ax   next_ay   next_az  \n",
       "255867 -0.224528 -0.00663  0.00362  0.00284 -1.025038  3.645025 -1.280867  \n",
       "255868  0.197936 -0.00373  0.00233  0.00617  3.634594 -3.766582 -2.338953  \n",
       "255869  0.211089 -0.00019  0.00367  0.00267  2.307742  5.650190  5.404642  \n",
       "255870  0.498695  0.00141  0.00900 -0.00708  1.395564 -1.232665 -0.779073  \n",
       "255871 -0.059732  0.00688  0.00675  0.01085 -0.730089 -1.992210 -0.056095  \n",
       "\n",
       "[5 rows x 58 columns]"
      ]
     },
     "execution_count": 29,
     "metadata": {},
     "output_type": "execute_result"
    }
   ],
   "source": [
    "final_data.tail()"
   ]
  },
  {
   "cell_type": "code",
   "execution_count": 30,
   "metadata": {},
   "outputs": [],
   "source": [
    "exc_x_idx, = np.where(abs(final_data['dlt_px']) > 12)\n",
    "exc_y_idx, = np.where(abs(final_data['dlt_py']) > 12)\n",
    "exc_z_idx, = np.where(abs(final_data['dlt_pz']) > 12)\n",
    "\n",
    "exc_idx = set(exc_x_idx) | set(exc_y_idx) | set(exc_z_idx)\n",
    "\n",
    "final_data_modi = final_data.loc[final_data.index.drop(list(exc_idx))].reset_index(drop=True)"
   ]
  },
  {
   "cell_type": "code",
   "execution_count": 31,
   "metadata": {},
   "outputs": [],
   "source": [
    "x_train = final_data_modi.loc[(final_data_modi['time'] >= 0) & (final_data_modi['time'] <= 1399)].iloc[:,1:52]\n",
    "y_train = final_data_modi.loc[(final_data_modi['time'] >= 0) & (final_data_modi['time'] <= 1399)].iloc[:,52:]\n",
    "\n",
    "x_test = final_data_modi.loc[(final_data_modi['time'] >= 1400) & (final_data_modi['time'] <= 1998)].iloc[:,1:52]\n",
    "y_test = final_data_modi.loc[(final_data_modi['time'] >= 1400) & (final_data_modi['time'] <= 1998)].iloc[:,52:]"
   ]
  },
  {
   "cell_type": "code",
   "execution_count": 32,
   "metadata": {},
   "outputs": [
    {
     "name": "stderr",
     "output_type": "stream",
     "text": [
      "/usr/local/anaconda/envs/env_py3/lib/python3.6/site-packages/matplotlib/axes/_axes.py:6462: UserWarning: The 'normed' kwarg is deprecated, and has been replaced by the 'density' kwarg.\n",
      "  warnings.warn(\"The 'normed' kwarg is deprecated, and has been \"\n"
     ]
    },
    {
     "data": {
      "text/plain": [
       "<matplotlib.axes._subplots.AxesSubplot at 0x7fefba391a20>"
      ]
     },
     "execution_count": 32,
     "metadata": {},
     "output_type": "execute_result"
    },
    {
     "data": {
      "image/png": "[encoded data removed]",
      "text/plain": [
       "<Figure size 432x288 with 1 Axes>"
      ]
     },
     "metadata": {},
     "output_type": "display_data"
    }
   ],
   "source": [
    "sns.distplot(y_train['dlt_px'])"
   ]
  },
  {
   "cell_type": "code",
   "execution_count": 33,
   "metadata": {},
   "outputs": [
    {
     "name": "stderr",
     "output_type": "stream",
     "text": [
      "/usr/local/anaconda/envs/env_py3/lib/python3.6/site-packages/matplotlib/axes/_axes.py:6462: UserWarning: The 'normed' kwarg is deprecated, and has been replaced by the 'density' kwarg.\n",
      "  warnings.warn(\"The 'normed' kwarg is deprecated, and has been \"\n"
     ]
    },
    {
     "data": {
      "text/plain": [
       "<matplotlib.axes._subplots.AxesSubplot at 0x7fefba311630>"
      ]
     },
     "execution_count": 33,
     "metadata": {},
     "output_type": "execute_result"
    },
    {
     "data": {
      "image/png": "[encoded data removed]",
      "text/plain": [
       "<Figure size 432x288 with 1 Axes>"
      ]
     },
     "metadata": {},
     "output_type": "display_data"
    }
   ],
   "source": [
    "sns.distplot(y_test['dlt_px'])"
   ]
  },
  {
   "cell_type": "code",
   "execution_count": 34,
   "metadata": {},
   "outputs": [],
   "source": [
    "x_scaler = StandardScaler()\n",
    "y_scaler = StandardScaler()\n",
    "\n",
    "x_scaler.fit(x_train)\n",
    "y_scaler.fit(y_train)\n",
    "\n",
    "#Regularization\n",
    "x_train_scaled = pd.DataFrame(x_scaler.transform(x_train))\n",
    "y_train_scaled = pd.DataFrame(y_scaler.transform(y_train), columns=['dlt_x','dlt_y','dlt_z','ax_next','ay_next','az_next'])\n",
    "\n",
    "x_test_scaled = pd.DataFrame(x_scaler.transform(x_test))\n",
    "y_test_scaled = pd.DataFrame(y_scaler.transform(y_test), columns=['dlt_x','dlt_y','dlt_z','ax_next','ay_next','az_next'])\n"
   ]
  },
  {
   "cell_type": "code",
   "execution_count": null,
   "metadata": {},
   "outputs": [],
   "source": [
    "kernel_initializer."
   ]
  },
  {
   "cell_type": "code",
   "execution_count": 52,
   "metadata": {},
   "outputs": [],
   "source": [
    "#model 1\n",
    "\n",
    "acc_input = Input(shape=(3,), name='acc_input')\n",
    "x_acc = Dense(3, activation='relu', kernel_initializer='he_normal')(acc_input)\n",
    "BN_acc = BatchNormalization()(x_acc)\n",
    "acc_output = Dense(1, activation='linear', kernel_initializer='glorot_normal')(BN_acc)\n",
    "\n",
    "nearest_position_input = Input(shape = (24,), name='nearest_position_input')\n",
    "x_p = Dense(16, activation = 'relu', kernel_initializer='he_normal')(nearest_position_input)\n",
    "BN_p = BatchNormalization()(x_p)\n",
    "nearest_position_ouput = Dense(8, activation='linear', kernel_initializer='glorot_normal')(BN_p)\n",
    "\n",
    "nearest_acc_input = Input(shape = (24,), name='nearest_acc_input')\n",
    "x_acc_2 = Dense(16, activation = 'relu', kernel_initializer='he_normal')(nearest_acc_input)\n",
    "BN_acc_2 = BatchNormalization()(x_acc_2)\n",
    "nearest_acc_ouput = Dense(8, activation='linear', kernel_initializer='glorot_normal')(BN_acc_2)\n",
    "\n",
    "x_final_input = concatenate([acc_output, nearest_position_ouput, nearest_acc_ouput])\n",
    "x = Dense(18, activation = 'relu', kernel_initializer='he_normal')(x_final_input)\n",
    "x = BatchNormalization()(x)\n",
    "x = Dense(36, activation = 'relu', kernel_initializer='he_normal')(x)\n",
    "x = BatchNormalization()(x)\n",
    "x = Dense(36, activation = 'relu', kernel_initializer='he_normal')(x)\n",
    "x = BatchNormalization()(x)\n",
    "main_output = Dense(6, activation = 'linear', kernel_initializer='glorot_normal')(x)\n",
    "\n",
    "model_1 = Model(inputs=[acc_input, nearest_position_input, nearest_acc_input], outputs = main_output)\n",
    "\n",
    "early_stop = EarlyStopping(monitor='val_loss', patience=10, mode='min')\n",
    "model_check_point = ModelCheckpoint('./model/KNN_8_P_A.h5', monitor = 'val_loss', verbose=2, save_best_only=True)\n",
    "\n",
    "callback_list = [model_check_point, early_stop]"
   ]
  },
  {
   "cell_type": "code",
   "execution_count": 64,
   "metadata": {},
   "outputs": [
    {
     "ename": "IndexError",
     "evalue": "positional indexers are out-of-bounds",
     "output_type": "error",
     "traceback": [
      "\u001b[0;31m---------------------------------------------------------------------------\u001b[0m",
      "\u001b[0;31mIndexError\u001b[0m                                Traceback (most recent call last)",
      "\u001b[0;32m<ipython-input-64-258ff705edff>\u001b[0m in \u001b[0;36m<module>\u001b[0;34m()\u001b[0m\n\u001b[1;32m      4\u001b[0m                       \u001b[0mx_train_scaled\u001b[0m\u001b[0;34m.\u001b[0m\u001b[0miloc\u001b[0m\u001b[0;34m[\u001b[0m\u001b[0;34m:\u001b[0m\u001b[0;34m,\u001b[0m\u001b[0;36m3\u001b[0m\u001b[0;34m:\u001b[0m\u001b[0;36m6\u001b[0m\u001b[0;34m]\u001b[0m\u001b[0;34m,\u001b[0m\u001b[0;34m\u001b[0m\u001b[0m\n\u001b[1;32m      5\u001b[0m                       \u001b[0mx_train_scaled\u001b[0m\u001b[0;34m.\u001b[0m\u001b[0miloc\u001b[0m\u001b[0;34m[\u001b[0m\u001b[0;34m:\u001b[0m\u001b[0;34m,\u001b[0m\u001b[0;34m[\u001b[0m\u001b[0;36m6\u001b[0m\u001b[0;34m,\u001b[0m\u001b[0;36m7\u001b[0m\u001b[0;34m,\u001b[0m\u001b[0;36m8\u001b[0m\u001b[0;34m,\u001b[0m\u001b[0;36m12\u001b[0m\u001b[0;34m,\u001b[0m\u001b[0;36m13\u001b[0m\u001b[0;34m,\u001b[0m\u001b[0;36m14\u001b[0m\u001b[0;34m,\u001b[0m\u001b[0;36m18\u001b[0m\u001b[0;34m,\u001b[0m\u001b[0;36m19\u001b[0m\u001b[0;34m,\u001b[0m\u001b[0;36m20\u001b[0m\u001b[0;34m,\u001b[0m\u001b[0;36m24\u001b[0m\u001b[0;34m,\u001b[0m\u001b[0;36m25\u001b[0m\u001b[0;34m,\u001b[0m\u001b[0;36m26\u001b[0m\u001b[0;34m,\u001b[0m\u001b[0;36m30\u001b[0m\u001b[0;34m,\u001b[0m\u001b[0;36m31\u001b[0m\u001b[0;34m,\u001b[0m\u001b[0;36m32\u001b[0m\u001b[0;34m,\u001b[0m\u001b[0;36m36\u001b[0m\u001b[0;34m,\u001b[0m\u001b[0;36m37\u001b[0m\u001b[0;34m,\u001b[0m\u001b[0;36m38\u001b[0m\u001b[0;34m,\u001b[0m\u001b[0;36m42\u001b[0m\u001b[0;34m,\u001b[0m\u001b[0;36m43\u001b[0m\u001b[0;34m,\u001b[0m\u001b[0;36m44\u001b[0m\u001b[0;34m,\u001b[0m\u001b[0;36m48\u001b[0m\u001b[0;34m,\u001b[0m\u001b[0;36m49\u001b[0m\u001b[0;34m,\u001b[0m\u001b[0;36m50\u001b[0m\u001b[0;34m]\u001b[0m\u001b[0;34m]\u001b[0m\u001b[0;34m,\u001b[0m\u001b[0;34m\u001b[0m\u001b[0m\n\u001b[0;32m----> 6\u001b[0;31m                       x_train_scaled.iloc[:,[9,10,11,15,16,17,21,22,23,27,28,29,33,34,35,39,40,41,45,46,47,51,52,53]]], [y_train_scaled],\n\u001b[0m\u001b[1;32m      7\u001b[0m \u001b[0;34m\u001b[0m\u001b[0m\n\u001b[1;32m      8\u001b[0m                       validation_data=([x_test_scaled.iloc[:,0:3],\n",
      "\u001b[0;32m/usr/local/anaconda/envs/env_py3/lib/python3.6/site-packages/pandas/core/indexing.py\u001b[0m in \u001b[0;36m__getitem__\u001b[0;34m(self, key)\u001b[0m\n\u001b[1;32m   1470\u001b[0m             \u001b[0;32mexcept\u001b[0m \u001b[0;34m(\u001b[0m\u001b[0mKeyError\u001b[0m\u001b[0;34m,\u001b[0m \u001b[0mIndexError\u001b[0m\u001b[0;34m)\u001b[0m\u001b[0;34m:\u001b[0m\u001b[0;34m\u001b[0m\u001b[0m\n\u001b[1;32m   1471\u001b[0m                 \u001b[0;32mpass\u001b[0m\u001b[0;34m\u001b[0m\u001b[0m\n\u001b[0;32m-> 1472\u001b[0;31m             \u001b[0;32mreturn\u001b[0m \u001b[0mself\u001b[0m\u001b[0;34m.\u001b[0m\u001b[0m_getitem_tuple\u001b[0m\u001b[0;34m(\u001b[0m\u001b[0mkey\u001b[0m\u001b[0;34m)\u001b[0m\u001b[0;34m\u001b[0m\u001b[0m\n\u001b[0m\u001b[1;32m   1473\u001b[0m         \u001b[0;32melse\u001b[0m\u001b[0;34m:\u001b[0m\u001b[0;34m\u001b[0m\u001b[0m\n\u001b[1;32m   1474\u001b[0m             \u001b[0;31m# we by definition only have the 0th axis\u001b[0m\u001b[0;34m\u001b[0m\u001b[0;34m\u001b[0m\u001b[0m\n",
      "\u001b[0;32m/usr/local/anaconda/envs/env_py3/lib/python3.6/site-packages/pandas/core/indexing.py\u001b[0m in \u001b[0;36m_getitem_tuple\u001b[0;34m(self, tup)\u001b[0m\n\u001b[1;32m   2011\u001b[0m     \u001b[0;32mdef\u001b[0m \u001b[0m_getitem_tuple\u001b[0m\u001b[0;34m(\u001b[0m\u001b[0mself\u001b[0m\u001b[0;34m,\u001b[0m \u001b[0mtup\u001b[0m\u001b[0;34m)\u001b[0m\u001b[0;34m:\u001b[0m\u001b[0;34m\u001b[0m\u001b[0m\n\u001b[1;32m   2012\u001b[0m \u001b[0;34m\u001b[0m\u001b[0m\n\u001b[0;32m-> 2013\u001b[0;31m         \u001b[0mself\u001b[0m\u001b[0;34m.\u001b[0m\u001b[0m_has_valid_tuple\u001b[0m\u001b[0;34m(\u001b[0m\u001b[0mtup\u001b[0m\u001b[0;34m)\u001b[0m\u001b[0;34m\u001b[0m\u001b[0m\n\u001b[0m\u001b[1;32m   2014\u001b[0m         \u001b[0;32mtry\u001b[0m\u001b[0;34m:\u001b[0m\u001b[0;34m\u001b[0m\u001b[0m\n\u001b[1;32m   2015\u001b[0m             \u001b[0;32mreturn\u001b[0m \u001b[0mself\u001b[0m\u001b[0;34m.\u001b[0m\u001b[0m_getitem_lowerdim\u001b[0m\u001b[0;34m(\u001b[0m\u001b[0mtup\u001b[0m\u001b[0;34m)\u001b[0m\u001b[0;34m\u001b[0m\u001b[0m\n",
      "\u001b[0;32m/usr/local/anaconda/envs/env_py3/lib/python3.6/site-packages/pandas/core/indexing.py\u001b[0m in \u001b[0;36m_has_valid_tuple\u001b[0;34m(self, key)\u001b[0m\n\u001b[1;32m    220\u001b[0m                 \u001b[0;32mraise\u001b[0m \u001b[0mIndexingError\u001b[0m\u001b[0;34m(\u001b[0m\u001b[0;34m'Too many indexers'\u001b[0m\u001b[0;34m)\u001b[0m\u001b[0;34m\u001b[0m\u001b[0m\n\u001b[1;32m    221\u001b[0m             \u001b[0;32mtry\u001b[0m\u001b[0;34m:\u001b[0m\u001b[0;34m\u001b[0m\u001b[0m\n\u001b[0;32m--> 222\u001b[0;31m                 \u001b[0mself\u001b[0m\u001b[0;34m.\u001b[0m\u001b[0m_validate_key\u001b[0m\u001b[0;34m(\u001b[0m\u001b[0mk\u001b[0m\u001b[0;34m,\u001b[0m \u001b[0mi\u001b[0m\u001b[0;34m)\u001b[0m\u001b[0;34m\u001b[0m\u001b[0m\n\u001b[0m\u001b[1;32m    223\u001b[0m             \u001b[0;32mexcept\u001b[0m \u001b[0mValueError\u001b[0m\u001b[0;34m:\u001b[0m\u001b[0;34m\u001b[0m\u001b[0m\n\u001b[1;32m    224\u001b[0m                 raise ValueError(\"Location based indexing can only have \"\n",
      "\u001b[0;32m/usr/local/anaconda/envs/env_py3/lib/python3.6/site-packages/pandas/core/indexing.py\u001b[0m in \u001b[0;36m_validate_key\u001b[0;34m(self, key, axis)\u001b[0m\n\u001b[1;32m   1966\u001b[0m \u001b[0;34m\u001b[0m\u001b[0m\n\u001b[1;32m   1967\u001b[0m             \u001b[0;32mif\u001b[0m \u001b[0mlen\u001b[0m\u001b[0;34m(\u001b[0m\u001b[0marr\u001b[0m\u001b[0;34m)\u001b[0m \u001b[0;32mand\u001b[0m \u001b[0;34m(\u001b[0m\u001b[0marr\u001b[0m\u001b[0;34m.\u001b[0m\u001b[0mmax\u001b[0m\u001b[0;34m(\u001b[0m\u001b[0;34m)\u001b[0m \u001b[0;34m>=\u001b[0m \u001b[0ml\u001b[0m \u001b[0;32mor\u001b[0m \u001b[0marr\u001b[0m\u001b[0;34m.\u001b[0m\u001b[0mmin\u001b[0m\u001b[0;34m(\u001b[0m\u001b[0;34m)\u001b[0m \u001b[0;34m<\u001b[0m \u001b[0;34m-\u001b[0m\u001b[0ml\u001b[0m\u001b[0;34m)\u001b[0m\u001b[0;34m:\u001b[0m\u001b[0;34m\u001b[0m\u001b[0m\n\u001b[0;32m-> 1968\u001b[0;31m                 \u001b[0;32mraise\u001b[0m \u001b[0mIndexError\u001b[0m\u001b[0;34m(\u001b[0m\u001b[0;34m\"positional indexers are out-of-bounds\"\u001b[0m\u001b[0;34m)\u001b[0m\u001b[0;34m\u001b[0m\u001b[0m\n\u001b[0m\u001b[1;32m   1969\u001b[0m         \u001b[0;32melse\u001b[0m\u001b[0;34m:\u001b[0m\u001b[0;34m\u001b[0m\u001b[0m\n\u001b[1;32m   1970\u001b[0m             raise ValueError(\"Can only index by location with \"\n",
      "\u001b[0;31mIndexError\u001b[0m: positional indexers are out-of-bounds"
     ]
    }
   ],
   "source": [
    "model_1.compile(loss='mean_squared_error', optimizer='adam', metrics = ['mse'])\n",
    "\n",
    "hist_1 = model_1.fit([x_train_scaled.iloc[:,0:3],\n",
    "                      x_train_scaled.iloc[:,3:6],\n",
    "                      x_train_scaled.iloc[:,[6,7,8,12,13,14,18,19,20,24,25,26,30,31,32,36,37,38,42,43,44,48,49,50]],\n",
    "                      x_train_scaled.iloc[:,[9,10,11,15,16,17,21,22,23,27,28,29,33,34,35,39,40,41,45,46,47,51,52,53]]], [y_train_scaled],\n",
    "                      \n",
    "                      validation_data=([x_test_scaled.iloc[:,0:3],\n",
    "                      x_test_scaled.iloc[:,3:6],\n",
    "                      x_test_scaled.iloc[:,[6,7,8,12,13,14,18,19,20,24,25,26,30,31,32,36,37,38,42,43,44,48,49,50]],\n",
    "                      x_test_scaled.iloc[:,[9,10,11,15,16,17,21,22,23,27,28,29,33,34,35,39,40,41,45,46,47,51,52,53]]], [y_test_scaled]),\n",
    "                      batch_size = 64, epochs = 150, verbose=2, callbacks = callback_list)"
   ]
  },
  {
   "cell_type": "code",
   "execution_count": null,
   "metadata": {},
   "outputs": [],
   "source": [
    "'''\n",
    "model_1.compile(loss='mean_absolute_percentage_error', optimizer= 'adam', metrics=['mse'])\n",
    "\n",
    "early_stop = EarlyStopping(monitor='val_loss', patience=10, mode='min')\n",
    "model_check_point = ModelCheckpoint('./model/KNN_8_P_A.h5', monitor = 'val_loss', verbose=2, save_best_only=True)\n",
    "\n",
    "callback_list = [model_check_point, early_stop]\n",
    "'''"
   ]
  },
  {
   "cell_type": "code",
   "execution_count": null,
   "metadata": {
    "scrolled": true
   },
   "outputs": [],
   "source": [
    "#hist_1 = model_1.fit([x_train_scaled.iloc[:,0:3],x_train_scaled.iloc[:,[3,4,5,9,10,11,15,16,17,21,22,23,27,28,29,33,34,35,39,40,41,45,46,47]],\n",
    "#            x_train_scaled.iloc[:,[6,7,8,12,13,14,18,19,20,24,25,26,30,31,32,36,37,38,42,43,44,48,49,50]]], epochs=150, batch_size=64, validation_data=(x_test_scaled, y_test_scaled), callbacks = callback_list)"
   ]
  },
  {
   "cell_type": "code",
   "execution_count": 61,
   "metadata": {},
   "outputs": [
    {
     "data": {
      "image/png": "[encoded data removed]",
      "text/plain": [
       "<Figure size 432x288 with 1 Axes>"
      ]
     },
     "metadata": {},
     "output_type": "display_data"
    }
   ],
   "source": [
    "# plot history\n",
    "plt.plot(hist_1.history['loss'][0:], label='train')\n",
    "plt.plot(hist_1.history['val_loss'][0:], label='test')\n",
    "plt.xlabel('Epochs')\n",
    "plt.ylabel('Loss')\n",
    "plt.legend()\n",
    "plt.show()"
   ]
  },
  {
   "cell_type": "code",
   "execution_count": 62,
   "metadata": {},
   "outputs": [],
   "source": [
    "model = load_model('./model/KNN_8_P_A.h5')"
   ]
  },
  {
   "cell_type": "code",
   "execution_count": 63,
   "metadata": {},
   "outputs": [
    {
     "ename": "ValueError",
     "evalue": "Error when checking model : the list of Numpy arrays that you are passing to your model is not the size the model expected. Expected to see 1 array(s), but instead got the following list of 3 arrays: [array([[-0.63459822,  0.44127996,  0.57024928],\n       [-1.60037045, -0.18498131, -0.25144017],\n       [-0.91610268, -0.53315218, -0.13411237],\n       ...,\n       [ 0.71402848,  2.12440684,  1.932872...",
     "output_type": "error",
     "traceback": [
      "\u001b[0;31m---------------------------------------------------------------------------\u001b[0m",
      "\u001b[0;31mValueError\u001b[0m                                Traceback (most recent call last)",
      "\u001b[0;32m<ipython-input-63-692c4cf2e187>\u001b[0m in \u001b[0;36m<module>\u001b[0;34m()\u001b[0m\n\u001b[1;32m      2\u001b[0m y_pred = pd.DataFrame(model.predict([x_test_scaled.iloc[:,0:3],\n\u001b[1;32m      3\u001b[0m                                        \u001b[0mx_test_scaled\u001b[0m\u001b[0;34m.\u001b[0m\u001b[0miloc\u001b[0m\u001b[0;34m[\u001b[0m\u001b[0;34m:\u001b[0m\u001b[0;34m,\u001b[0m\u001b[0;34m[\u001b[0m\u001b[0;36m3\u001b[0m\u001b[0;34m,\u001b[0m\u001b[0;36m4\u001b[0m\u001b[0;34m,\u001b[0m\u001b[0;36m5\u001b[0m\u001b[0;34m,\u001b[0m\u001b[0;36m9\u001b[0m\u001b[0;34m,\u001b[0m\u001b[0;36m10\u001b[0m\u001b[0;34m,\u001b[0m\u001b[0;36m11\u001b[0m\u001b[0;34m,\u001b[0m\u001b[0;36m15\u001b[0m\u001b[0;34m,\u001b[0m\u001b[0;36m16\u001b[0m\u001b[0;34m,\u001b[0m\u001b[0;36m17\u001b[0m\u001b[0;34m,\u001b[0m\u001b[0;36m21\u001b[0m\u001b[0;34m,\u001b[0m\u001b[0;36m22\u001b[0m\u001b[0;34m,\u001b[0m\u001b[0;36m23\u001b[0m\u001b[0;34m,\u001b[0m\u001b[0;36m27\u001b[0m\u001b[0;34m,\u001b[0m\u001b[0;36m28\u001b[0m\u001b[0;34m,\u001b[0m\u001b[0;36m29\u001b[0m\u001b[0;34m,\u001b[0m\u001b[0;36m33\u001b[0m\u001b[0;34m,\u001b[0m\u001b[0;36m34\u001b[0m\u001b[0;34m,\u001b[0m\u001b[0;36m35\u001b[0m\u001b[0;34m,\u001b[0m\u001b[0;36m39\u001b[0m\u001b[0;34m,\u001b[0m\u001b[0;36m40\u001b[0m\u001b[0;34m,\u001b[0m\u001b[0;36m41\u001b[0m\u001b[0;34m,\u001b[0m\u001b[0;36m45\u001b[0m\u001b[0;34m,\u001b[0m\u001b[0;36m46\u001b[0m\u001b[0;34m,\u001b[0m\u001b[0;36m47\u001b[0m\u001b[0;34m]\u001b[0m\u001b[0;34m]\u001b[0m\u001b[0;34m,\u001b[0m\u001b[0;34m\u001b[0m\u001b[0m\n\u001b[0;32m----> 4\u001b[0;31m                                        x_test_scaled.iloc[:,[6,7,8,12,13,14,18,19,20,24,25,26,30,31,32,36,37,38,42,43,44,48,49,50]]]), \n\u001b[0m\u001b[1;32m      5\u001b[0m                      columns=['dlt_x','dlt_y','dlt_z','ax_pred','ay_pred','az_pred'])\n",
      "\u001b[0;32m/usr/local/anaconda/envs/env_py3/lib/python3.6/site-packages/keras/models.py\u001b[0m in \u001b[0;36mpredict\u001b[0;34m(self, x, batch_size, verbose, steps)\u001b[0m\n\u001b[1;32m   1062\u001b[0m             \u001b[0mself\u001b[0m\u001b[0;34m.\u001b[0m\u001b[0mbuild\u001b[0m\u001b[0;34m(\u001b[0m\u001b[0;34m)\u001b[0m\u001b[0;34m\u001b[0m\u001b[0m\n\u001b[1;32m   1063\u001b[0m         return self.model.predict(x, batch_size=batch_size, verbose=verbose,\n\u001b[0;32m-> 1064\u001b[0;31m                                   steps=steps)\n\u001b[0m\u001b[1;32m   1065\u001b[0m \u001b[0;34m\u001b[0m\u001b[0m\n\u001b[1;32m   1066\u001b[0m     \u001b[0;32mdef\u001b[0m \u001b[0mpredict_on_batch\u001b[0m\u001b[0;34m(\u001b[0m\u001b[0mself\u001b[0m\u001b[0;34m,\u001b[0m \u001b[0mx\u001b[0m\u001b[0;34m)\u001b[0m\u001b[0;34m:\u001b[0m\u001b[0;34m\u001b[0m\u001b[0m\n",
      "\u001b[0;32m/usr/local/anaconda/envs/env_py3/lib/python3.6/site-packages/keras/engine/training.py\u001b[0m in \u001b[0;36mpredict\u001b[0;34m(self, x, batch_size, verbose, steps)\u001b[0m\n\u001b[1;32m   1815\u001b[0m         x = _standardize_input_data(x, self._feed_input_names,\n\u001b[1;32m   1816\u001b[0m                                     \u001b[0mself\u001b[0m\u001b[0;34m.\u001b[0m\u001b[0m_feed_input_shapes\u001b[0m\u001b[0;34m,\u001b[0m\u001b[0;34m\u001b[0m\u001b[0m\n\u001b[0;32m-> 1817\u001b[0;31m                                     check_batch_axis=False)\n\u001b[0m\u001b[1;32m   1818\u001b[0m         \u001b[0;32mif\u001b[0m \u001b[0mself\u001b[0m\u001b[0;34m.\u001b[0m\u001b[0mstateful\u001b[0m\u001b[0;34m:\u001b[0m\u001b[0;34m\u001b[0m\u001b[0m\n\u001b[1;32m   1819\u001b[0m             \u001b[0;32mif\u001b[0m \u001b[0mx\u001b[0m\u001b[0;34m[\u001b[0m\u001b[0;36m0\u001b[0m\u001b[0;34m]\u001b[0m\u001b[0;34m.\u001b[0m\u001b[0mshape\u001b[0m\u001b[0;34m[\u001b[0m\u001b[0;36m0\u001b[0m\u001b[0;34m]\u001b[0m \u001b[0;34m>\u001b[0m \u001b[0mbatch_size\u001b[0m \u001b[0;32mand\u001b[0m \u001b[0mx\u001b[0m\u001b[0;34m[\u001b[0m\u001b[0;36m0\u001b[0m\u001b[0;34m]\u001b[0m\u001b[0;34m.\u001b[0m\u001b[0mshape\u001b[0m\u001b[0;34m[\u001b[0m\u001b[0;36m0\u001b[0m\u001b[0;34m]\u001b[0m \u001b[0;34m%\u001b[0m \u001b[0mbatch_size\u001b[0m \u001b[0;34m!=\u001b[0m \u001b[0;36m0\u001b[0m\u001b[0;34m:\u001b[0m\u001b[0;34m\u001b[0m\u001b[0m\n",
      "\u001b[0;32m/usr/local/anaconda/envs/env_py3/lib/python3.6/site-packages/keras/engine/training.py\u001b[0m in \u001b[0;36m_standardize_input_data\u001b[0;34m(data, names, shapes, check_batch_axis, exception_prefix)\u001b[0m\n\u001b[1;32m     84\u001b[0m                 \u001b[0;34m'Expected to see '\u001b[0m \u001b[0;34m+\u001b[0m \u001b[0mstr\u001b[0m\u001b[0;34m(\u001b[0m\u001b[0mlen\u001b[0m\u001b[0;34m(\u001b[0m\u001b[0mnames\u001b[0m\u001b[0;34m)\u001b[0m\u001b[0;34m)\u001b[0m \u001b[0;34m+\u001b[0m \u001b[0;34m' array(s), '\u001b[0m\u001b[0;34m\u001b[0m\u001b[0m\n\u001b[1;32m     85\u001b[0m                 \u001b[0;34m'but instead got the following list of '\u001b[0m \u001b[0;34m+\u001b[0m\u001b[0;34m\u001b[0m\u001b[0m\n\u001b[0;32m---> 86\u001b[0;31m                 str(len(data)) + ' arrays: ' + str(data)[:200] + '...')\n\u001b[0m\u001b[1;32m     87\u001b[0m         \u001b[0;32melif\u001b[0m \u001b[0mlen\u001b[0m\u001b[0;34m(\u001b[0m\u001b[0mnames\u001b[0m\u001b[0;34m)\u001b[0m \u001b[0;34m>\u001b[0m \u001b[0;36m1\u001b[0m\u001b[0;34m:\u001b[0m\u001b[0;34m\u001b[0m\u001b[0m\n\u001b[1;32m     88\u001b[0m             raise ValueError(\n",
      "\u001b[0;31mValueError\u001b[0m: Error when checking model : the list of Numpy arrays that you are passing to your model is not the size the model expected. Expected to see 1 array(s), but instead got the following list of 3 arrays: [array([[-0.63459822,  0.44127996,  0.57024928],\n       [-1.60037045, -0.18498131, -0.25144017],\n       [-0.91610268, -0.53315218, -0.13411237],\n       ...,\n       [ 0.71402848,  2.12440684,  1.932872..."
     ]
    }
   ],
   "source": [
    "#Training error Check\n",
    "y_pred = pd.DataFrame(model.predict([x_test_scaled.iloc[:,0:3],\n",
    "                                       x_test_scaled.iloc[:,[3,4,5,9,10,11,15,16,17,21,22,23,27,28,29,33,34,35,39,40,41,45,46,47]],\n",
    "                                       x_test_scaled.iloc[:,[6,7,8,12,13,14,18,19,20,24,25,26,30,31,32,36,37,38,42,43,44,48,49,50]]]), \n",
    "                     columns=['dlt_x','dlt_y','dlt_z','ax_pred','ay_pred','az_pred'])"
   ]
  },
  {
   "cell_type": "code",
   "execution_count": null,
   "metadata": {},
   "outputs": [],
   "source": [
    "plt.plot(y_test_scaled['dlt_z'] - y_pred.iloc[:,2])"
   ]
  },
  {
   "cell_type": "code",
   "execution_count": null,
   "metadata": {},
   "outputs": [],
   "source": [
    "del_x_idx, = np.where(abs(y_test_scaled['dlt_x'] - y_pred.iloc[:,0]) > 12)\n",
    "del_y_idx, = np.where(abs(y_test_scaled['dlt_y'] - y_pred.iloc[:,1]) > 12)\n",
    "del_z_idx, = np.where(abs(y_test_scaled['dlt_z'] - y_pred.iloc[:,2]) > 12)\n",
    "\n",
    "del_idx = set(del_x_idx) | set(del_y_idx) | set(del_z_idx)\n",
    "\n",
    "y_test_scaled = y_test_scaled.loc[y_test_scaled.index.drop(list(del_idx))].reset_index(drop=True)\n",
    "y_pred = y_pred.loc[y_pred.index.drop(list(del_idx))].reset_index(drop=True)"
   ]
  },
  {
   "cell_type": "code",
   "execution_count": null,
   "metadata": {},
   "outputs": [],
   "source": [
    "y_test_inverse = pd.DataFrame(y_scaler.inverse_transform(y_test_scaled))\n",
    "y_pred_inverse = pd.DataFrame(y_scaler.inverse_transform(y_pred))"
   ]
  },
  {
   "cell_type": "code",
   "execution_count": null,
   "metadata": {},
   "outputs": [],
   "source": [
    "fig = plt.figure(figsize=(10,10))\n",
    "\n",
    "ax1 = fig.add_subplot(3,3,1)\n",
    "ax2 = fig.add_subplot(3,3,2)\n",
    "ax3 = fig.add_subplot(3,3,3)\n",
    "ax4 = fig.add_subplot(3,3,4)\n",
    "ax5 = fig.add_subplot(3,3,5)\n",
    "ax6 = fig.add_subplot(3,3,6)\n",
    "\n",
    "ax1.scatter(y_test_inverse.iloc[:,0], y_pred_inverse.iloc[:,0], s= 2)\n",
    "ax1.set_xlabel('dlt_x_real')\n",
    "ax1.set_ylabel('dlt_x_pred')\n",
    "ax1.set_xlim((-0.02, 0.02))\n",
    "ax1.set_ylim((-0.005, 0.005))\n",
    "\n",
    "ax2.scatter(y_test_inverse.iloc[:,1], y_pred_inverse.iloc[:,1], s= 2)\n",
    "ax2.set_xlabel('dlt_y_real')\n",
    "ax2.set_ylabel('dlt_y_pred')\n",
    "ax2.set_xlim((-0.02, 0.02))\n",
    "ax2.set_ylim((-0.02, 0.02))\n",
    "\n",
    "ax3.scatter(y_test_inverse.iloc[:,2], y_pred_inverse.iloc[:,2], s= 2)\n",
    "ax3.set_xlabel('dlt_z_real')\n",
    "ax3.set_ylabel('dlt_z_pred')\n",
    "ax3.set_xlim((-0.02, 0.02))\n",
    "ax3.set_ylim((-0.02, 0.02))\n",
    "\n",
    "ax4.scatter(y_test_inverse.iloc[:,3], y_pred_inverse.iloc[:,3], s= 2)\n",
    "ax4.set_xlabel('ax_real')\n",
    "ax4.set_ylabel('ax_pred')\n",
    "#ax4.set_xlim((-2.5, 2.5))\n",
    "#ax4.set_ylim((-2.5, 2.5))\n",
    "ax5.scatter(y_test_inverse.iloc[:,4], y_pred_inverse.iloc[:,4], s= 2)\n",
    "ax5.set_xlabel('ay_real')\n",
    "ax5.set_ylabel('ay_pred')\n",
    "#ax5.set_xlim((-2.5, 2.5))\n",
    "#ax5.set_ylim((-2.5, 2.5))\n",
    "ax6.scatter(y_test_inverse.iloc[:,5], y_pred_inverse.iloc[:,5], s= 2)\n",
    "ax6.set_xlabel('az_real')\n",
    "ax6.set_ylabel('az_pred')\n",
    "#ax6.set_xlim((-2.5, 2.5))\n",
    "#ax6.set_ylim((-2.5, 2.5))\n",
    "\n",
    "plt.subplots_adjust(wspace = 1, hspace = 0.5)\n",
    "plt.show()"
   ]
  },
  {
   "cell_type": "code",
   "execution_count": null,
   "metadata": {},
   "outputs": [],
   "source": [
    "print('rmse:', np.sqrt(mean_squared_error(y_test_inverse, y_pred_dlt_inverse)))\n",
    "print('mae:', mean_absolute_error(y_test_inverse, y_pred_dlt_inverse))\n",
    "print('r2:', r2_score(y_test_inverse, y_pred_dlt_inverse))"
   ]
  },
  {
   "cell_type": "code",
   "execution_count": null,
   "metadata": {},
   "outputs": [],
   "source": []
  },
  {
   "cell_type": "code",
   "execution_count": null,
   "metadata": {},
   "outputs": [],
   "source": []
  },
  {
   "cell_type": "code",
   "execution_count": null,
   "metadata": {},
   "outputs": [],
   "source": []
  },
  {
   "cell_type": "code",
   "execution_count": null,
   "metadata": {},
   "outputs": [],
   "source": []
  },
  {
   "cell_type": "code",
   "execution_count": null,
   "metadata": {},
   "outputs": [],
   "source": []
  },
  {
   "cell_type": "code",
   "execution_count": 175,
   "metadata": {},
   "outputs": [],
   "source": [
    "#예측\n",
    "y_pred = pd.DataFrame(model.predict(x_test))"
   ]
  },
  {
   "cell_type": "code",
   "execution_count": 176,
   "metadata": {},
   "outputs": [
    {
     "name": "stdout",
     "output_type": "stream",
     "text": [
      "rmse: 0.022447809731954316\n",
      "mae: 0.0168962853763136\n",
      "r2: 0.9999640118536841\n"
     ]
    }
   ],
   "source": [
    "now_data = raw_data.loc[(raw_data['time'] >= 1400) & (raw_data['time'] <= 1998)].reset_index(drop=True)\n",
    "next_data = raw_data.loc[(raw_data['time'] >= 1401) & (raw_data['time'] <= 1999)].reset_index(drop=True)\n",
    "\n",
    "next_position = pd.DataFrame(np.array(now_data[['px','py','pz']]) + np.array(y_pred.iloc[:,0:3]), columns=['px_pred','py_pred','pz_pred'])\n",
    "\n",
    "predicted_df = pd.concat([next_position, y_pred.iloc[:,3:]], axis = 1)\n",
    "\n",
    "exc_x_idx_test, = np.where(abs(next_data['px'] - predicted_df['px_pred']) > 12)\n",
    "exc_y_idx_test, = np.where(abs(next_data['py'] - predicted_df['py_pred']) > 12)\n",
    "exc_z_idx_test, = np.where(abs(next_data['pz'] - predicted_df['pz_pred']) > 12)\n",
    "\n",
    "exc_idx_test = set(exc_x_idx_test) | set(exc_y_idx_test) | set(exc_z_idx_test)\n",
    "\n",
    "next_data = next_data.loc[next_data.index.drop(list(exc_idx_test))].reset_index(drop=True)\n",
    "predicted_df = predicted_df.loc[predicted_df.index.drop(list(exc_idx_test))].reset_index(drop=True)\n",
    "\n",
    "print('rmse:', np.sqrt(mean_squared_error(next_data.iloc[:,2:5], predicted_df.iloc[:,0:3])))\n",
    "print('mae:', mean_absolute_error(next_data.iloc[:,2:5], predicted_df.iloc[:,0:3]))\n",
    "print('r2:', r2_score(next_data.iloc[:,2:5], predicted_df.iloc[:,0:3]))"
   ]
  },
  {
   "cell_type": "code",
   "execution_count": 177,
   "metadata": {},
   "outputs": [
    {
     "data": {
      "image/png": "[encoded data removed]",
      "text/plain": [
       "<Figure size 720x720 with 6 Axes>"
      ]
     },
     "metadata": {},
     "output_type": "display_data"
    }
   ],
   "source": [
    "fig = plt.figure(figsize=(10,10))\n",
    "\n",
    "ax1 = fig.add_subplot(3,3,1)\n",
    "ax2 = fig.add_subplot(3,3,2)\n",
    "ax3 = fig.add_subplot(3,3,3)\n",
    "ax4 = fig.add_subplot(3,3,4)\n",
    "ax5 = fig.add_subplot(3,3,5)\n",
    "ax6 = fig.add_subplot(3,3,6)\n",
    "\n",
    "ax1.scatter(next_data.iloc[:,2], predicted_df.iloc[:,0], s= 2)\n",
    "ax1.set_xlabel('x_real')\n",
    "ax1.set_ylabel('x_pred')\n",
    "#ax1.set_xlim((-2.5, 2.5))\n",
    "#ax1.set_ylim((-2.5, 2.5))\n",
    "ax2.scatter(next_data.iloc[:,3], predicted_df.iloc[:,1], s= 2)\n",
    "ax2.set_xlabel('y_real')\n",
    "ax2.set_ylabel('y_pred')\n",
    "#ax2.set_xlim((-2.5, 2.5))\n",
    "#ax2.set_ylim((-2.5, 2.5))\n",
    "ax3.scatter(next_data.iloc[:,4], predicted_df.iloc[:,2], s= 2)\n",
    "ax3.set_xlabel('z_real')\n",
    "ax3.set_ylabel('z_pred')\n",
    "#ax3.set_xlim((-2.5, 2.5))\n",
    "#ax3.set_ylim((-2.5, 2.5))\n",
    "ax4.scatter(next_data.iloc[:,5], predicted_df.iloc[:,3], s= 2)\n",
    "ax4.set_xlabel('ax_real')\n",
    "ax4.set_ylabel('ax_pred')\n",
    "#ax4.set_xlim((-2.5, 2.5))\n",
    "#ax4.set_ylim((-2.5, 2.5))\n",
    "ax5.scatter(next_data.iloc[:,6], predicted_df.iloc[:,4], s= 2)\n",
    "ax5.set_xlabel('ay_real')\n",
    "ax5.set_ylabel('ay_pred')\n",
    "#ax5.set_xlim((-2.5, 2.5))\n",
    "#ax5.set_ylim((-2.5, 2.5))\n",
    "ax6.scatter(next_data.iloc[:,7], predicted_df.iloc[:,5], s= 2)\n",
    "ax6.set_xlabel('az_real')\n",
    "ax6.set_ylabel('az_pred')\n",
    "#ax6.set_xlim((-2.5, 2.5))\n",
    "#ax6.set_ylim((-2.5, 2.5))\n",
    "\n",
    "plt.subplots_adjust(wspace = 1, hspace = 0.5)\n",
    "plt.show()"
   ]
  },
  {
   "cell_type": "markdown",
   "metadata": {},
   "source": [
    "# sadfsd"
   ]
  },
  {
   "cell_type": "markdown",
   "metadata": {},
   "source": [
    "## asdas"
   ]
  },
  {
   "cell_type": "markdown",
   "metadata": {},
   "source": [
    "*sadfsadfas*"
   ]
  },
  {
   "cell_type": "markdown",
   "metadata": {},
   "source": [
    "**sfsdfasd**"
   ]
  },
  {
   "cell_type": "code",
   "execution_count": null,
   "metadata": {},
   "outputs": [],
   "source": []
  }
 ],
 "metadata": {
  "kernelspec": {
   "display_name": "Python 3",
   "language": "python",
   "name": "python3"
  },
  "language_info": {
   "codemirror_mode": {
    "name": "ipython",
    "version": 3
   },
   "file_extension": ".py",
   "mimetype": "text/x-python",
   "name": "python",
   "nbconvert_exporter": "python",
   "pygments_lexer": "ipython3",
   "version": "3.6.5"
  }
 },
 "nbformat": 4,
 "nbformat_minor": 2
}
