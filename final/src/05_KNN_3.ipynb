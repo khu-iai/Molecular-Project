{
 "cells": [
  {
   "cell_type": "code",
   "execution_count": 1,
   "metadata": {},
   "outputs": [
    {
     "name": "stderr",
     "output_type": "stream",
     "text": [
      "Using TensorFlow backend.\n"
     ]
    }
   ],
   "source": [
    "import numpy as np\n",
    "import pandas as pd\n",
    "import matplotlib.pyplot as plt\n",
    "from sklearn.model_selection import train_test_split, KFold\n",
    "from sklearn.metrics import mean_squared_error, r2_score, mean_absolute_error\n",
    "from sklearn.neighbors import NearestNeighbors\n",
    "from sklearn.preprocessing import scale\n",
    "\n",
    "from keras.models import Sequential\n",
    "from keras.layers import Dense, Dropout\n",
    "from keras.layers.normalization import BatchNormalization\n",
    "from keras.initializers import Initializer\n",
    "from keras import regularizers\n",
    "from keras.callbacks import EarlyStopping, ModelCheckpoint\n",
    "from keras.models import load_model\n"
   ]
  },
  {
   "cell_type": "code",
   "execution_count": 6,
   "metadata": {},
   "outputs": [],
   "source": [
    "raw_data = pd.read_csv('./data/ordered_molecules.csv')"
   ]
  },
  {
   "cell_type": "code",
   "execution_count": 7,
   "metadata": {},
   "outputs": [],
   "source": [
    "raw_data_scaled = pd.DataFrame(scale(raw_data.iloc[:,2:], axis = 0))\n",
    "raw_data_scaled = pd.concat([raw_data.iloc[:,0:2].reset_index(drop=True), raw_data_scaled.reset_index(drop=True)], axis = 1)"
   ]
  },
  {
   "cell_type": "code",
   "execution_count": 8,
   "metadata": {},
   "outputs": [
    {
     "data": {
      "text/html": [
       "<div>\n",
       "<style scoped>\n",
       "    .dataframe tbody tr th:only-of-type {\n",
       "        vertical-align: middle;\n",
       "    }\n",
       "\n",
       "    .dataframe tbody tr th {\n",
       "        vertical-align: top;\n",
       "    }\n",
       "\n",
       "    .dataframe thead th {\n",
       "        text-align: right;\n",
       "    }\n",
       "</style>\n",
       "<table border=\"1\" class=\"dataframe\">\n",
       "  <thead>\n",
       "    <tr style=\"text-align: right;\">\n",
       "      <th></th>\n",
       "      <th>time</th>\n",
       "      <th>molecule</th>\n",
       "      <th>0</th>\n",
       "      <th>1</th>\n",
       "      <th>2</th>\n",
       "      <th>3</th>\n",
       "      <th>4</th>\n",
       "      <th>5</th>\n",
       "    </tr>\n",
       "  </thead>\n",
       "  <tbody>\n",
       "    <tr>\n",
       "      <th>255995</th>\n",
       "      <td>1999</td>\n",
       "      <td>124</td>\n",
       "      <td>1.123990</td>\n",
       "      <td>0.718315</td>\n",
       "      <td>0.428128</td>\n",
       "      <td>-0.374440</td>\n",
       "      <td>1.330143</td>\n",
       "      <td>-0.448040</td>\n",
       "    </tr>\n",
       "    <tr>\n",
       "      <th>255996</th>\n",
       "      <td>1999</td>\n",
       "      <td>125</td>\n",
       "      <td>1.570954</td>\n",
       "      <td>0.298894</td>\n",
       "      <td>0.589959</td>\n",
       "      <td>1.327699</td>\n",
       "      <td>-1.374498</td>\n",
       "      <td>-0.818153</td>\n",
       "    </tr>\n",
       "    <tr>\n",
       "      <th>255997</th>\n",
       "      <td>1999</td>\n",
       "      <td>126</td>\n",
       "      <td>-0.102232</td>\n",
       "      <td>1.685867</td>\n",
       "      <td>-0.113215</td>\n",
       "      <td>0.843007</td>\n",
       "      <td>2.061867</td>\n",
       "      <td>1.890516</td>\n",
       "    </tr>\n",
       "    <tr>\n",
       "      <th>255998</th>\n",
       "      <td>1999</td>\n",
       "      <td>127</td>\n",
       "      <td>0.826963</td>\n",
       "      <td>1.050149</td>\n",
       "      <td>0.942335</td>\n",
       "      <td>0.509793</td>\n",
       "      <td>-0.449822</td>\n",
       "      <td>-0.272515</td>\n",
       "    </tr>\n",
       "    <tr>\n",
       "      <th>255999</th>\n",
       "      <td>1999</td>\n",
       "      <td>128</td>\n",
       "      <td>1.499017</td>\n",
       "      <td>1.250751</td>\n",
       "      <td>1.452132</td>\n",
       "      <td>-0.266697</td>\n",
       "      <td>-0.726995</td>\n",
       "      <td>-0.019621</td>\n",
       "    </tr>\n",
       "  </tbody>\n",
       "</table>\n",
       "</div>"
      ],
      "text/plain": [
       "        time  molecule         0         1         2         3         4  \\\n",
       "255995  1999       124  1.123990  0.718315  0.428128 -0.374440  1.330143   \n",
       "255996  1999       125  1.570954  0.298894  0.589959  1.327699 -1.374498   \n",
       "255997  1999       126 -0.102232  1.685867 -0.113215  0.843007  2.061867   \n",
       "255998  1999       127  0.826963  1.050149  0.942335  0.509793 -0.449822   \n",
       "255999  1999       128  1.499017  1.250751  1.452132 -0.266697 -0.726995   \n",
       "\n",
       "               5  \n",
       "255995 -0.448040  \n",
       "255996 -0.818153  \n",
       "255997  1.890516  \n",
       "255998 -0.272515  \n",
       "255999 -0.019621  "
      ]
     },
     "execution_count": 8,
     "metadata": {},
     "output_type": "execute_result"
    }
   ],
   "source": [
    "raw_data_scaled.tail()"
   ]
  },
  {
   "cell_type": "code",
   "execution_count": 9,
   "metadata": {},
   "outputs": [],
   "source": [
    "def find_neighbors(t):\n",
    "    df_t = raw_data_scaled.loc[raw_data_scaled['time'] == t]\n",
    "    df = df_t.iloc[:,2:5]\n",
    "    \n",
    "    k = 4\n",
    "    nbrs = NearestNeighbors(n_neighbors=k, algorithm='brute').fit(df)\n",
    "    distances, indices = nbrs.kneighbors(df)\n",
    "    return(k, df_t, indices)"
   ]
  },
  {
   "cell_type": "code",
   "execution_count": 10,
   "metadata": {},
   "outputs": [],
   "source": [
    "def make_df(t):\n",
    "    t_plus_1_df = raw_data_scaled.loc[raw_data_scaled['time']==t+1]\n",
    "    t_plus_1_values = t_plus_1_df.iloc[:,2:8]\n",
    "    \n",
    "    li = []\n",
    "    k, df, idx = find_neighbors(t)\n",
    "    for i in range(0,idx.shape[0]):\n",
    "        rows = []\n",
    "        for j in range(0,k):\n",
    "            row = df.loc[df['molecule'] == (idx[i][j]+1)]\n",
    "            row_cut = np.asarray(row.iloc[:,2:8])\n",
    "            rows.append(row_cut)\n",
    "        \n",
    "        li.append(np.array(rows).ravel())\n",
    "        \n",
    "    res = pd.DataFrame(li)\n",
    "    df_made = pd.concat([res.reset_index(drop=True), t_plus_1_values.reset_index(drop=True)], axis = 1)\n",
    "    return(df_made)"
   ]
  },
  {
   "cell_type": "code",
   "execution_count": 11,
   "metadata": {},
   "outputs": [],
   "source": [
    "#make whole dataset\n",
    "final_data = make_df(0)\n",
    "\n",
    "for t in range(1,1999):\n",
    "    df_part = make_df(t)\n",
    "    final_data = pd.concat([final_data.reset_index(drop=True), df_part.reset_index(drop=True)], axis = 0, ignore_index=True)"
   ]
  },
  {
   "cell_type": "code",
   "execution_count": 12,
   "metadata": {},
   "outputs": [],
   "source": [
    "##########################################################\n",
    "################# save dataframe #########################\n",
    "final_data.to_csv('./data/KNN_3.csv', index = False)"
   ]
  },
  {
   "cell_type": "code",
   "execution_count": 2,
   "metadata": {},
   "outputs": [],
   "source": [
    "#final_data = pd.read_csv('./KNN_3.csv')"
   ]
  },
  {
   "cell_type": "code",
   "execution_count": 13,
   "metadata": {},
   "outputs": [
    {
     "data": {
      "text/plain": [
       "(255872, 30)"
      ]
     },
     "execution_count": 13,
     "metadata": {},
     "output_type": "execute_result"
    }
   ],
   "source": [
    "final_data.shape"
   ]
  },
  {
   "cell_type": "code",
   "execution_count": 14,
   "metadata": {},
   "outputs": [
    {
     "name": "stdout",
     "output_type": "stream",
     "text": [
      "327\n",
      "327\n"
     ]
    }
   ],
   "source": [
    "diff_x = final_data.iloc[:,24] - final_data.iloc[:,0]\n",
    "diff_y = final_data.iloc[:,25] - final_data.iloc[:,1]\n",
    "diff_z = final_data.iloc[:,26] - final_data.iloc[:,2]\n",
    "\n",
    "\n",
    "diff_x_idx, = np.where(abs(diff_x) > 3)\n",
    "diff_y_idx, = np.where(abs(diff_y) > 3)\n",
    "diff_z_idx, = np.where(abs(diff_z) > 3)\n",
    "\n",
    "diff_idx = set(diff_x_idx) | set(diff_y_idx) | set(diff_z_idx)\n",
    "\n",
    "final_data = final_data.loc[final_data.index.drop(list(diff_idx))]"
   ]
  },
  {
   "cell_type": "code",
   "execution_count": 15,
   "metadata": {},
   "outputs": [],
   "source": [
    "x_train, x_test, y_train, y_test = train_test_split(final_data.iloc[:,0:24], \n",
    "                                                    final_data.iloc[:,24:],\n",
    "                                                    test_size = 0.3, random_state = 10)"
   ]
  },
  {
   "cell_type": "code",
   "execution_count": 16,
   "metadata": {},
   "outputs": [],
   "source": [
    "#model 1\n",
    "model_1 = Sequential()\n",
    "\n",
    "model_1.add(Dense(32, input_dim=24, activation='relu', kernel_initializer = 'he_normal', kernel_regularizer = regularizers.l2(0.01)))\n",
    "model_1.add(BatchNormalization())\n",
    "\n",
    "model_1.add(Dense(32, activation='relu', kernel_initializer = 'he_normal', kernel_regularizer = regularizers.l2(0.01)))\n",
    "model_1.add(BatchNormalization())\n",
    "\n",
    "model_1.add(Dense(32, activation='relu', kernel_initializer = 'he_normal', kernel_regularizer = regularizers.l2(0.01)))\n",
    "model_1.add(BatchNormalization())\n",
    "\n",
    "model_1.add(Dense(6, activation='linear', kernel_initializer = 'glorot_normal', kernel_regularizer = regularizers.l2(0.01)))"
   ]
  },
  {
   "cell_type": "code",
   "execution_count": 17,
   "metadata": {},
   "outputs": [],
   "source": [
    "model_1.compile(loss='mean_absolute_error', optimizer= 'rmsprop', metrics=['mae'])\n",
    "\n",
    "early_stop = EarlyStopping(monitor='val_loss', patience=20, mode='min')\n",
    "model_check_point = ModelCheckpoint('./model/KNN_3.h5', monitor = 'val_loss', verbose=2, save_best_only=True)\n",
    "\n",
    "callback_list = [model_check_point, early_stop]"
   ]
  },
  {
   "cell_type": "code",
   "execution_count": 18,
   "metadata": {
    "scrolled": true
   },
   "outputs": [
    {
     "name": "stdout",
     "output_type": "stream",
     "text": [
      "Train on 178881 samples, validate on 76664 samples\n",
      "Epoch 1/150\n",
      "178881/178881 [==============================] - 10s 55us/step - loss: 0.3819 - mean_absolute_error: 0.1989 - val_loss: 0.1294 - val_mean_absolute_error: 0.1005\n",
      "\n",
      "Epoch 00001: val_loss improved from inf to 0.12938, saving model to ./model/KNN_3.h5\n",
      "Epoch 2/150\n",
      "178881/178881 [==============================] - 8s 47us/step - loss: 0.1708 - mean_absolute_error: 0.1463 - val_loss: 0.1224 - val_mean_absolute_error: 0.1016\n",
      "\n",
      "Epoch 00002: val_loss improved from 0.12938 to 0.12235, saving model to ./model/KNN_3.h5\n",
      "Epoch 3/150\n",
      "178881/178881 [==============================] - 8s 47us/step - loss: 0.1564 - mean_absolute_error: 0.1371 - val_loss: 0.0931 - val_mean_absolute_error: 0.0752\n",
      "\n",
      "Epoch 00003: val_loss improved from 0.12235 to 0.09310, saving model to ./model/KNN_3.h5\n",
      "Epoch 4/150\n",
      "178881/178881 [==============================] - 8s 47us/step - loss: 0.1456 - mean_absolute_error: 0.1291 - val_loss: 0.0847 - val_mean_absolute_error: 0.0688\n",
      "\n",
      "Epoch 00004: val_loss improved from 0.09310 to 0.08468, saving model to ./model/KNN_3.h5\n",
      "Epoch 5/150\n",
      "178881/178881 [==============================] - 9s 48us/step - loss: 0.1392 - mean_absolute_error: 0.1243 - val_loss: 0.0826 - val_mean_absolute_error: 0.0680\n",
      "\n",
      "Epoch 00005: val_loss improved from 0.08468 to 0.08259, saving model to ./model/KNN_3.h5\n",
      "Epoch 6/150\n",
      "178881/178881 [==============================] - 9s 48us/step - loss: 0.1369 - mean_absolute_error: 0.1224 - val_loss: 0.0880 - val_mean_absolute_error: 0.0740\n",
      "\n",
      "Epoch 00006: val_loss did not improve from 0.08259\n",
      "Epoch 7/150\n",
      "178881/178881 [==============================] - 9s 48us/step - loss: 0.1365 - mean_absolute_error: 0.1227 - val_loss: 0.0727 - val_mean_absolute_error: 0.0590\n",
      "\n",
      "Epoch 00007: val_loss improved from 0.08259 to 0.07274, saving model to ./model/KNN_3.h5\n",
      "Epoch 8/150\n",
      "178881/178881 [==============================] - 9s 48us/step - loss: 0.1359 - mean_absolute_error: 0.1225 - val_loss: 0.0739 - val_mean_absolute_error: 0.0605\n",
      "\n",
      "Epoch 00008: val_loss did not improve from 0.07274\n",
      "Epoch 9/150\n",
      "178881/178881 [==============================] - 9s 48us/step - loss: 0.1356 - mean_absolute_error: 0.1224 - val_loss: 0.0763 - val_mean_absolute_error: 0.0635\n",
      "\n",
      "Epoch 00009: val_loss did not improve from 0.07274\n",
      "Epoch 10/150\n",
      "178881/178881 [==============================] - 8s 47us/step - loss: 0.1359 - mean_absolute_error: 0.1229 - val_loss: 0.0834 - val_mean_absolute_error: 0.0708\n",
      "\n",
      "Epoch 00010: val_loss did not improve from 0.07274\n",
      "Epoch 11/150\n",
      "178881/178881 [==============================] - 8s 47us/step - loss: 0.1347 - mean_absolute_error: 0.1219 - val_loss: 0.0768 - val_mean_absolute_error: 0.0642\n",
      "\n",
      "Epoch 00011: val_loss did not improve from 0.07274\n",
      "Epoch 12/150\n",
      "178881/178881 [==============================] - 9s 48us/step - loss: 0.1348 - mean_absolute_error: 0.1223 - val_loss: 0.0787 - val_mean_absolute_error: 0.0661\n",
      "\n",
      "Epoch 00012: val_loss did not improve from 0.07274\n",
      "Epoch 13/150\n",
      "178881/178881 [==============================] - 9s 48us/step - loss: 0.1350 - mean_absolute_error: 0.1225 - val_loss: 0.0714 - val_mean_absolute_error: 0.0590\n",
      "\n",
      "Epoch 00013: val_loss improved from 0.07274 to 0.07138, saving model to ./model/KNN_3.h5\n",
      "Epoch 14/150\n",
      "178881/178881 [==============================] - 8s 47us/step - loss: 0.1344 - mean_absolute_error: 0.1221 - val_loss: 0.0693 - val_mean_absolute_error: 0.0571\n",
      "\n",
      "Epoch 00014: val_loss improved from 0.07138 to 0.06930, saving model to ./model/KNN_3.h5\n",
      "Epoch 15/150\n",
      "178881/178881 [==============================] - 9s 48us/step - loss: 0.1338 - mean_absolute_error: 0.1217 - val_loss: 0.0694 - val_mean_absolute_error: 0.0573\n",
      "\n",
      "Epoch 00015: val_loss did not improve from 0.06930\n",
      "Epoch 16/150\n",
      "178881/178881 [==============================] - 9s 48us/step - loss: 0.1347 - mean_absolute_error: 0.1226 - val_loss: 0.0747 - val_mean_absolute_error: 0.0626\n",
      "\n",
      "Epoch 00016: val_loss did not improve from 0.06930\n",
      "Epoch 17/150\n",
      "178881/178881 [==============================] - 8s 47us/step - loss: 0.1340 - mean_absolute_error: 0.1221 - val_loss: 0.0805 - val_mean_absolute_error: 0.0687\n",
      "\n",
      "Epoch 00017: val_loss did not improve from 0.06930\n",
      "Epoch 18/150\n",
      "178881/178881 [==============================] - 9s 49us/step - loss: 0.1334 - mean_absolute_error: 0.1215 - val_loss: 0.0844 - val_mean_absolute_error: 0.0727\n",
      "\n",
      "Epoch 00018: val_loss did not improve from 0.06930\n",
      "Epoch 19/150\n",
      "178881/178881 [==============================] - 8s 47us/step - loss: 0.1327 - mean_absolute_error: 0.1209 - val_loss: 0.0809 - val_mean_absolute_error: 0.0691\n",
      "\n",
      "Epoch 00019: val_loss did not improve from 0.06930\n",
      "Epoch 20/150\n",
      "178881/178881 [==============================] - 9s 48us/step - loss: 0.1336 - mean_absolute_error: 0.1218 - val_loss: 0.0621 - val_mean_absolute_error: 0.0505\n",
      "\n",
      "Epoch 00020: val_loss improved from 0.06930 to 0.06212, saving model to ./model/KNN_3.h5\n",
      "Epoch 21/150\n",
      "178881/178881 [==============================] - 8s 47us/step - loss: 0.1333 - mean_absolute_error: 0.1217 - val_loss: 0.0824 - val_mean_absolute_error: 0.0707\n",
      "\n",
      "Epoch 00021: val_loss did not improve from 0.06212\n",
      "Epoch 22/150\n",
      "178881/178881 [==============================] - 9s 49us/step - loss: 0.1328 - mean_absolute_error: 0.1212 - val_loss: 0.0855 - val_mean_absolute_error: 0.0739\n",
      "\n",
      "Epoch 00022: val_loss did not improve from 0.06212\n",
      "Epoch 23/150\n",
      "178881/178881 [==============================] - 8s 47us/step - loss: 0.1339 - mean_absolute_error: 0.1224 - val_loss: 0.0709 - val_mean_absolute_error: 0.0594\n",
      "\n",
      "Epoch 00023: val_loss did not improve from 0.06212\n",
      "Epoch 24/150\n",
      "178881/178881 [==============================] - 9s 48us/step - loss: 0.1336 - mean_absolute_error: 0.1221 - val_loss: 0.0818 - val_mean_absolute_error: 0.0704\n",
      "\n",
      "Epoch 00024: val_loss did not improve from 0.06212\n",
      "Epoch 25/150\n",
      "178881/178881 [==============================] - 9s 48us/step - loss: 0.1333 - mean_absolute_error: 0.1219 - val_loss: 0.0726 - val_mean_absolute_error: 0.0609\n",
      "\n",
      "Epoch 00025: val_loss did not improve from 0.06212\n",
      "Epoch 26/150\n",
      "178881/178881 [==============================] - 9s 48us/step - loss: 0.1333 - mean_absolute_error: 0.1218 - val_loss: 0.0654 - val_mean_absolute_error: 0.0539\n",
      "\n",
      "Epoch 00026: val_loss did not improve from 0.06212\n",
      "Epoch 27/150\n",
      "178881/178881 [==============================] - 9s 48us/step - loss: 0.1322 - mean_absolute_error: 0.1208 - val_loss: 0.0879 - val_mean_absolute_error: 0.0766\n",
      "\n",
      "Epoch 00027: val_loss did not improve from 0.06212\n",
      "Epoch 28/150\n",
      "178881/178881 [==============================] - 9s 48us/step - loss: 0.1326 - mean_absolute_error: 0.1212 - val_loss: 0.0717 - val_mean_absolute_error: 0.0603\n",
      "\n",
      "Epoch 00028: val_loss did not improve from 0.06212\n",
      "Epoch 29/150\n",
      "178881/178881 [==============================] - 9s 48us/step - loss: 0.1325 - mean_absolute_error: 0.1212 - val_loss: 0.0654 - val_mean_absolute_error: 0.0541\n",
      "\n",
      "Epoch 00029: val_loss did not improve from 0.06212\n",
      "Epoch 30/150\n",
      "178881/178881 [==============================] - 8s 47us/step - loss: 0.1340 - mean_absolute_error: 0.1227 - val_loss: 0.0665 - val_mean_absolute_error: 0.0553\n",
      "\n",
      "Epoch 00030: val_loss did not improve from 0.06212\n",
      "Epoch 31/150\n",
      "178881/178881 [==============================] - 8s 47us/step - loss: 0.1333 - mean_absolute_error: 0.1220 - val_loss: 0.0753 - val_mean_absolute_error: 0.0639\n",
      "\n",
      "Epoch 00031: val_loss did not improve from 0.06212\n",
      "Epoch 32/150\n",
      "178881/178881 [==============================] - 9s 49us/step - loss: 0.1334 - mean_absolute_error: 0.1222 - val_loss: 0.0802 - val_mean_absolute_error: 0.0691\n",
      "\n",
      "Epoch 00032: val_loss did not improve from 0.06212\n",
      "Epoch 33/150\n",
      "178881/178881 [==============================] - 9s 49us/step - loss: 0.1333 - mean_absolute_error: 0.1221 - val_loss: 0.0834 - val_mean_absolute_error: 0.0722\n",
      "\n",
      "Epoch 00033: val_loss did not improve from 0.06212\n",
      "Epoch 34/150\n",
      "178881/178881 [==============================] - 9s 48us/step - loss: 0.1333 - mean_absolute_error: 0.1221 - val_loss: 0.0598 - val_mean_absolute_error: 0.0488\n",
      "\n",
      "Epoch 00034: val_loss improved from 0.06212 to 0.05983, saving model to ./model/KNN_3.h5\n",
      "Epoch 35/150\n",
      "178881/178881 [==============================] - 8s 47us/step - loss: 0.1326 - mean_absolute_error: 0.1214 - val_loss: 0.0797 - val_mean_absolute_error: 0.0687\n",
      "\n",
      "Epoch 00035: val_loss did not improve from 0.05983\n",
      "Epoch 36/150\n",
      "178881/178881 [==============================] - 9s 48us/step - loss: 0.1319 - mean_absolute_error: 0.1208 - val_loss: 0.0734 - val_mean_absolute_error: 0.0623\n",
      "\n",
      "Epoch 00036: val_loss did not improve from 0.05983\n",
      "Epoch 37/150\n",
      "178881/178881 [==============================] - 9s 48us/step - loss: 0.1330 - mean_absolute_error: 0.1221 - val_loss: 0.0653 - val_mean_absolute_error: 0.0544\n",
      "\n",
      "Epoch 00037: val_loss did not improve from 0.05983\n",
      "Epoch 38/150\n",
      "178881/178881 [==============================] - 9s 48us/step - loss: 0.1322 - mean_absolute_error: 0.1212 - val_loss: 0.0781 - val_mean_absolute_error: 0.0671\n",
      "\n",
      "Epoch 00038: val_loss did not improve from 0.05983\n",
      "Epoch 39/150\n",
      "178881/178881 [==============================] - 9s 49us/step - loss: 0.1315 - mean_absolute_error: 0.1205 - val_loss: 0.0678 - val_mean_absolute_error: 0.0568\n",
      "\n",
      "Epoch 00039: val_loss did not improve from 0.05983\n",
      "Epoch 40/150\n",
      "178881/178881 [==============================] - 8s 47us/step - loss: 0.1318 - mean_absolute_error: 0.1209 - val_loss: 0.0687 - val_mean_absolute_error: 0.0577\n",
      "\n",
      "Epoch 00040: val_loss did not improve from 0.05983\n",
      "Epoch 41/150\n",
      "178881/178881 [==============================] - 8s 47us/step - loss: 0.1319 - mean_absolute_error: 0.1210 - val_loss: 0.0643 - val_mean_absolute_error: 0.0536\n",
      "\n",
      "Epoch 00041: val_loss did not improve from 0.05983\n",
      "Epoch 42/150\n",
      "178881/178881 [==============================] - 8s 47us/step - loss: 0.1328 - mean_absolute_error: 0.1219 - val_loss: 0.0857 - val_mean_absolute_error: 0.0750\n",
      "\n",
      "Epoch 00042: val_loss did not improve from 0.05983\n",
      "Epoch 43/150\n",
      "178881/178881 [==============================] - 9s 48us/step - loss: 0.1315 - mean_absolute_error: 0.1207 - val_loss: 0.0727 - val_mean_absolute_error: 0.0620\n",
      "\n",
      "Epoch 00043: val_loss did not improve from 0.05983\n",
      "Epoch 44/150\n",
      "178881/178881 [==============================] - 9s 48us/step - loss: 0.1323 - mean_absolute_error: 0.1216 - val_loss: 0.0711 - val_mean_absolute_error: 0.0604\n",
      "\n",
      "Epoch 00044: val_loss did not improve from 0.05983\n",
      "Epoch 45/150\n",
      "178881/178881 [==============================] - 9s 48us/step - loss: 0.1316 - mean_absolute_error: 0.1210 - val_loss: 0.0752 - val_mean_absolute_error: 0.0646\n",
      "\n",
      "Epoch 00045: val_loss did not improve from 0.05983\n",
      "Epoch 46/150\n",
      "178881/178881 [==============================] - 8s 47us/step - loss: 0.1325 - mean_absolute_error: 0.1219 - val_loss: 0.0817 - val_mean_absolute_error: 0.0711\n",
      "\n",
      "Epoch 00046: val_loss did not improve from 0.05983\n",
      "Epoch 47/150\n",
      "178881/178881 [==============================] - 8s 47us/step - loss: 0.1321 - mean_absolute_error: 0.1216 - val_loss: 0.0666 - val_mean_absolute_error: 0.0561\n",
      "\n",
      "Epoch 00047: val_loss did not improve from 0.05983\n",
      "Epoch 48/150\n",
      "178881/178881 [==============================] - 8s 47us/step - loss: 0.1319 - mean_absolute_error: 0.1215 - val_loss: 0.0612 - val_mean_absolute_error: 0.0508\n",
      "\n",
      "Epoch 00048: val_loss did not improve from 0.05983\n",
      "Epoch 49/150\n",
      "178881/178881 [==============================] - 8s 47us/step - loss: 0.1312 - mean_absolute_error: 0.1208 - val_loss: 0.0678 - val_mean_absolute_error: 0.0573\n",
      "\n",
      "Epoch 00049: val_loss did not improve from 0.05983\n",
      "Epoch 50/150\n",
      "178881/178881 [==============================] - 9s 48us/step - loss: 0.1312 - mean_absolute_error: 0.1208 - val_loss: 0.0662 - val_mean_absolute_error: 0.0558\n",
      "\n",
      "Epoch 00050: val_loss did not improve from 0.05983\n",
      "Epoch 51/150\n",
      "178881/178881 [==============================] - 9s 48us/step - loss: 0.1320 - mean_absolute_error: 0.1217 - val_loss: 0.0600 - val_mean_absolute_error: 0.0498\n",
      "\n",
      "Epoch 00051: val_loss did not improve from 0.05983\n",
      "Epoch 52/150\n",
      "178881/178881 [==============================] - 8s 47us/step - loss: 0.1311 - mean_absolute_error: 0.1208 - val_loss: 0.0635 - val_mean_absolute_error: 0.0532\n",
      "\n",
      "Epoch 00052: val_loss did not improve from 0.05983\n",
      "Epoch 53/150\n",
      "178881/178881 [==============================] - 8s 47us/step - loss: 0.1317 - mean_absolute_error: 0.1214 - val_loss: 0.0681 - val_mean_absolute_error: 0.0579\n",
      "\n",
      "Epoch 00053: val_loss did not improve from 0.05983\n",
      "Epoch 54/150\n",
      "178881/178881 [==============================] - 9s 49us/step - loss: 0.1304 - mean_absolute_error: 0.1201 - val_loss: 0.0674 - val_mean_absolute_error: 0.0570\n",
      "\n",
      "Epoch 00054: val_loss did not improve from 0.05983\n"
     ]
    }
   ],
   "source": [
    "hist_1 = model_1.fit(x_train.values, y_train.values, epochs=150, batch_size=64, validation_data=(x_test, y_test), callbacks = callback_list)"
   ]
  },
  {
   "cell_type": "code",
   "execution_count": 19,
   "metadata": {},
   "outputs": [
    {
     "data": {
      "image/png": "[encoded data removed]",
      "text/plain": [
       "<Figure size 432x288 with 1 Axes>"
      ]
     },
     "metadata": {},
     "output_type": "display_data"
    }
   ],
   "source": [
    "# plot history\n",
    "plt.plot(hist_1.history['loss'], label='train')\n",
    "plt.plot(hist_1.history['val_loss'], label='test')\n",
    "plt.xlabel('Epochs')\n",
    "plt.ylabel('Loss')\n",
    "plt.legend()\n",
    "plt.show()"
   ]
  },
  {
   "cell_type": "code",
   "execution_count": 20,
   "metadata": {},
   "outputs": [],
   "source": [
    "model = load_model('./model/KNN_3.h5')"
   ]
  },
  {
   "cell_type": "code",
   "execution_count": 21,
   "metadata": {},
   "outputs": [],
   "source": [
    "y_pred = pd.DataFrame(model.predict(x_test))"
   ]
  },
  {
   "cell_type": "code",
   "execution_count": 22,
   "metadata": {},
   "outputs": [],
   "source": [
    "mse = mean_squared_error(y_test, y_pred)\n",
    "rmse = np.sqrt(mse)\n",
    "mae_metric = mean_absolute_error(y_test, y_pred)\n",
    "r2_error = r2_score(y_test.values, y_pred)"
   ]
  },
  {
   "cell_type": "code",
   "execution_count": 23,
   "metadata": {},
   "outputs": [
    {
     "name": "stdout",
     "output_type": "stream",
     "text": [
      "MSE: 0.004220994501999419\n",
      "RMSE:  0.06496918117076295\n",
      "MAE:  0.04882926073005867\n",
      "R2_Score: 0.9957716283927923\n"
     ]
    }
   ],
   "source": [
    "print(\"MSE:\", mse)\n",
    "print(\"RMSE: \", rmse)\n",
    "print(\"MAE: \", mae_metric)\n",
    "print(\"R2_Score:\", r2_error)"
   ]
  },
  {
   "cell_type": "code",
   "execution_count": 24,
   "metadata": {
    "scrolled": false
   },
   "outputs": [
    {
     "data": {
      "image/png": "[encoded data removed]",
      "text/plain": [
       "<Figure size 720x720 with 6 Axes>"
      ]
     },
     "metadata": {},
     "output_type": "display_data"
    }
   ],
   "source": [
    "fig = plt.figure(figsize=(10,10))\n",
    "\n",
    "ax1 = fig.add_subplot(3,3,1)\n",
    "ax2 = fig.add_subplot(3,3,2)\n",
    "ax3 = fig.add_subplot(3,3,3)\n",
    "ax4 = fig.add_subplot(3,3,4)\n",
    "ax5 = fig.add_subplot(3,3,5)\n",
    "ax6 = fig.add_subplot(3,3,6)\n",
    "\n",
    "ax1.scatter(y_test.values[:,0], y_pred.iloc[:,0], s= 2)\n",
    "ax1.set_xlabel('x_real')\n",
    "ax1.set_ylabel('x_pred')\n",
    "#ax1.set_xlim((-2.5, 2.5))\n",
    "#ax1.set_ylim((-2.5, 2.5))\n",
    "ax2.scatter(y_test.values[:,1], y_pred.iloc[:,1], s= 2)\n",
    "ax2.set_xlabel('y_real')\n",
    "ax2.set_ylabel('y_pred')\n",
    "#ax2.set_xlim((-2.5, 2.5))\n",
    "#ax2.set_ylim((-2.5, 2.5))\n",
    "ax3.scatter(y_test.values[:,2], y_pred.iloc[:,2], s= 2)\n",
    "ax3.set_xlabel('z_real')\n",
    "ax3.set_ylabel('z_pred')\n",
    "#ax3.set_xlim((-2.5, 2.5))\n",
    "#ax3.set_ylim((-2.5, 2.5))\n",
    "ax4.scatter(y_test.values[:,3], y_pred.iloc[:,3], s= 2)\n",
    "ax4.set_xlabel('ax_real')\n",
    "ax4.set_ylabel('ax_pred')\n",
    "#ax4.set_xlim((-2.5, 2.5))\n",
    "#ax4.set_ylim((-2.5, 2.5))\n",
    "ax5.scatter(y_test.values[:,4], y_pred.iloc[:,4], s= 2)\n",
    "ax5.set_xlabel('ay_real')\n",
    "ax5.set_ylabel('ay_pred')\n",
    "#ax5.set_xlim((-2.5, 2.5))\n",
    "#ax5.set_ylim((-2.5, 2.5))\n",
    "ax6.scatter(y_test.values[:,5], y_pred.iloc[:,5], s= 2)\n",
    "ax6.set_xlabel('az_real')\n",
    "ax6.set_ylabel('az_pred')\n",
    "#ax6.set_xlim((-2.5, 2.5))\n",
    "#ax6.set_ylim((-2.5, 2.5))\n",
    "\n",
    "plt.subplots_adjust(wspace = 1, hspace = 0.5)\n",
    "plt.show()"
   ]
  },
  {
   "cell_type": "code",
   "execution_count": 25,
   "metadata": {},
   "outputs": [],
   "source": [
    "#cross validation\n",
    "\n",
    "kfold = KFold(n_splits=20, shuffle=True, random_state = 500)\n",
    "data = final_data\n",
    "X = final_data.iloc[:,0:24]\n",
    "Y = final_data.iloc[:,24:]\n",
    "\n",
    "cv_rmse = []\n",
    "cv_mae = []\n",
    "cv_r2 = []\n",
    "\n",
    "for train, test in kfold.split(X, Y):\n",
    "    \n",
    "    # evaluate the model\n",
    "    pred = model.predict(X.iloc[test,:])\n",
    "    \n",
    "    rmse = np.sqrt(mean_squared_error(Y.iloc[test,:], pred))\n",
    "    mae = mean_absolute_error(Y.iloc[test,:], pred)\n",
    "    r2 = r2_score(Y.iloc[test,:], pred)\n",
    "    \n",
    "    cv_rmse.append(rmse)\n",
    "    cv_mae.append(mae)\n",
    "    cv_r2.append(r2)"
   ]
  },
  {
   "cell_type": "code",
   "execution_count": 26,
   "metadata": {},
   "outputs": [
    {
     "name": "stdout",
     "output_type": "stream",
     "text": [
      "0.06505892788994071\n",
      "0.0003085856423507153\n",
      "\n",
      "\n",
      "0.048882348650478295\n",
      "0.00022448741684710042\n",
      "\n",
      "\n",
      "0.9957665661856187\n",
      "3.2575946570600804e-05\n"
     ]
    }
   ],
   "source": [
    "print(np.mean(cv_rmse))\n",
    "print(np.std(cv_rmse))\n",
    "print('\\n')\n",
    "\n",
    "print(np.mean(cv_mae))\n",
    "print(np.std(cv_mae))\n",
    "print('\\n')\n",
    "\n",
    "print(np.mean(cv_r2))\n",
    "print(np.std(cv_r2))"
   ]
  },
  {
   "cell_type": "markdown",
   "metadata": {},
   "source": [
    "원래 scale로 변환"
   ]
  },
  {
   "cell_type": "code",
   "execution_count": 27,
   "metadata": {},
   "outputs": [
    {
     "name": "stdout",
     "output_type": "stream",
     "text": [
      "MSE:  0.03917037321711291\n",
      "RMSE:  0.19791506566482733\n",
      "MAE:  0.15301355226781468\n",
      "R2_Score: 0.9957716284522692\n"
     ]
    }
   ],
   "source": [
    "raw_data = pd.read_csv('./data/ordered_molecules.csv')\n",
    "\n",
    "px_mean = np.mean(raw_data['px'])\n",
    "px_std = np.std(raw_data['px'])\n",
    "py_mean = np.mean(raw_data['py'])\n",
    "py_std = np.std(raw_data['py'])\n",
    "pz_mean = np.mean(raw_data['pz'])\n",
    "pz_std = np.std(raw_data['pz'])\n",
    "\n",
    "ax_mean = np.mean(raw_data['ax'])\n",
    "ax_std = np.std(raw_data['ax'])\n",
    "ay_mean = np.mean(raw_data['ay'])\n",
    "ay_std = np.std(raw_data['ay'])\n",
    "az_mean = np.mean(raw_data['az'])\n",
    "az_std = np.std(raw_data['az'])\n",
    "\n",
    "y_test.iloc[:,0] = y_test.iloc[:,0] * px_std + px_mean\n",
    "y_test.iloc[:,1] = y_test.iloc[:,1] * py_std + py_mean\n",
    "y_test.iloc[:,2] = y_test.iloc[:,2] * pz_std + pz_mean\n",
    "\n",
    "y_test.iloc[:,3] = y_test.iloc[:,3] * ax_std + ax_mean\n",
    "y_test.iloc[:,4] = y_test.iloc[:,4] * ay_std + ay_mean\n",
    "y_test.iloc[:,5] = y_test.iloc[:,5] * az_std + az_mean\n",
    "\n",
    "y_pred_df = pd.DataFrame(y_pred)\n",
    "\n",
    "y_pred_df.iloc[:,0] = y_pred_df.iloc[:,0] * px_std + px_mean\n",
    "y_pred_df.iloc[:,1] = y_pred_df.iloc[:,1] * py_std + py_mean\n",
    "y_pred_df.iloc[:,2] = y_pred_df.iloc[:,2] * pz_std + pz_mean\n",
    "\n",
    "y_pred_df.iloc[:,3] = y_pred_df.iloc[:,3] * ax_std + ax_mean\n",
    "y_pred_df.iloc[:,4] = y_pred_df.iloc[:,4] * ay_std + ay_mean\n",
    "y_pred_df.iloc[:,5] = y_pred_df.iloc[:,5] * az_std + az_mean\n",
    "\n",
    "mse = mean_squared_error(y_test, y_pred_df)\n",
    "rmse = np.sqrt(mse)\n",
    "mae_metric = mean_absolute_error(y_test, y_pred_df)\n",
    "r2_error = r2_score(y_test, y_pred_df)\n",
    "\n",
    "print(\"MSE: \", mse)\n",
    "print(\"RMSE: \", rmse)\n",
    "print(\"MAE: \", mae_metric)\n",
    "print(\"R2_Score:\", r2_error)"
   ]
  },
  {
   "cell_type": "code",
   "execution_count": 28,
   "metadata": {},
   "outputs": [
    {
     "name": "stderr",
     "output_type": "stream",
     "text": [
      "/usr/local/anaconda/envs/env_py3/lib/python3.6/site-packages/pandas/core/indexing.py:630: SettingWithCopyWarning: \n",
      "A value is trying to be set on a copy of a slice from a DataFrame.\n",
      "Try using .loc[row_indexer,col_indexer] = value instead\n",
      "\n",
      "See the caveats in the documentation: http://pandas.pydata.org/pandas-docs/stable/indexing.html#indexing-view-versus-copy\n",
      "  self.obj[item_labels[indexer[info_axis]]] = value\n"
     ]
    },
    {
     "name": "stdout",
     "output_type": "stream",
     "text": [
      "0.19818729401371743\n",
      "0.0008603693408202107\n",
      "\n",
      "\n",
      "0.15318834524908848\n",
      "0.0006599756267781114\n",
      "\n",
      "\n",
      "0.9957665662450832\n",
      "3.257595505601375e-05\n"
     ]
    }
   ],
   "source": [
    "kfold = KFold(n_splits=20, shuffle=True, random_state = 500)\n",
    "X = final_data.iloc[:,0:24]\n",
    "Y = final_data.iloc[:,24:]\n",
    "\n",
    "cv_rmse = []\n",
    "cv_mae = []\n",
    "cv_r2 = []\n",
    "\n",
    "for train, test in kfold.split(X, Y):\n",
    "    y_test = Y.iloc[test,:]\n",
    "\n",
    "    y_test.iloc[:,0] = y_test.iloc[:,0] * px_std + px_mean\n",
    "    y_test.iloc[:,1] = y_test.iloc[:,1] * py_std + py_mean\n",
    "    y_test.iloc[:,2] = y_test.iloc[:,2] * pz_std + pz_mean\n",
    "\n",
    "    y_test.iloc[:,3] = y_test.iloc[:,3] * ax_std + ax_mean\n",
    "    y_test.iloc[:,4] = y_test.iloc[:,4] * ay_std + ay_mean\n",
    "    y_test.iloc[:,5] = y_test.iloc[:,5] * az_std + az_mean\n",
    "    \n",
    "    y_pred = model.predict(X.iloc[test,:])\n",
    "    y_pred_df = pd.DataFrame(y_pred)\n",
    "    \n",
    "    y_pred_df.iloc[:,0] = y_pred_df.iloc[:,0] * px_std + px_mean\n",
    "    y_pred_df.iloc[:,1] = y_pred_df.iloc[:,1] * py_std + py_mean\n",
    "    y_pred_df.iloc[:,2] = y_pred_df.iloc[:,2] * pz_std + pz_mean\n",
    "\n",
    "    y_pred_df.iloc[:,3] = y_pred_df.iloc[:,3] * ax_std + ax_mean\n",
    "    y_pred_df.iloc[:,4] = y_pred_df.iloc[:,4] * ay_std + ay_mean\n",
    "    y_pred_df.iloc[:,5] = y_pred_df.iloc[:,5] * az_std + az_mean\n",
    "    \n",
    "    rmse = np.sqrt(mean_squared_error(y_test, y_pred_df))\n",
    "    mae = mean_absolute_error(y_test, y_pred_df)\n",
    "    r2 = r2_score(y_test, y_pred_df)\n",
    "    \n",
    "    cv_rmse.append(rmse)\n",
    "    cv_mae.append(mae)\n",
    "    cv_r2.append(r2)\n",
    "    \n",
    "print(np.mean(cv_rmse))\n",
    "print(np.std(cv_rmse))\n",
    "print('\\n')\n",
    "\n",
    "print(np.mean(cv_mae))\n",
    "print(np.std(cv_mae))\n",
    "print('\\n')\n",
    "\n",
    "print(np.mean(cv_r2))\n",
    "print(np.std(cv_r2))\n"
   ]
  },
  {
   "cell_type": "code",
   "execution_count": null,
   "metadata": {},
   "outputs": [],
   "source": []
  }
 ],
 "metadata": {
  "kernelspec": {
   "display_name": "Python 3",
   "language": "python",
   "name": "python3"
  },
  "language_info": {
   "codemirror_mode": {
    "name": "ipython",
    "version": 3
   },
   "file_extension": ".py",
   "mimetype": "text/x-python",
   "name": "python",
   "nbconvert_exporter": "python",
   "pygments_lexer": "ipython3",
   "version": "3.6.5"
  }
 },
 "nbformat": 4,
 "nbformat_minor": 2
}
