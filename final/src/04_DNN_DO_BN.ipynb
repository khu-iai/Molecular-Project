{
 "cells": [
  {
   "cell_type": "code",
   "execution_count": 1,
   "metadata": {},
   "outputs": [
    {
     "name": "stderr",
     "output_type": "stream",
     "text": [
      "Using TensorFlow backend.\n"
     ]
    }
   ],
   "source": [
    "import numpy as np\n",
    "import pandas as pd\n",
    "import matplotlib.pyplot as plt\n",
    "from sklearn.model_selection import train_test_split, KFold\n",
    "from sklearn.metrics import mean_squared_error, r2_score, mean_absolute_error\n",
    "from sklearn.preprocessing import scale\n",
    "\n",
    "from keras.models import Sequential\n",
    "from keras.layers import Dense, Dropout\n",
    "\n",
    "from keras.layers.normalization import BatchNormalization\n",
    "from keras.initializers import Initializer\n",
    "from keras import regularizers\n",
    "from keras.callbacks import EarlyStopping, ModelCheckpoint\n",
    "from keras.models import load_model\n"
   ]
  },
  {
   "cell_type": "code",
   "execution_count": 2,
   "metadata": {},
   "outputs": [],
   "source": [
    "raw_data = pd.read_csv('./data/ordered_molecules.csv')"
   ]
  },
  {
   "cell_type": "code",
   "execution_count": 3,
   "metadata": {},
   "outputs": [
    {
     "data": {
      "text/html": [
       "<div>\n",
       "<style scoped>\n",
       "    .dataframe tbody tr th:only-of-type {\n",
       "        vertical-align: middle;\n",
       "    }\n",
       "\n",
       "    .dataframe tbody tr th {\n",
       "        vertical-align: top;\n",
       "    }\n",
       "\n",
       "    .dataframe thead th {\n",
       "        text-align: right;\n",
       "    }\n",
       "</style>\n",
       "<table border=\"1\" class=\"dataframe\">\n",
       "  <thead>\n",
       "    <tr style=\"text-align: right;\">\n",
       "      <th></th>\n",
       "      <th>time</th>\n",
       "      <th>molecule</th>\n",
       "      <th>px</th>\n",
       "      <th>py</th>\n",
       "      <th>pz</th>\n",
       "      <th>ax</th>\n",
       "      <th>ay</th>\n",
       "      <th>az</th>\n",
       "    </tr>\n",
       "  </thead>\n",
       "  <tbody>\n",
       "    <tr>\n",
       "      <th>0</th>\n",
       "      <td>0</td>\n",
       "      <td>1</td>\n",
       "      <td>0.27497</td>\n",
       "      <td>0.22765</td>\n",
       "      <td>0.40548</td>\n",
       "      <td>1.185458</td>\n",
       "      <td>-1.527830</td>\n",
       "      <td>-4.614324</td>\n",
       "    </tr>\n",
       "    <tr>\n",
       "      <th>1</th>\n",
       "      <td>0</td>\n",
       "      <td>2</td>\n",
       "      <td>2.13410</td>\n",
       "      <td>1.61428</td>\n",
       "      <td>1.62211</td>\n",
       "      <td>-4.601109</td>\n",
       "      <td>-0.659241</td>\n",
       "      <td>1.090967</td>\n",
       "    </tr>\n",
       "    <tr>\n",
       "      <th>2</th>\n",
       "      <td>0</td>\n",
       "      <td>3</td>\n",
       "      <td>12.05408</td>\n",
       "      <td>12.60878</td>\n",
       "      <td>2.90295</td>\n",
       "      <td>4.530882</td>\n",
       "      <td>-2.598597</td>\n",
       "      <td>2.008448</td>\n",
       "    </tr>\n",
       "    <tr>\n",
       "      <th>3</th>\n",
       "      <td>0</td>\n",
       "      <td>4</td>\n",
       "      <td>0.85376</td>\n",
       "      <td>1.93829</td>\n",
       "      <td>4.87515</td>\n",
       "      <td>3.975239</td>\n",
       "      <td>0.917088</td>\n",
       "      <td>-2.261618</td>\n",
       "    </tr>\n",
       "    <tr>\n",
       "      <th>4</th>\n",
       "      <td>0</td>\n",
       "      <td>5</td>\n",
       "      <td>12.70257</td>\n",
       "      <td>0.12956</td>\n",
       "      <td>6.09076</td>\n",
       "      <td>-1.861295</td>\n",
       "      <td>-0.908830</td>\n",
       "      <td>5.337542</td>\n",
       "    </tr>\n",
       "  </tbody>\n",
       "</table>\n",
       "</div>"
      ],
      "text/plain": [
       "   time  molecule        px        py       pz        ax        ay        az\n",
       "0     0         1   0.27497   0.22765  0.40548  1.185458 -1.527830 -4.614324\n",
       "1     0         2   2.13410   1.61428  1.62211 -4.601109 -0.659241  1.090967\n",
       "2     0         3  12.05408  12.60878  2.90295  4.530882 -2.598597  2.008448\n",
       "3     0         4   0.85376   1.93829  4.87515  3.975239  0.917088 -2.261618\n",
       "4     0         5  12.70257   0.12956  6.09076 -1.861295 -0.908830  5.337542"
      ]
     },
     "execution_count": 3,
     "metadata": {},
     "output_type": "execute_result"
    }
   ],
   "source": [
    "raw_data.head()"
   ]
  },
  {
   "cell_type": "code",
   "execution_count": 4,
   "metadata": {},
   "outputs": [],
   "source": [
    "raw_data.iloc[:,2:] = scale(raw_data.iloc[:,2:], axis = 0)"
   ]
  },
  {
   "cell_type": "code",
   "execution_count": 5,
   "metadata": {},
   "outputs": [],
   "source": [
    "raw_data_scaled = raw_data"
   ]
  },
  {
   "cell_type": "code",
   "execution_count": 6,
   "metadata": {},
   "outputs": [
    {
     "data": {
      "text/html": [
       "<div>\n",
       "<style scoped>\n",
       "    .dataframe tbody tr th:only-of-type {\n",
       "        vertical-align: middle;\n",
       "    }\n",
       "\n",
       "    .dataframe tbody tr th {\n",
       "        vertical-align: top;\n",
       "    }\n",
       "\n",
       "    .dataframe thead th {\n",
       "        text-align: right;\n",
       "    }\n",
       "</style>\n",
       "<table border=\"1\" class=\"dataframe\">\n",
       "  <thead>\n",
       "    <tr style=\"text-align: right;\">\n",
       "      <th></th>\n",
       "      <th>time</th>\n",
       "      <th>molecule</th>\n",
       "      <th>px</th>\n",
       "      <th>py</th>\n",
       "      <th>pz</th>\n",
       "      <th>ax</th>\n",
       "      <th>ay</th>\n",
       "      <th>az</th>\n",
       "    </tr>\n",
       "  </thead>\n",
       "  <tbody>\n",
       "    <tr>\n",
       "      <th>0</th>\n",
       "      <td>0</td>\n",
       "      <td>1</td>\n",
       "      <td>-1.644088</td>\n",
       "      <td>-1.687248</td>\n",
       "      <td>-1.622801</td>\n",
       "      <td>0.433043</td>\n",
       "      <td>-0.557533</td>\n",
       "      <td>-1.614066</td>\n",
       "    </tr>\n",
       "    <tr>\n",
       "      <th>1</th>\n",
       "      <td>0</td>\n",
       "      <td>2</td>\n",
       "      <td>-1.146260</td>\n",
       "      <td>-1.315603</td>\n",
       "      <td>-1.297500</td>\n",
       "      <td>-1.680760</td>\n",
       "      <td>-0.240568</td>\n",
       "      <td>0.381615</td>\n",
       "    </tr>\n",
       "    <tr>\n",
       "      <th>2</th>\n",
       "      <td>0</td>\n",
       "      <td>3</td>\n",
       "      <td>1.510062</td>\n",
       "      <td>1.631154</td>\n",
       "      <td>-0.955030</td>\n",
       "      <td>1.655108</td>\n",
       "      <td>-0.948277</td>\n",
       "      <td>0.702545</td>\n",
       "    </tr>\n",
       "    <tr>\n",
       "      <th>3</th>\n",
       "      <td>0</td>\n",
       "      <td>4</td>\n",
       "      <td>-1.489103</td>\n",
       "      <td>-1.228761</td>\n",
       "      <td>-0.427706</td>\n",
       "      <td>1.452135</td>\n",
       "      <td>0.334665</td>\n",
       "      <td>-0.791101</td>\n",
       "    </tr>\n",
       "    <tr>\n",
       "      <th>4</th>\n",
       "      <td>0</td>\n",
       "      <td>5</td>\n",
       "      <td>1.683712</td>\n",
       "      <td>-1.713539</td>\n",
       "      <td>-0.102678</td>\n",
       "      <td>-0.679920</td>\n",
       "      <td>-0.331648</td>\n",
       "      <td>1.867045</td>\n",
       "    </tr>\n",
       "  </tbody>\n",
       "</table>\n",
       "</div>"
      ],
      "text/plain": [
       "   time  molecule        px        py        pz        ax        ay        az\n",
       "0     0         1 -1.644088 -1.687248 -1.622801  0.433043 -0.557533 -1.614066\n",
       "1     0         2 -1.146260 -1.315603 -1.297500 -1.680760 -0.240568  0.381615\n",
       "2     0         3  1.510062  1.631154 -0.955030  1.655108 -0.948277  0.702545\n",
       "3     0         4 -1.489103 -1.228761 -0.427706  1.452135  0.334665 -0.791101\n",
       "4     0         5  1.683712 -1.713539 -0.102678 -0.679920 -0.331648  1.867045"
      ]
     },
     "execution_count": 6,
     "metadata": {},
     "output_type": "execute_result"
    }
   ],
   "source": [
    "raw_data_scaled.head()"
   ]
  },
  {
   "cell_type": "code",
   "execution_count": 7,
   "metadata": {},
   "outputs": [],
   "source": [
    "target_data = raw_data_scaled.iloc[128:,2:]\n",
    "data = pd.concat([raw_data_scaled.iloc[0:255872,:].reset_index(drop=True), target_data.reset_index(drop=True)], axis = 1, ignore_index=True)"
   ]
  },
  {
   "cell_type": "code",
   "execution_count": 8,
   "metadata": {},
   "outputs": [
    {
     "data": {
      "text/html": [
       "<div>\n",
       "<style scoped>\n",
       "    .dataframe tbody tr th:only-of-type {\n",
       "        vertical-align: middle;\n",
       "    }\n",
       "\n",
       "    .dataframe tbody tr th {\n",
       "        vertical-align: top;\n",
       "    }\n",
       "\n",
       "    .dataframe thead th {\n",
       "        text-align: right;\n",
       "    }\n",
       "</style>\n",
       "<table border=\"1\" class=\"dataframe\">\n",
       "  <thead>\n",
       "    <tr style=\"text-align: right;\">\n",
       "      <th></th>\n",
       "      <th>0</th>\n",
       "      <th>1</th>\n",
       "      <th>2</th>\n",
       "      <th>3</th>\n",
       "      <th>4</th>\n",
       "      <th>5</th>\n",
       "      <th>6</th>\n",
       "      <th>7</th>\n",
       "      <th>8</th>\n",
       "      <th>9</th>\n",
       "      <th>10</th>\n",
       "      <th>11</th>\n",
       "      <th>12</th>\n",
       "      <th>13</th>\n",
       "    </tr>\n",
       "  </thead>\n",
       "  <tbody>\n",
       "    <tr>\n",
       "      <th>0</th>\n",
       "      <td>0</td>\n",
       "      <td>1</td>\n",
       "      <td>-1.644088</td>\n",
       "      <td>-1.687248</td>\n",
       "      <td>-1.622801</td>\n",
       "      <td>0.433043</td>\n",
       "      <td>-0.557533</td>\n",
       "      <td>-1.614066</td>\n",
       "      <td>-1.643419</td>\n",
       "      <td>-1.687447</td>\n",
       "      <td>-1.623753</td>\n",
       "      <td>0.428789</td>\n",
       "      <td>-0.562693</td>\n",
       "      <td>-1.620018</td>\n",
       "    </tr>\n",
       "    <tr>\n",
       "      <th>1</th>\n",
       "      <td>0</td>\n",
       "      <td>2</td>\n",
       "      <td>-1.146260</td>\n",
       "      <td>-1.315603</td>\n",
       "      <td>-1.297500</td>\n",
       "      <td>-1.680760</td>\n",
       "      <td>-0.240568</td>\n",
       "      <td>0.381615</td>\n",
       "      <td>-1.146375</td>\n",
       "      <td>-1.313517</td>\n",
       "      <td>-1.298369</td>\n",
       "      <td>-1.706684</td>\n",
       "      <td>-0.293925</td>\n",
       "      <td>0.372428</td>\n",
       "    </tr>\n",
       "    <tr>\n",
       "      <th>2</th>\n",
       "      <td>0</td>\n",
       "      <td>3</td>\n",
       "      <td>1.510062</td>\n",
       "      <td>1.631154</td>\n",
       "      <td>-0.955030</td>\n",
       "      <td>1.655108</td>\n",
       "      <td>-0.948277</td>\n",
       "      <td>0.702545</td>\n",
       "      <td>1.510726</td>\n",
       "      <td>1.631180</td>\n",
       "      <td>-0.957386</td>\n",
       "      <td>1.618997</td>\n",
       "      <td>-0.952184</td>\n",
       "      <td>0.774350</td>\n",
       "    </tr>\n",
       "    <tr>\n",
       "      <th>3</th>\n",
       "      <td>0</td>\n",
       "      <td>4</td>\n",
       "      <td>-1.489103</td>\n",
       "      <td>-1.228761</td>\n",
       "      <td>-0.427706</td>\n",
       "      <td>1.452135</td>\n",
       "      <td>0.334665</td>\n",
       "      <td>-0.791101</td>\n",
       "      <td>-1.487831</td>\n",
       "      <td>-1.228078</td>\n",
       "      <td>-0.426671</td>\n",
       "      <td>1.405047</td>\n",
       "      <td>0.302387</td>\n",
       "      <td>-0.800858</td>\n",
       "    </tr>\n",
       "    <tr>\n",
       "      <th>4</th>\n",
       "      <td>0</td>\n",
       "      <td>5</td>\n",
       "      <td>1.683712</td>\n",
       "      <td>-1.713539</td>\n",
       "      <td>-0.102678</td>\n",
       "      <td>-0.679920</td>\n",
       "      <td>-0.331648</td>\n",
       "      <td>1.867045</td>\n",
       "      <td>1.683602</td>\n",
       "      <td>-1.713879</td>\n",
       "      <td>-0.101376</td>\n",
       "      <td>-0.654165</td>\n",
       "      <td>-0.308364</td>\n",
       "      <td>1.838234</td>\n",
       "    </tr>\n",
       "  </tbody>\n",
       "</table>\n",
       "</div>"
      ],
      "text/plain": [
       "   0   1         2         3         4         5         6         7   \\\n",
       "0   0   1 -1.644088 -1.687248 -1.622801  0.433043 -0.557533 -1.614066   \n",
       "1   0   2 -1.146260 -1.315603 -1.297500 -1.680760 -0.240568  0.381615   \n",
       "2   0   3  1.510062  1.631154 -0.955030  1.655108 -0.948277  0.702545   \n",
       "3   0   4 -1.489103 -1.228761 -0.427706  1.452135  0.334665 -0.791101   \n",
       "4   0   5  1.683712 -1.713539 -0.102678 -0.679920 -0.331648  1.867045   \n",
       "\n",
       "         8         9         10        11        12        13  \n",
       "0 -1.643419 -1.687447 -1.623753  0.428789 -0.562693 -1.620018  \n",
       "1 -1.146375 -1.313517 -1.298369 -1.706684 -0.293925  0.372428  \n",
       "2  1.510726  1.631180 -0.957386  1.618997 -0.952184  0.774350  \n",
       "3 -1.487831 -1.228078 -0.426671  1.405047  0.302387 -0.800858  \n",
       "4  1.683602 -1.713879 -0.101376 -0.654165 -0.308364  1.838234  "
      ]
     },
     "execution_count": 8,
     "metadata": {},
     "output_type": "execute_result"
    }
   ],
   "source": [
    "data.head()"
   ]
  },
  {
   "cell_type": "code",
   "execution_count": 9,
   "metadata": {},
   "outputs": [],
   "source": [
    "diff_x = data.iloc[:,8] - data.iloc[:,2]\n",
    "diff_y = data.iloc[:,9] - data.iloc[:,3]\n",
    "diff_z = data.iloc[:,10] - data.iloc[:,4]\n",
    "\n",
    "\n",
    "diff_x_idx, = np.where(abs(diff_x) > 3)\n",
    "diff_y_idx, = np.where(abs(diff_y) > 3)\n",
    "diff_z_idx, = np.where(abs(diff_z) > 3)\n",
    "\n",
    "diff_idx = set(diff_x_idx) | set(diff_y_idx) | set(diff_z_idx)\n",
    "\n",
    "final_data = data.loc[data.index.drop(list(diff_idx))]"
   ]
  },
  {
   "cell_type": "code",
   "execution_count": 10,
   "metadata": {},
   "outputs": [],
   "source": [
    "x_train, x_test, y_train, y_test = train_test_split(final_data.iloc[:,2:8], \n",
    "                                                    final_data.iloc[:,8:], \n",
    "                                                    test_size = 0.3, random_state = 10)"
   ]
  },
  {
   "cell_type": "code",
   "execution_count": 11,
   "metadata": {},
   "outputs": [],
   "source": [
    "#model 1\n",
    "model_1 = Sequential()\n",
    "\n",
    "model_1.add(Dense(32, input_dim=6, activation='relu', kernel_initializer = 'he_normal', kernel_regularizer = regularizers.l2(0.01)))\n",
    "model_1.add(BatchNormalization())\n",
    "model_1.add(Dropout(0.3))\n",
    "\n",
    "model_1.add(Dense(32, activation='relu', kernel_initializer = 'he_normal', kernel_regularizer = regularizers.l2(0.01)))\n",
    "model_1.add(BatchNormalization())\n",
    "model_1.add(Dropout(0.3))\n",
    "\n",
    "model_1.add(Dense(32, activation='relu', kernel_initializer = 'he_normal', kernel_regularizer = regularizers.l2(0.01)))\n",
    "model_1.add(BatchNormalization())\n",
    "model_1.add(Dropout(0.3))\n",
    "\n",
    "model_1.add(Dense(6, activation='linear', kernel_initializer = 'glorot_normal', kernel_regularizer = regularizers.l2(0.01)))"
   ]
  },
  {
   "cell_type": "code",
   "execution_count": 12,
   "metadata": {},
   "outputs": [],
   "source": [
    "model_1.compile(loss='mean_absolute_error', optimizer= \"rmsprop\", metrics=['mae'])\n",
    "\n",
    "early_stop = EarlyStopping(monitor='val_loss', patience=20, mode='min')\n",
    "model_check_point = ModelCheckpoint('./model/DNN_DO_BN.h5', monitor = 'val_loss', verbose=2, save_best_only=True)\n",
    "callback_list = [model_check_point, early_stop]"
   ]
  },
  {
   "cell_type": "code",
   "execution_count": 13,
   "metadata": {
    "scrolled": true
   },
   "outputs": [
    {
     "name": "stdout",
     "output_type": "stream",
     "text": [
      "Train on 178881 samples, validate on 76664 samples\n",
      "Epoch 1/150\n",
      "178881/178881 [==============================] - 10s 56us/step - loss: 0.5675 - mean_absolute_error: 0.4056 - val_loss: 0.1729 - val_mean_absolute_error: 0.1547\n",
      "\n",
      "Epoch 00001: val_loss improved from inf to 0.17288, saving model to ./model/DNN_DO_BN.h5\n",
      "Epoch 2/150\n",
      "178881/178881 [==============================] - 9s 50us/step - loss: 0.3491 - mean_absolute_error: 0.3322 - val_loss: 0.1798 - val_mean_absolute_error: 0.1637\n",
      "\n",
      "Epoch 00002: val_loss did not improve from 0.17288\n",
      "Epoch 3/150\n",
      "178881/178881 [==============================] - 9s 49us/step - loss: 0.3469 - mean_absolute_error: 0.3313 - val_loss: 0.1810 - val_mean_absolute_error: 0.1658\n",
      "\n",
      "Epoch 00003: val_loss did not improve from 0.17288\n",
      "Epoch 4/150\n",
      "178881/178881 [==============================] - 9s 49us/step - loss: 0.3470 - mean_absolute_error: 0.3320 - val_loss: 0.1772 - val_mean_absolute_error: 0.1625\n",
      "\n",
      "Epoch 00004: val_loss did not improve from 0.17288\n",
      "Epoch 5/150\n",
      "178881/178881 [==============================] - 9s 50us/step - loss: 0.3459 - mean_absolute_error: 0.3315 - val_loss: 0.1725 - val_mean_absolute_error: 0.1584\n",
      "\n",
      "Epoch 00005: val_loss improved from 0.17288 to 0.17248, saving model to ./model/DNN_DO_BN.h5\n",
      "Epoch 6/150\n",
      "178881/178881 [==============================] - 9s 51us/step - loss: 0.3455 - mean_absolute_error: 0.3314 - val_loss: 0.1748 - val_mean_absolute_error: 0.1608\n",
      "\n",
      "Epoch 00006: val_loss did not improve from 0.17248\n",
      "Epoch 7/150\n",
      "178881/178881 [==============================] - 9s 51us/step - loss: 0.3460 - mean_absolute_error: 0.3321 - val_loss: 0.1840 - val_mean_absolute_error: 0.1704\n",
      "\n",
      "Epoch 00007: val_loss did not improve from 0.17248\n",
      "Epoch 8/150\n",
      "178881/178881 [==============================] - 9s 49us/step - loss: 0.3458 - mean_absolute_error: 0.3321 - val_loss: 0.1809 - val_mean_absolute_error: 0.1674\n",
      "\n",
      "Epoch 00008: val_loss did not improve from 0.17248\n",
      "Epoch 9/150\n",
      "178881/178881 [==============================] - 9s 50us/step - loss: 0.3450 - mean_absolute_error: 0.3315 - val_loss: 0.1899 - val_mean_absolute_error: 0.1765\n",
      "\n",
      "Epoch 00009: val_loss did not improve from 0.17248\n",
      "Epoch 10/150\n",
      "178881/178881 [==============================] - 9s 50us/step - loss: 0.3452 - mean_absolute_error: 0.3318 - val_loss: 0.1682 - val_mean_absolute_error: 0.1550\n",
      "\n",
      "Epoch 00010: val_loss improved from 0.17248 to 0.16818, saving model to ./model/DNN_DO_BN.h5\n",
      "Epoch 11/150\n",
      "178881/178881 [==============================] - 9s 52us/step - loss: 0.3452 - mean_absolute_error: 0.3319 - val_loss: 0.1550 - val_mean_absolute_error: 0.1418\n",
      "\n",
      "Epoch 00011: val_loss improved from 0.16818 to 0.15500, saving model to ./model/DNN_DO_BN.h5\n",
      "Epoch 12/150\n",
      "178881/178881 [==============================] - 9s 50us/step - loss: 0.3457 - mean_absolute_error: 0.3325 - val_loss: 0.1705 - val_mean_absolute_error: 0.1573\n",
      "\n",
      "Epoch 00012: val_loss did not improve from 0.15500\n",
      "Epoch 13/150\n",
      "178881/178881 [==============================] - 9s 50us/step - loss: 0.3456 - mean_absolute_error: 0.3324 - val_loss: 0.1733 - val_mean_absolute_error: 0.1602\n",
      "\n",
      "Epoch 00013: val_loss did not improve from 0.15500\n",
      "Epoch 14/150\n",
      "178881/178881 [==============================] - 9s 51us/step - loss: 0.3451 - mean_absolute_error: 0.3320 - val_loss: 0.1704 - val_mean_absolute_error: 0.1573\n",
      "\n",
      "Epoch 00014: val_loss did not improve from 0.15500\n",
      "Epoch 15/150\n",
      "178881/178881 [==============================] - 9s 51us/step - loss: 0.3453 - mean_absolute_error: 0.3322 - val_loss: 0.1754 - val_mean_absolute_error: 0.1624\n",
      "\n",
      "Epoch 00015: val_loss did not improve from 0.15500\n",
      "Epoch 16/150\n",
      "178881/178881 [==============================] - 9s 48us/step - loss: 0.3449 - mean_absolute_error: 0.3319 - val_loss: 0.1676 - val_mean_absolute_error: 0.1546\n",
      "\n",
      "Epoch 00016: val_loss did not improve from 0.15500\n",
      "Epoch 17/150\n",
      "178881/178881 [==============================] - 9s 50us/step - loss: 0.3454 - mean_absolute_error: 0.3324 - val_loss: 0.1714 - val_mean_absolute_error: 0.1583\n",
      "\n",
      "Epoch 00017: val_loss did not improve from 0.15500\n",
      "Epoch 18/150\n",
      "178881/178881 [==============================] - 9s 50us/step - loss: 0.3449 - mean_absolute_error: 0.3319 - val_loss: 0.1656 - val_mean_absolute_error: 0.1527\n",
      "\n",
      "Epoch 00018: val_loss did not improve from 0.15500\n",
      "Epoch 19/150\n",
      "178881/178881 [==============================] - 9s 51us/step - loss: 0.3455 - mean_absolute_error: 0.3325 - val_loss: 0.1695 - val_mean_absolute_error: 0.1567\n",
      "\n",
      "Epoch 00019: val_loss did not improve from 0.15500\n",
      "Epoch 20/150\n",
      "178881/178881 [==============================] - 9s 49us/step - loss: 0.3454 - mean_absolute_error: 0.3325 - val_loss: 0.1762 - val_mean_absolute_error: 0.1634\n",
      "\n",
      "Epoch 00020: val_loss did not improve from 0.15500\n",
      "Epoch 21/150\n",
      "178881/178881 [==============================] - 9s 49us/step - loss: 0.3451 - mean_absolute_error: 0.3322 - val_loss: 0.1685 - val_mean_absolute_error: 0.1555\n",
      "\n",
      "Epoch 00021: val_loss did not improve from 0.15500\n",
      "Epoch 22/150\n",
      "178881/178881 [==============================] - 9s 49us/step - loss: 0.3448 - mean_absolute_error: 0.3319 - val_loss: 0.1715 - val_mean_absolute_error: 0.1587\n",
      "\n",
      "Epoch 00022: val_loss did not improve from 0.15500\n",
      "Epoch 23/150\n",
      "178881/178881 [==============================] - 9s 50us/step - loss: 0.3456 - mean_absolute_error: 0.3327 - val_loss: 0.1805 - val_mean_absolute_error: 0.1679\n",
      "\n",
      "Epoch 00023: val_loss did not improve from 0.15500\n",
      "Epoch 24/150\n",
      "178881/178881 [==============================] - 9s 49us/step - loss: 0.3454 - mean_absolute_error: 0.3325 - val_loss: 0.1705 - val_mean_absolute_error: 0.1575\n",
      "\n",
      "Epoch 00024: val_loss did not improve from 0.15500\n",
      "Epoch 25/150\n",
      "178881/178881 [==============================] - 9s 50us/step - loss: 0.3457 - mean_absolute_error: 0.3329 - val_loss: 0.1769 - val_mean_absolute_error: 0.1640\n",
      "\n",
      "Epoch 00025: val_loss did not improve from 0.15500\n",
      "Epoch 26/150\n",
      "178881/178881 [==============================] - 9s 49us/step - loss: 0.3454 - mean_absolute_error: 0.3325 - val_loss: 0.1677 - val_mean_absolute_error: 0.1548\n",
      "\n",
      "Epoch 00026: val_loss did not improve from 0.15500\n",
      "Epoch 27/150\n",
      "178881/178881 [==============================] - 9s 49us/step - loss: 0.3451 - mean_absolute_error: 0.3322 - val_loss: 0.1736 - val_mean_absolute_error: 0.1608\n",
      "\n",
      "Epoch 00027: val_loss did not improve from 0.15500\n",
      "Epoch 28/150\n",
      "178881/178881 [==============================] - 9s 50us/step - loss: 0.3452 - mean_absolute_error: 0.3324 - val_loss: 0.1702 - val_mean_absolute_error: 0.1576\n",
      "\n",
      "Epoch 00028: val_loss did not improve from 0.15500\n",
      "Epoch 29/150\n",
      "178881/178881 [==============================] - 9s 50us/step - loss: 0.3451 - mean_absolute_error: 0.3323 - val_loss: 0.1636 - val_mean_absolute_error: 0.1507\n",
      "\n",
      "Epoch 00029: val_loss did not improve from 0.15500\n",
      "Epoch 30/150\n",
      "178881/178881 [==============================] - 9s 50us/step - loss: 0.3454 - mean_absolute_error: 0.3326 - val_loss: 0.1673 - val_mean_absolute_error: 0.1543\n",
      "\n",
      "Epoch 00030: val_loss did not improve from 0.15500\n",
      "Epoch 31/150\n",
      "178881/178881 [==============================] - 9s 50us/step - loss: 0.3449 - mean_absolute_error: 0.3321 - val_loss: 0.1664 - val_mean_absolute_error: 0.1537\n",
      "\n",
      "Epoch 00031: val_loss did not improve from 0.15500\n"
     ]
    }
   ],
   "source": [
    "hist_1 = model_1.fit(x_train, y_train, validation_data=(x_test, y_test), epochs=150, batch_size=64, callbacks = callback_list)"
   ]
  },
  {
   "cell_type": "code",
   "execution_count": 14,
   "metadata": {},
   "outputs": [],
   "source": [
    "model = load_model('./model/DNN_DO_BN.h5')"
   ]
  },
  {
   "cell_type": "code",
   "execution_count": 15,
   "metadata": {},
   "outputs": [],
   "source": [
    "y_pred = model.predict(x_test)"
   ]
  },
  {
   "cell_type": "code",
   "execution_count": 16,
   "metadata": {},
   "outputs": [],
   "source": [
    "mse = mean_squared_error(y_test, y_pred)\n",
    "rmse = np.sqrt(mse)\n",
    "mae_metric = mean_absolute_error(y_test, y_pred)\n",
    "r2_error = r2_score(y_test, y_pred)"
   ]
  },
  {
   "cell_type": "code",
   "execution_count": 17,
   "metadata": {},
   "outputs": [
    {
     "name": "stdout",
     "output_type": "stream",
     "text": [
      "MSE:  0.04897559650086606\n",
      "RMSE:  0.22130430746116547\n",
      "MAE:  0.1417700014960921\n",
      "R2_Score: 0.9509348299625277\n"
     ]
    }
   ],
   "source": [
    "print(\"MSE: \", mse)\n",
    "print(\"RMSE: \", rmse)\n",
    "print(\"MAE: \", mae_metric)\n",
    "print(\"R2_Score:\", r2_error)"
   ]
  },
  {
   "cell_type": "code",
   "execution_count": 18,
   "metadata": {
    "scrolled": false
   },
   "outputs": [
    {
     "data": {
      "image/png": "[encoded data removed]",
      "text/plain": [
       "<Figure size 720x720 with 6 Axes>"
      ]
     },
     "metadata": {},
     "output_type": "display_data"
    }
   ],
   "source": [
    "fig = plt.figure(figsize=(10,10))\n",
    "\n",
    "ax1 = fig.add_subplot(3,3,1)\n",
    "ax2 = fig.add_subplot(3,3,2)\n",
    "ax3 = fig.add_subplot(3,3,3)\n",
    "ax4 = fig.add_subplot(3,3,4)\n",
    "ax5 = fig.add_subplot(3,3,5)\n",
    "ax6 = fig.add_subplot(3,3,6)\n",
    "\n",
    "ax1.scatter(y_test.values[:,0], y_pred[:,0], s= 2)\n",
    "ax1.set_xlabel('x_real')\n",
    "ax1.set_ylabel('x_pred')\n",
    "ax2.scatter(y_test.values[:,1], y_pred[:,1], s= 2)\n",
    "ax2.set_xlabel('y_real')\n",
    "ax2.set_ylabel('y_pred')\n",
    "ax3.scatter(y_test.values[:,2], y_pred[:,2], s= 2)\n",
    "ax3.set_xlabel('z_real')\n",
    "ax3.set_ylabel('z_pred')\n",
    "ax4.scatter(y_test.values[:,3], y_pred[:,3], s= 2)\n",
    "ax4.set_xlabel('ax_real')\n",
    "ax4.set_ylabel('ax_pred')\n",
    "ax5.scatter(y_test.values[:,4], y_pred[:,4], s= 2)\n",
    "ax5.set_xlabel('ay_real')\n",
    "ax5.set_ylabel('ay_pred')\n",
    "ax6.scatter(y_test.values[:,5], y_pred[:,5], s= 2)\n",
    "ax6.set_xlabel('az_real')\n",
    "ax6.set_ylabel('az_pred')\n",
    "\n",
    "plt.subplots_adjust(wspace = 1, hspace = 0.5)\n",
    "plt.show()"
   ]
  },
  {
   "cell_type": "code",
   "execution_count": 19,
   "metadata": {},
   "outputs": [
    {
     "data": {
      "image/png": "[encoded data removed]",
      "text/plain": [
       "<Figure size 432x288 with 1 Axes>"
      ]
     },
     "metadata": {},
     "output_type": "display_data"
    }
   ],
   "source": [
    "# plot history\n",
    "plt.plot(hist_1.history['loss'], label='train')\n",
    "plt.plot(hist_1.history['val_loss'], label='test')\n",
    "plt.xlabel('Epochs')\n",
    "plt.ylabel('Loss')\n",
    "plt.legend()\n",
    "plt.show()"
   ]
  },
  {
   "cell_type": "code",
   "execution_count": 20,
   "metadata": {},
   "outputs": [],
   "source": [
    "#cross validation\n",
    "\n",
    "kfold = KFold(n_splits=20, shuffle=True, random_state = 500)\n",
    "X = final_data.iloc[:,2:8]\n",
    "Y = final_data.iloc[:,8:]\n",
    "\n",
    "cv_rmse = []\n",
    "cv_mae = []\n",
    "cv_r2 = []\n",
    "\n",
    "for train, test in kfold.split(X, Y):\n",
    "    \n",
    "    # evaluate the model\n",
    "    pred = model.predict(X.iloc[test,:])\n",
    "    \n",
    "    rmse = np.sqrt(mean_squared_error(Y.iloc[test,:], pred))\n",
    "    mae = mean_absolute_error(Y.iloc[test,:], pred)\n",
    "    r2 = r2_score(Y.iloc[test,:], pred)\n",
    "    \n",
    "    cv_rmse.append(rmse)\n",
    "    cv_mae.append(mae)\n",
    "    cv_r2.append(r2)"
   ]
  },
  {
   "cell_type": "code",
   "execution_count": 21,
   "metadata": {},
   "outputs": [
    {
     "name": "stdout",
     "output_type": "stream",
     "text": [
      "0.22158519595136467\n",
      "0.001481734462739967\n",
      "\n",
      "\n",
      "0.14191822438152726\n",
      "0.0008057700772226576\n",
      "\n",
      "\n",
      "0.9508946872429513\n",
      "0.0003807536810387902\n"
     ]
    }
   ],
   "source": [
    "print(np.mean(cv_rmse))\n",
    "print(np.std(cv_rmse))\n",
    "print('\\n')\n",
    "\n",
    "print(np.mean(cv_mae))\n",
    "print(np.std(cv_mae))\n",
    "print('\\n')\n",
    "\n",
    "print(np.mean(cv_r2))\n",
    "print(np.std(cv_r2))"
   ]
  },
  {
   "cell_type": "code",
   "execution_count": 22,
   "metadata": {},
   "outputs": [],
   "source": [
    "###############################################################################"
   ]
  },
  {
   "cell_type": "markdown",
   "metadata": {},
   "source": [
    "원래 scale 로 변환"
   ]
  },
  {
   "cell_type": "code",
   "execution_count": 23,
   "metadata": {},
   "outputs": [],
   "source": [
    "raw_data = pd.read_csv('./data/ordered_molecules.csv')"
   ]
  },
  {
   "cell_type": "code",
   "execution_count": 24,
   "metadata": {},
   "outputs": [],
   "source": [
    "px_mean = np.mean(raw_data['px'])\n",
    "px_std = np.std(raw_data['px'])\n",
    "py_mean = np.mean(raw_data['py'])\n",
    "py_std = np.std(raw_data['py'])\n",
    "pz_mean = np.mean(raw_data['pz'])\n",
    "pz_std = np.std(raw_data['pz'])\n",
    "\n",
    "ax_mean = np.mean(raw_data['ax'])\n",
    "ax_std = np.std(raw_data['ax'])\n",
    "ay_mean = np.mean(raw_data['ay'])\n",
    "ay_std = np.std(raw_data['ay'])\n",
    "az_mean = np.mean(raw_data['az'])\n",
    "az_std = np.std(raw_data['az'])"
   ]
  },
  {
   "cell_type": "code",
   "execution_count": 25,
   "metadata": {},
   "outputs": [],
   "source": [
    "y_test.iloc[:,0] = y_test.iloc[:,0] * px_std + px_mean\n",
    "y_test.iloc[:,1] = y_test.iloc[:,1] * py_std + py_mean\n",
    "y_test.iloc[:,2] = y_test.iloc[:,2] * pz_std + pz_mean\n",
    "\n",
    "y_test.iloc[:,3] = y_test.iloc[:,3] * ax_std + ax_mean\n",
    "y_test.iloc[:,4] = y_test.iloc[:,4] * ay_std + ay_mean\n",
    "y_test.iloc[:,5] = y_test.iloc[:,5] * az_std + az_mean\n"
   ]
  },
  {
   "cell_type": "code",
   "execution_count": 26,
   "metadata": {},
   "outputs": [],
   "source": [
    "y_pred_df = pd.DataFrame(y_pred)"
   ]
  },
  {
   "cell_type": "code",
   "execution_count": 27,
   "metadata": {},
   "outputs": [],
   "source": [
    "y_pred_df.iloc[:,0] = y_pred_df.iloc[:,0] * px_std + px_mean\n",
    "y_pred_df.iloc[:,1] = y_pred_df.iloc[:,1] * py_std + py_mean\n",
    "y_pred_df.iloc[:,2] = y_pred_df.iloc[:,2] * pz_std + pz_mean\n",
    "\n",
    "y_pred_df.iloc[:,3] = y_pred_df.iloc[:,3] * ax_std + ax_mean\n",
    "y_pred_df.iloc[:,4] = y_pred_df.iloc[:,4] * ay_std + ay_mean\n",
    "y_pred_df.iloc[:,5] = y_pred_df.iloc[:,5] * az_std + az_mean"
   ]
  },
  {
   "cell_type": "code",
   "execution_count": 28,
   "metadata": {},
   "outputs": [],
   "source": [
    "mse = mean_squared_error(y_test, y_pred_df)\n",
    "rmse = np.sqrt(mse)\n",
    "mae_metric = mean_absolute_error(y_test, y_pred_df)\n",
    "r2_error = r2_score(y_test, y_pred_df)"
   ]
  },
  {
   "cell_type": "code",
   "execution_count": 29,
   "metadata": {},
   "outputs": [
    {
     "name": "stdout",
     "output_type": "stream",
     "text": [
      "MSE:  0.4794887585433439\n",
      "RMSE:  0.6924512679917222\n",
      "MAE:  0.4569788966038824\n",
      "R2_Score: 0.9509348325348892\n"
     ]
    }
   ],
   "source": [
    "print(\"MSE: \", mse)\n",
    "print(\"RMSE: \", rmse)\n",
    "print(\"MAE: \", mae_metric)\n",
    "print(\"R2_Score:\", r2_error)"
   ]
  },
  {
   "cell_type": "code",
   "execution_count": 30,
   "metadata": {},
   "outputs": [
    {
     "name": "stderr",
     "output_type": "stream",
     "text": [
      "/usr/local/anaconda/envs/env_py3/lib/python3.6/site-packages/pandas/core/indexing.py:630: SettingWithCopyWarning: \n",
      "A value is trying to be set on a copy of a slice from a DataFrame.\n",
      "Try using .loc[row_indexer,col_indexer] = value instead\n",
      "\n",
      "See the caveats in the documentation: http://pandas.pydata.org/pandas-docs/stable/indexing.html#indexing-view-versus-copy\n",
      "  self.obj[item_labels[indexer[info_axis]]] = value\n"
     ]
    }
   ],
   "source": [
    "#cross validation\n",
    "\n",
    "kfold = KFold(n_splits=20, shuffle=True, random_state = 500)\n",
    "X = final_data.iloc[:,2:8]\n",
    "Y = final_data.iloc[:,8:]\n",
    "\n",
    "cv_rmse = []\n",
    "cv_mae = []\n",
    "cv_r2 = []\n",
    "\n",
    "for train, test in kfold.split(X, Y):\n",
    "    y_test = Y.iloc[test,:]\n",
    "\n",
    "    y_test.iloc[:,0] = y_test.iloc[:,0] * px_std + px_mean\n",
    "    y_test.iloc[:,1] = y_test.iloc[:,1] * py_std + py_mean\n",
    "    y_test.iloc[:,2] = y_test.iloc[:,2] * pz_std + pz_mean\n",
    "\n",
    "    y_test.iloc[:,3] = y_test.iloc[:,3] * ax_std + ax_mean\n",
    "    y_test.iloc[:,4] = y_test.iloc[:,4] * ay_std + ay_mean\n",
    "    y_test.iloc[:,5] = y_test.iloc[:,5] * az_std + az_mean\n",
    "    \n",
    "    y_pred = model.predict(X.iloc[test,:])\n",
    "    y_pred_df = pd.DataFrame(y_pred)\n",
    "    \n",
    "    y_pred_df.iloc[:,0] = y_pred_df.iloc[:,0] * px_std + px_mean\n",
    "    y_pred_df.iloc[:,1] = y_pred_df.iloc[:,1] * py_std + py_mean\n",
    "    y_pred_df.iloc[:,2] = y_pred_df.iloc[:,2] * pz_std + pz_mean\n",
    "\n",
    "    y_pred_df.iloc[:,3] = y_pred_df.iloc[:,3] * ax_std + ax_mean\n",
    "    y_pred_df.iloc[:,4] = y_pred_df.iloc[:,4] * ay_std + ay_mean\n",
    "    y_pred_df.iloc[:,5] = y_pred_df.iloc[:,5] * az_std + az_mean\n",
    "    \n",
    "    rmse = np.sqrt(mean_squared_error(y_test, y_pred_df))\n",
    "    mae = mean_absolute_error(y_test, y_pred_df)\n",
    "    r2 = r2_score(y_test, y_pred_df)\n",
    "    \n",
    "    cv_rmse.append(rmse)\n",
    "    cv_mae.append(mae)\n",
    "    cv_r2.append(r2)"
   ]
  },
  {
   "cell_type": "code",
   "execution_count": 31,
   "metadata": {},
   "outputs": [
    {
     "name": "stdout",
     "output_type": "stream",
     "text": [
      "0.693155078910287\n",
      "0.003846271360756143\n",
      "\n",
      "\n",
      "0.45741987703359116\n",
      "0.002432187957859569\n",
      "\n",
      "\n",
      "0.9508946898395335\n",
      "0.0003807536798953387\n"
     ]
    }
   ],
   "source": [
    "print(np.mean(cv_rmse))\n",
    "print(np.std(cv_rmse))\n",
    "print('\\n')\n",
    "\n",
    "print(np.mean(cv_mae))\n",
    "print(np.std(cv_mae))\n",
    "print('\\n')\n",
    "\n",
    "print(np.mean(cv_r2))\n",
    "print(np.std(cv_r2))"
   ]
  }
 ],
 "metadata": {
  "kernelspec": {
   "display_name": "Python 3",
   "language": "python",
   "name": "python3"
  },
  "language_info": {
   "codemirror_mode": {
    "name": "ipython",
    "version": 3
   },
   "file_extension": ".py",
   "mimetype": "text/x-python",
   "name": "python",
   "nbconvert_exporter": "python",
   "pygments_lexer": "ipython3",
   "version": "3.6.5"
  }
 },
 "nbformat": 4,
 "nbformat_minor": 2
}
