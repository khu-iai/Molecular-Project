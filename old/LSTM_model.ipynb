{
 "cells": [
  {
   "cell_type": "code",
   "execution_count": 1,
   "metadata": {},
   "outputs": [
    {
     "name": "stderr",
     "output_type": "stream",
     "text": [
      "Using TensorFlow backend.\n"
     ]
    }
   ],
   "source": [
    "#libraries\n",
    "import numpy as np\n",
    "import matplotlib.pyplot as plt\n",
    "import seaborn as sns\n",
    "from math import sqrt\n",
    "from numpy import concatenate\n",
    "from matplotlib import pyplot\n",
    "from pandas import read_csv\n",
    "from pandas import DataFrame\n",
    "from pandas import concat\n",
    "from sklearn.preprocessing import MinMaxScaler\n",
    "from sklearn.preprocessing import LabelEncoder\n",
    "from sklearn.metrics import mean_squared_error\n",
    "from keras.models import Sequential\n",
    "from keras.layers import Dense\n",
    "from keras.layers import LSTM\n",
    "from keras.layers import Dropout\n",
    "from datetime import datetime\n",
    "from sklearn.metrics import mean_squared_error\n",
    "from sklearn.metrics import mean_absolute_error\n",
    "from sklearn.metrics import r2_score\n",
    "from sklearn.metrics import f1_score"
   ]
  },
  {
   "cell_type": "code",
   "execution_count": 2,
   "metadata": {},
   "outputs": [
    {
     "name": "stdout",
     "output_type": "stream",
     "text": [
      "   time  atom        Px        Py       Pz        Fx        Fy        Fz  \\\n",
      "0     0     1   0.27497   0.22765  0.40548  1.185458 -1.527830 -4.614324   \n",
      "1     0     2   2.13410   1.61428  1.62211 -4.601109 -0.659241  1.090967   \n",
      "2     0     3  12.05408  12.60878  2.90295  4.530882 -2.598597  2.008448   \n",
      "3     0     4   0.85376   1.93829  4.87515  3.975239  0.917088 -2.261618   \n",
      "4     0     5  12.70257   0.12956  6.09076 -1.861295 -0.908830  5.337542   \n",
      "\n",
      "       t_Px      t_Py     t_Pz      t_Fx      t_Fy      t_Fz  \n",
      "0   0.27747   0.22691  0.40192  1.173813 -1.541970 -4.631340  \n",
      "1   2.13367   1.62206  1.61886 -4.672077 -0.805457  1.064703  \n",
      "2  12.05656  12.60888  2.89414  4.432026 -2.609304  2.213726  \n",
      "3   0.85851   1.94084  4.87902  3.846336  0.828634 -2.289510  \n",
      "4  12.70216   0.12829  6.09563 -1.790789 -0.845025  5.255177  \n"
     ]
    }
   ],
   "source": [
    "dataset = read_csv('ordered_atoms.csv', index_col=0, low_memory=False)\n",
    "\n",
    "print(dataset.head(5))"
   ]
  },
  {
   "cell_type": "code",
   "execution_count": 3,
   "metadata": {},
   "outputs": [],
   "source": [
    "df2 = dataset[['atom','Px','Py','Pz','Fx','Fy','Fz',  't_Px', 't_Py','t_Pz','t_Fx','t_Fy','t_Fz']]\n",
    "df2.index.name =  'index'"
   ]
  },
  {
   "cell_type": "code",
   "execution_count": 4,
   "metadata": {},
   "outputs": [
    {
     "name": "stdout",
     "output_type": "stream",
     "text": [
      "       atom        Px        Py       Pz        Fx        Fy        Fz  \\\n",
      "index                                                                    \n",
      "0         1   0.27497   0.22765  0.40548  1.185458 -1.527830 -4.614324   \n",
      "1         2   2.13410   1.61428  1.62211 -4.601109 -0.659241  1.090967   \n",
      "2         3  12.05408  12.60878  2.90295  4.530882 -2.598597  2.008448   \n",
      "3         4   0.85376   1.93829  4.87515  3.975239  0.917088 -2.261618   \n",
      "4         5  12.70257   0.12956  6.09076 -1.861295 -0.908830  5.337542   \n",
      "\n",
      "           t_Px      t_Py     t_Pz      t_Fx      t_Fy      t_Fz  \n",
      "index                                                             \n",
      "0       0.27747   0.22691  0.40192  1.173813 -1.541970 -4.631340  \n",
      "1       2.13367   1.62206  1.61886 -4.672077 -0.805457  1.064703  \n",
      "2      12.05656  12.60888  2.89414  4.432026 -2.609304  2.213726  \n",
      "3       0.85851   1.94084  4.87902  3.846336  0.828634 -2.289510  \n",
      "4      12.70216   0.12829  6.09563 -1.790789 -0.845025  5.255177  \n"
     ]
    }
   ],
   "source": [
    "print(df2.head(5))"
   ]
  },
  {
   "cell_type": "code",
   "execution_count": 5,
   "metadata": {},
   "outputs": [
    {
     "name": "stdout",
     "output_type": "stream",
     "text": [
      "             Px        Py        Pz        Fx        Fy        Fz      t_Px  \\\n",
      "index                                                                         \n",
      "0       0.27497   0.22765   0.40548  1.185458 -1.527830 -4.614324   0.27747   \n",
      "1       2.13410   1.61428   1.62211 -4.601109 -0.659241  1.090967   2.13367   \n",
      "2      12.05408  12.60878   2.90295  4.530882 -2.598597  2.008448  12.05656   \n",
      "3       0.85376   1.93829   4.87515  3.975239  0.917088 -2.261618   0.85851   \n",
      "4      12.70257   0.12956   6.09076 -1.861295 -0.908830  5.337542  12.70216   \n",
      "5       1.06394   1.39588   8.05172  2.984083  3.021378 -2.083314   1.06904   \n",
      "6       0.15928  12.57988   9.41603 -2.773368  1.320404  0.073289   0.15627   \n",
      "7       1.92214   1.82439  11.30727 -2.901205 -0.454694  0.240227   1.92966   \n",
      "8       0.21907   3.17640  12.75646 -0.610102  0.700844 -0.335467   0.21989   \n",
      "9       1.34256   5.15166   1.90630  6.847360 -3.161887 -5.186860   1.34107   \n",
      "\n",
      "           t_Py      t_Pz      t_Fx      t_Fy      t_Fz  \n",
      "index                                                    \n",
      "0       0.22691   0.40192  1.173813 -1.541970 -4.631340  \n",
      "1       1.62206   1.61886 -4.672077 -0.805457  1.064703  \n",
      "2      12.60888   2.89414  4.432026 -2.609304  2.213726  \n",
      "3       1.94084   4.87902  3.846336  0.828634 -2.289510  \n",
      "4       0.12829   6.09563 -1.790789 -0.845025  5.255177  \n",
      "5       1.39639   8.05741  2.837450  3.041534 -2.144288  \n",
      "6      12.57742   9.41816 -2.733294  1.435877 -0.048323  \n",
      "7       1.82290  11.30875 -3.003942 -0.412420  0.234313  \n",
      "8       3.17414  12.76061 -0.605283  0.667040 -0.499314  \n",
      "9       5.14844   1.90200  6.803965 -3.093445 -5.090460  \n"
     ]
    },
    {
     "name": "stderr",
     "output_type": "stream",
     "text": [
      "/usr/local/anaconda/envs/env_py3/lib/python3.6/site-packages/ipykernel_launcher.py:2: SettingWithCopyWarning: \n",
      "A value is trying to be set on a copy of a slice from a DataFrame\n",
      "\n",
      "See the caveats in the documentation: http://pandas.pydata.org/pandas-docs/stable/indexing.html#indexing-view-versus-copy\n",
      "  \n"
     ]
    }
   ],
   "source": [
    "#df2 = df2[df2['atom']==1]\n",
    "df2.drop('atom', axis=1, inplace=True)\n",
    "print(df2.head(10))"
   ]
  },
  {
   "cell_type": "code",
   "execution_count": 6,
   "metadata": {},
   "outputs": [],
   "source": [
    "# load dataset\n",
    "#dataset = read_csv('berny.csv', header=0, index_col=0)\n",
    "values = df2.values\n",
    "# specify columns to plot\n",
    "groups = [0,1, 2, 3, 4, 5]"
   ]
  },
  {
   "cell_type": "code",
   "execution_count": 7,
   "metadata": {},
   "outputs": [],
   "source": [
    "# convert series to supervised learning\n",
    "def series_to_supervised(data, n_in=1, n_out=1, dropnan=True):\n",
    "    n_vars = 1 if type(data) is list else data.shape[1]\n",
    "    df = DataFrame(data)\n",
    "    cols, names = list(), list()\n",
    "    # input sequence (t-n, ... t-1)\n",
    "    for i in range(n_in, 0, -1):\n",
    "        cols.append(df.shift(i*128))\n",
    "        names += [('var%d(t-%d)' % (j+1, i)) for j in range(n_vars)]\n",
    "    # forecast sequence (t, t+1, ... t+n)\n",
    "    for i in range(0, n_out):\n",
    "        cols.append(df.shift(-i*128))\n",
    "        if i == 0:\n",
    "            names += [('var%d(t)' % (j+1)) for j in range(n_vars)]\n",
    "        else:\n",
    "            names += [('var%d(t+%d)' % (j+1, i)) for j in range(n_vars)]\n",
    "    # put it all together\n",
    "    agg = concat(cols, axis=1)\n",
    "    agg.columns = names\n",
    "    # drop rows with NaN values\n",
    "    if dropnan:\n",
    "        agg.dropna(inplace=True)\n",
    "    return agg"
   ]
  },
  {
   "cell_type": "code",
   "execution_count": 8,
   "metadata": {},
   "outputs": [],
   "source": [
    "def mean_absolute_percentage_error(y_true, y_pred):\n",
    "    y_true, y_pred = y_true, y_pred\n",
    "    return np.mean(np.abs((y_true - y_pred) / y_true)) * 100"
   ]
  },
  {
   "cell_type": "code",
   "execution_count": 9,
   "metadata": {},
   "outputs": [],
   "source": [
    "values = df2[['Px','Py','Pz','Fx','Fy','Fz']].values\n",
    "#values = df2.values\n",
    "# integer encode direction\n",
    "encoder = LabelEncoder()\n",
    "values[:,4] = encoder.fit_transform(values[:,4])\n",
    "# ensure all data is float\n",
    "values = values.astype('float32')\n"
   ]
  },
  {
   "cell_type": "code",
   "execution_count": 10,
   "metadata": {},
   "outputs": [
    {
     "name": "stdout",
     "output_type": "stream",
     "text": [
      "(256000, 6)\n"
     ]
    }
   ],
   "source": [
    "print (values.shape)"
   ]
  },
  {
   "cell_type": "code",
   "execution_count": 11,
   "metadata": {},
   "outputs": [
    {
     "name": "stdout",
     "output_type": "stream",
     "text": [
      "[[  2.74969995e-01   2.27650002e-01   4.05479997e-01   1.18545794e+00\n",
      "    6.75940000e+04  -4.61432409e+00]\n",
      " [  2.13409996e+00   1.61427999e+00   1.62211001e+00  -4.60110903e+00\n",
      "    9.85720000e+04   1.09096706e+00]\n",
      " [  1.20540800e+01   1.26087799e+01   2.90295005e+00   4.53088188e+00\n",
      "    3.87740000e+04   2.00844789e+00]\n",
      " ..., \n",
      " [  6.03299999e+00   1.28129196e+01   6.05135012e+00   2.30774212e+00\n",
      "    2.46404000e+05   5.40464211e+00]\n",
      " [  9.50306034e+00   1.04410200e+01   9.99911976e+00   1.39556396e+00\n",
      "    7.75020000e+04  -7.79073000e-01]\n",
      " [  1.20128298e+01   1.11894798e+01   1.19057703e+01  -7.30089009e-01\n",
      "    5.36870000e+04  -5.60950004e-02]]\n"
     ]
    }
   ],
   "source": [
    "print(values)"
   ]
  },
  {
   "cell_type": "code",
   "execution_count": 12,
   "metadata": {},
   "outputs": [],
   "source": [
    "# normalize features\n",
    "scaler = MinMaxScaler(feature_range=(0, 1))\n",
    "scaled = scaler.fit_transform(values)\n",
    "# frame as supervised learning\n",
    "reframed = series_to_supervised(scaled, 1, 1)\n",
    "#reframed = scaled \n",
    "# drop columns we don't want to predict\n",
    "#reframed.drop(reframed.columns[[10,11,12,13,14,15,16,17]], axis=1, inplace=True)\n",
    "#print(reframed.head())\n"
   ]
  },
  {
   "cell_type": "code",
   "execution_count": 13,
   "metadata": {},
   "outputs": [
    {
     "name": "stdout",
     "output_type": "stream",
     "text": [
      "(255872, 12)\n"
     ]
    }
   ],
   "source": [
    "print(reframed.shape)"
   ]
  },
  {
   "cell_type": "code",
   "execution_count": 14,
   "metadata": {},
   "outputs": [
    {
     "name": "stdout",
     "output_type": "stream",
     "text": [
      "     var1(t-1)  var2(t-1)  var3(t-1)  var4(t-1)  var5(t-1)  var6(t-1)  \\\n",
      "128   0.021288   0.017622   0.031392   0.572639   0.267814   0.310560   \n",
      "129   0.165221   0.124973   0.125581   0.351305   0.390551   0.511727   \n",
      "130   0.933223   0.976151   0.224741   0.700600   0.153626   0.544077   \n",
      "131   0.066098   0.150057   0.377426   0.679346   0.649624   0.393516   \n",
      "132   0.983429   0.010028   0.471536   0.456102   0.352729   0.661460   \n",
      "\n",
      "      var1(t)   var2(t)   var3(t)   var4(t)   var5(t)   var6(t)  \n",
      "128  0.021482  0.017565  0.031116  0.572193  0.266114  0.309960  \n",
      "129  0.165188  0.125575  0.125329  0.348591  0.368542  0.510801  \n",
      "130  0.933415  0.976159  0.224059  0.696818  0.152766  0.551315  \n",
      "131  0.066466  0.150255  0.377725  0.674416  0.635210  0.392532  \n",
      "132  0.983397  0.009930  0.471913  0.458799  0.362757  0.658556  \n"
     ]
    }
   ],
   "source": [
    "print(reframed.head(5))"
   ]
  },
  {
   "cell_type": "code",
   "execution_count": 15,
   "metadata": {},
   "outputs": [
    {
     "name": "stdout",
     "output_type": "stream",
     "text": [
      "204800\n",
      "(204800, 1, 6) (204800, 6) (51072, 1, 6) (51072, 6)\n"
     ]
    }
   ],
   "source": [
    "# split into train and test sets\n",
    "values = reframed.values\n",
    "train_size = int(len(df2) * 0.80)\n",
    "train = values[:train_size, :]\n",
    "test = values[train_size:, :]\n",
    "# split into input and outputs\n",
    "train_X, train_Y = train[:, :-6], train[:, -6:]\n",
    "test_X, test_Y = test[:, :-6], test[:, -6:]\n",
    "# reshape input to be 3D [samples, timesteps, features]\n",
    "train_X = train_X.reshape((train_X.shape[0], 1, train_X.shape[1]))\n",
    "test_X = test_X.reshape((test_X.shape[0], 1, test_X.shape[1]))\n",
    "print(train_size)\n",
    "print(train_X.shape, train_Y.shape, test_X.shape, test_Y.shape)\n"
   ]
  },
  {
   "cell_type": "code",
   "execution_count": 69,
   "metadata": {},
   "outputs": [
    {
     "name": "stdout",
     "output_type": "stream",
     "text": [
      "Train on 204800 samples, validate on 51072 samples\n",
      "Epoch 1/100\n",
      "6s - loss: 0.0476 - val_loss: 0.0068\n",
      "Epoch 2/100\n",
      "7s - loss: 0.0110 - val_loss: 0.0035\n",
      "Epoch 3/100\n",
      "6s - loss: 0.0069 - val_loss: 0.0020\n",
      "Epoch 4/100\n",
      "6s - loss: 0.0053 - val_loss: 0.0015\n",
      "Epoch 5/100\n",
      "6s - loss: 0.0047 - val_loss: 0.0013\n",
      "Epoch 6/100\n",
      "6s - loss: 0.0043 - val_loss: 0.0011\n",
      "Epoch 7/100\n",
      "6s - loss: 0.0040 - val_loss: 0.0010\n",
      "Epoch 8/100\n",
      "6s - loss: 0.0038 - val_loss: 9.1583e-04\n",
      "Epoch 9/100\n",
      "6s - loss: 0.0037 - val_loss: 8.2876e-04\n",
      "Epoch 10/100\n",
      "6s - loss: 0.0036 - val_loss: 7.6195e-04\n",
      "Epoch 11/100\n",
      "6s - loss: 0.0035 - val_loss: 6.6659e-04\n",
      "Epoch 12/100\n",
      "6s - loss: 0.0035 - val_loss: 6.4373e-04\n",
      "Epoch 13/100\n",
      "6s - loss: 0.0034 - val_loss: 6.3523e-04\n",
      "Epoch 14/100\n",
      "6s - loss: 0.0034 - val_loss: 6.4128e-04\n",
      "Epoch 15/100\n",
      "6s - loss: 0.0034 - val_loss: 5.9101e-04\n",
      "Epoch 16/100\n",
      "6s - loss: 0.0034 - val_loss: 5.8215e-04\n",
      "Epoch 17/100\n",
      "6s - loss: 0.0033 - val_loss: 5.4938e-04\n",
      "Epoch 18/100\n",
      "6s - loss: 0.0033 - val_loss: 5.6731e-04\n",
      "Epoch 19/100\n",
      "6s - loss: 0.0033 - val_loss: 5.5246e-04\n",
      "Epoch 20/100\n",
      "6s - loss: 0.0033 - val_loss: 5.0789e-04\n",
      "Epoch 21/100\n",
      "6s - loss: 0.0032 - val_loss: 5.0727e-04\n",
      "Epoch 22/100\n",
      "6s - loss: 0.0032 - val_loss: 5.2292e-04\n",
      "Epoch 23/100\n",
      "6s - loss: 0.0032 - val_loss: 5.2348e-04\n",
      "Epoch 24/100\n",
      "6s - loss: 0.0032 - val_loss: 4.9595e-04\n",
      "Epoch 25/100\n",
      "6s - loss: 0.0032 - val_loss: 4.8981e-04\n",
      "Epoch 26/100\n",
      "6s - loss: 0.0032 - val_loss: 5.1940e-04\n",
      "Epoch 27/100\n",
      "6s - loss: 0.0032 - val_loss: 5.0755e-04\n",
      "Epoch 28/100\n",
      "6s - loss: 0.0032 - val_loss: 4.8394e-04\n",
      "Epoch 29/100\n",
      "6s - loss: 0.0032 - val_loss: 5.0043e-04\n",
      "Epoch 30/100\n",
      "6s - loss: 0.0032 - val_loss: 4.3479e-04\n",
      "Epoch 31/100\n",
      "6s - loss: 0.0032 - val_loss: 4.7207e-04\n",
      "Epoch 32/100\n",
      "6s - loss: 0.0032 - val_loss: 4.7327e-04\n",
      "Epoch 33/100\n",
      "6s - loss: 0.0032 - val_loss: 4.7305e-04\n",
      "Epoch 34/100\n",
      "6s - loss: 0.0032 - val_loss: 4.8365e-04\n",
      "Epoch 35/100\n",
      "6s - loss: 0.0032 - val_loss: 4.7389e-04\n",
      "Epoch 36/100\n",
      "5s - loss: 0.0032 - val_loss: 4.8369e-04\n",
      "Epoch 37/100\n",
      "5s - loss: 0.0032 - val_loss: 4.6143e-04\n",
      "Epoch 38/100\n",
      "5s - loss: 0.0032 - val_loss: 4.6872e-04\n",
      "Epoch 39/100\n",
      "5s - loss: 0.0032 - val_loss: 4.7778e-04\n",
      "Epoch 40/100\n",
      "5s - loss: 0.0032 - val_loss: 4.6982e-04\n",
      "Epoch 41/100\n",
      "5s - loss: 0.0032 - val_loss: 4.6623e-04\n",
      "Epoch 42/100\n",
      "5s - loss: 0.0032 - val_loss: 4.8296e-04\n",
      "Epoch 43/100\n",
      "5s - loss: 0.0032 - val_loss: 4.8913e-04\n",
      "Epoch 44/100\n",
      "5s - loss: 0.0032 - val_loss: 4.5791e-04\n",
      "Epoch 45/100\n",
      "5s - loss: 0.0032 - val_loss: 4.5394e-04\n",
      "Epoch 46/100\n",
      "5s - loss: 0.0032 - val_loss: 4.5586e-04\n",
      "Epoch 47/100\n",
      "5s - loss: 0.0032 - val_loss: 4.3839e-04\n",
      "Epoch 48/100\n",
      "5s - loss: 0.0032 - val_loss: 4.4422e-04\n",
      "Epoch 49/100\n",
      "5s - loss: 0.0032 - val_loss: 4.5955e-04\n",
      "Epoch 50/100\n",
      "5s - loss: 0.0032 - val_loss: 4.7409e-04\n",
      "Epoch 51/100\n",
      "5s - loss: 0.0032 - val_loss: 4.8181e-04\n",
      "Epoch 52/100\n",
      "5s - loss: 0.0032 - val_loss: 4.6160e-04\n",
      "Epoch 53/100\n",
      "5s - loss: 0.0032 - val_loss: 4.6947e-04\n",
      "Epoch 54/100\n",
      "5s - loss: 0.0032 - val_loss: 4.1186e-04\n",
      "Epoch 55/100\n",
      "5s - loss: 0.0032 - val_loss: 4.4346e-04\n",
      "Epoch 56/100\n",
      "5s - loss: 0.0032 - val_loss: 4.4190e-04\n",
      "Epoch 57/100\n",
      "5s - loss: 0.0032 - val_loss: 4.4080e-04\n",
      "Epoch 58/100\n",
      "5s - loss: 0.0032 - val_loss: 4.6417e-04\n",
      "Epoch 59/100\n",
      "5s - loss: 0.0032 - val_loss: 4.8488e-04\n",
      "Epoch 60/100\n",
      "5s - loss: 0.0032 - val_loss: 4.7733e-04\n",
      "Epoch 61/100\n",
      "5s - loss: 0.0032 - val_loss: 4.6028e-04\n",
      "Epoch 62/100\n",
      "5s - loss: 0.0032 - val_loss: 4.9685e-04\n",
      "Epoch 63/100\n",
      "5s - loss: 0.0032 - val_loss: 4.4024e-04\n",
      "Epoch 64/100\n",
      "5s - loss: 0.0032 - val_loss: 4.3260e-04\n",
      "Epoch 65/100\n",
      "5s - loss: 0.0032 - val_loss: 4.8056e-04\n",
      "Epoch 66/100\n",
      "5s - loss: 0.0032 - val_loss: 4.3077e-04\n",
      "Epoch 67/100\n",
      "5s - loss: 0.0032 - val_loss: 4.4492e-04\n",
      "Epoch 68/100\n",
      "6s - loss: 0.0032 - val_loss: 4.5952e-04\n",
      "Epoch 69/100\n",
      "5s - loss: 0.0032 - val_loss: 4.5752e-04\n",
      "Epoch 70/100\n",
      "5s - loss: 0.0032 - val_loss: 4.5682e-04\n",
      "Epoch 71/100\n",
      "5s - loss: 0.0032 - val_loss: 4.2160e-04\n",
      "Epoch 72/100\n",
      "5s - loss: 0.0032 - val_loss: 4.7529e-04\n",
      "Epoch 73/100\n",
      "5s - loss: 0.0032 - val_loss: 4.6244e-04\n",
      "Epoch 74/100\n",
      "5s - loss: 0.0032 - val_loss: 4.3861e-04\n",
      "Epoch 75/100\n",
      "5s - loss: 0.0032 - val_loss: 4.4588e-04\n",
      "Epoch 76/100\n",
      "5s - loss: 0.0032 - val_loss: 4.5883e-04\n",
      "Epoch 77/100\n",
      "6s - loss: 0.0032 - val_loss: 4.5510e-04\n",
      "Epoch 78/100\n",
      "5s - loss: 0.0032 - val_loss: 4.4235e-04\n",
      "Epoch 79/100\n",
      "5s - loss: 0.0032 - val_loss: 4.4865e-04\n",
      "Epoch 80/100\n",
      "5s - loss: 0.0032 - val_loss: 4.5494e-04\n",
      "Epoch 81/100\n",
      "5s - loss: 0.0032 - val_loss: 4.6339e-04\n",
      "Epoch 82/100\n",
      "5s - loss: 0.0032 - val_loss: 4.5571e-04\n",
      "Epoch 83/100\n",
      "5s - loss: 0.0032 - val_loss: 4.5098e-04\n",
      "Epoch 84/100\n",
      "5s - loss: 0.0032 - val_loss: 4.3193e-04\n",
      "Epoch 85/100\n",
      "5s - loss: 0.0032 - val_loss: 4.4529e-04\n",
      "Epoch 86/100\n",
      "5s - loss: 0.0032 - val_loss: 4.4296e-04\n",
      "Epoch 87/100\n",
      "5s - loss: 0.0032 - val_loss: 4.2590e-04\n",
      "Epoch 88/100\n",
      "5s - loss: 0.0032 - val_loss: 4.4025e-04\n",
      "Epoch 89/100\n",
      "5s - loss: 0.0032 - val_loss: 4.4265e-04\n",
      "Epoch 90/100\n",
      "5s - loss: 0.0032 - val_loss: 4.5383e-04\n",
      "Epoch 91/100\n",
      "5s - loss: 0.0032 - val_loss: 4.4103e-04\n",
      "Epoch 92/100\n",
      "5s - loss: 0.0032 - val_loss: 4.2522e-04\n",
      "Epoch 93/100\n",
      "5s - loss: 0.0032 - val_loss: 4.4147e-04\n",
      "Epoch 94/100\n",
      "5s - loss: 0.0032 - val_loss: 4.2294e-04\n",
      "Epoch 95/100\n",
      "5s - loss: 0.0032 - val_loss: 4.1995e-04\n",
      "Epoch 96/100\n",
      "5s - loss: 0.0032 - val_loss: 4.7434e-04\n",
      "Epoch 97/100\n",
      "5s - loss: 0.0031 - val_loss: 4.5683e-04\n",
      "Epoch 98/100\n",
      "5s - loss: 0.0032 - val_loss: 4.4493e-04\n",
      "Epoch 99/100\n",
      "5s - loss: 0.0031 - val_loss: 4.4847e-04\n",
      "Epoch 100/100\n",
      "6s - loss: 0.0032 - val_loss: 4.5279e-04\n"
     ]
    },
    {
     "data": {
      "image/png": "[encoded data removed]",
      "text/plain": [
       "<matplotlib.figure.Figure at 0x7f5578c9fda0>"
      ]
     },
     "metadata": {},
     "output_type": "display_data"
    }
   ],
   "source": [
    "# design network\n",
    "model = Sequential()\n",
    "model.add(LSTM(50,activation='sigmoid', input_shape=(train_X.shape[1], train_X.shape[2])))\n",
    "model.add(Dropout(0.2))\n",
    "model.add(Dense(6,activation='linear'))\n",
    "model.compile(loss='mse', optimizer='adam')\n",
    "# fit network\n",
    "history = model.fit(train_X, train_Y, epochs=100, batch_size=128, validation_data=(test_X, test_Y), verbose=2, shuffle=False)\n",
    "# plot history\n",
    "pyplot.plot(history.history['loss'], label='train')\n",
    "pyplot.plot(history.history['val_loss'], label='test')\n",
    "pyplot.legend()\n",
    "pyplot.show()"
   ]
  },
  {
   "cell_type": "code",
   "execution_count": 70,
   "metadata": {},
   "outputs": [],
   "source": [
    "# make a prediction\n",
    "yhat = model.predict(test_X)\n",
    "\n"
   ]
  },
  {
   "cell_type": "code",
   "execution_count": 71,
   "metadata": {},
   "outputs": [],
   "source": [
    "test_X2 = test_X.reshape((test_X.shape[0], test_X.shape[2]))\n",
    "# invert scaling for forecast\n",
    "inv_yhat = concatenate((yhat, test_X2[:, 6:]), axis=1)\n",
    "\n"
   ]
  },
  {
   "cell_type": "code",
   "execution_count": 72,
   "metadata": {},
   "outputs": [],
   "source": [
    "inv_yhat = scaler.inverse_transform(inv_yhat)\n",
    "#inv_yhat = inv_yhat[:,0]"
   ]
  },
  {
   "cell_type": "code",
   "execution_count": 73,
   "metadata": {},
   "outputs": [],
   "source": [
    "# invert scaling for actual\n",
    "test_Y2 = test_Y.reshape((len(test_Y), 6))\n",
    "inv_y = concatenate((test_Y2, test_X2[:, 6:]), axis=1)\n",
    "inv_y = scaler.inverse_transform(inv_y)\n",
    "#inv_y = inv_y[:,0]"
   ]
  },
  {
   "cell_type": "code",
   "execution_count": 74,
   "metadata": {},
   "outputs": [
    {
     "name": "stdout",
     "output_type": "stream",
     "text": [
      "MSE: 0.1273\n",
      "RMSE: 0.3546\n",
      "MAE: 0.2186 \n",
      "R2_Score: 0.9885 \n"
     ]
    }
   ],
   "source": [
    "# calculate Statiscal\n",
    "avg_mse = 0\n",
    "avg_rmse = 0\n",
    "avg_mae = 0\n",
    "for i in range (0,6):\n",
    "    if i != 4 :\n",
    "        mse = mean_squared_error(inv_y[:,i], inv_yhat[:,i])\n",
    "        rmse = sqrt(mean_squared_error(inv_y[:,i], inv_yhat[:,i]))\n",
    "        mae = mean_absolute_error(inv_y[:,i], inv_yhat[:,i])\n",
    "        avg_mse = avg_mse + mse\n",
    "        avg_rmse = avg_rmse + rmse\n",
    "        avg_mae = avg_mae + mae\n",
    "print('MSE: %.4f' % (avg_mse/5))\n",
    "print('RMSE: %.4f' % (avg_rmse/5))\n",
    "print('MAE: %.4f ' % (avg_mae/5))\n",
    "r2 = r2_score(inv_y, inv_yhat)\n",
    "print('R2_Score: %.4f ' % (r2))"
   ]
  },
  {
   "cell_type": "code",
   "execution_count": 75,
   "metadata": {},
   "outputs": [
    {
     "data": {
      "image/png": "[encoded data removed]",
      "text/plain": [
       "<matplotlib.figure.Figure at 0x7f55726ffc88>"
      ]
     },
     "metadata": {},
     "output_type": "display_data"
    }
   ],
   "source": [
    "# plot baseline and predictions\n",
    "plt.plot(inv_y[0:200])\n",
    "plt.plot(inv_yhat[0:200])\n",
    "plt.show()"
   ]
  },
  {
   "cell_type": "code",
   "execution_count": 76,
   "metadata": {},
   "outputs": [
    {
     "name": "stdout",
     "output_type": "stream",
     "text": [
      "(51072, 6)\n",
      "(51072, 6)\n"
     ]
    }
   ],
   "source": [
    "print (inv_y.shape)\n",
    "print(inv_yhat.shape)"
   ]
  },
  {
   "cell_type": "code",
   "execution_count": 77,
   "metadata": {},
   "outputs": [
    {
     "data": {
      "image/png": "[encoded data removed]",
      "text/plain": [
       "<matplotlib.figure.Figure at 0x7f55726ae1d0>"
      ]
     },
     "metadata": {},
     "output_type": "display_data"
    }
   ],
   "source": [
    "fig = plt.figure(figsize=(10,10))\n",
    "\n",
    "ax1 = fig.add_subplot(3,3,1)\n",
    "ax2 = fig.add_subplot(3,3,2)\n",
    "ax3 = fig.add_subplot(3,3,3)\n",
    "ax4 = fig.add_subplot(3,3,4)\n",
    "ax5 = fig.add_subplot(3,3,5)\n",
    "ax6 = fig.add_subplot(3,3,6)\n",
    "\n",
    "ax1.scatter(inv_y[:,0], inv_yhat[:,0], s= 2)\n",
    "ax1.set_xlabel('x_real')\n",
    "ax1.set_ylabel('x_pred')\n",
    "ax2.scatter(inv_y[:,1], inv_yhat[:,1], s= 2)\n",
    "ax2.set_xlabel('y_real')\n",
    "ax2.set_ylabel('y_pred')\n",
    "ax3.scatter(inv_y[:,2], inv_yhat[:,2], s= 2)\n",
    "ax3.set_xlabel('z_real')\n",
    "ax3.set_ylabel('z_pred')\n",
    "ax4.scatter(inv_y[:,3], inv_yhat[:,3], s= 2)\n",
    "ax4.set_xlabel('ax_real')\n",
    "ax4.set_ylabel('ax_pred')\n",
    "ax5.scatter(inv_y[:,4], inv_yhat[:,4], s= 2)\n",
    "ax5.set_xlabel('ay_real')\n",
    "ax5.set_ylabel('ay_pred')\n",
    "ax6.scatter(inv_y[:,5], inv_yhat[:,5], s= 2)\n",
    "ax6.set_xlabel('az_real')\n",
    "ax6.set_ylabel('az_pred')\n",
    "\n",
    "plt.subplots_adjust(wspace = 1, hspace = 0.5)\n",
    "plt.show()"
   ]
  },
  {
   "cell_type": "code",
   "execution_count": null,
   "metadata": {},
   "outputs": [],
   "source": []
  }
 ],
 "metadata": {
  "kernelspec": {
   "display_name": "Python 3",
   "language": "python",
   "name": "python3"
  },
  "language_info": {
   "codemirror_mode": {
    "name": "ipython",
    "version": 3
   },
   "file_extension": ".py",
   "mimetype": "text/x-python",
   "name": "python",
   "nbconvert_exporter": "python",
   "pygments_lexer": "ipython3",
   "version": "3.6.5"
  }
 },
 "nbformat": 4,
 "nbformat_minor": 2
}
