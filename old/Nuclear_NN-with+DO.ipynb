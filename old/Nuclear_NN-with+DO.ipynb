{
 "cells": [
  {
   "cell_type": "code",
   "execution_count": 1,
   "metadata": {},
   "outputs": [
    {
     "name": "stderr",
     "output_type": "stream",
     "text": [
      "Using TensorFlow backend.\n"
     ]
    }
   ],
   "source": [
    "import numpy as np\n",
    "import pandas as pd\n",
    "import random\n",
    "import keras\n",
    "#from sklearn.metrics import f1_score\n",
    "#from sklearn.metrics import confusion_matrix\n",
    "import matplotlib.pyplot as plt\n",
    "from sklearn.model_selection import train_test_split\n",
    "from sklearn.metrics import mean_squared_error, r2_score, mean_absolute_error\n",
    "\n",
    "from keras.models import Sequential\n",
    "from keras.layers import Dense, Dropout\n",
    "\n",
    "from keras.layers.normalization import BatchNormalization\n",
    "from keras.initializers import Initializer\n",
    "from keras import regularizers\n",
    "from keras import backend as K\n"
   ]
  },
  {
   "cell_type": "code",
   "execution_count": 2,
   "metadata": {},
   "outputs": [],
   "source": [
    "raw_data = pd.read_csv('.//ordered_molecules_with_target.csv')"
   ]
  },
  {
   "cell_type": "code",
   "execution_count": 3,
   "metadata": {},
   "outputs": [],
   "source": [
    "x_train, x_test, y_train, y_test = train_test_split(raw_data[[\"px\",\"py\",\"pz\",\"ax\",\"ay\",\"az\"]], \n",
    "                                                    raw_data[[\"t_px\",\"t_py\",\"t_pz\",\"t_ax\",\"t_ay\",\"t_az\"]], \n",
    "                                                    test_size = 0.3, random_state = 10)"
   ]
  },
  {
   "cell_type": "code",
   "execution_count": 4,
   "metadata": {},
   "outputs": [],
   "source": [
    "#model 1\n",
    "model_1 = Sequential()\n",
    "\n",
    "model_1.add(Dense(20, input_dim=6, activation='relu', kernel_initializer = 'he_normal', kernel_regularizer = regularizers.l2(0.1)))\n",
    "model_1.add(Dropout(0.2))\n",
    "model_1.add(Dense(20, activation='relu', kernel_initializer = 'he_normal', kernel_regularizer = regularizers.l2(0.1)))\n",
    "model_1.add(Dropout(0.2))\n",
    "model_1.add(Dense(20, activation='relu', kernel_initializer = 'he_normal', kernel_regularizer = regularizers.l2(0.1)))\n",
    "model_1.add(Dropout(0.2))\n",
    "model_1.add(Dense(6, activation='linear', kernel_initializer = 'glorot_normal', kernel_regularizer = regularizers.l2(0.1)))\n"
   ]
  },
  {
   "cell_type": "code",
   "execution_count": 5,
   "metadata": {},
   "outputs": [],
   "source": [
    "model_1.compile(loss='mean_squared_error', optimizer= \"rmsprop\", metrics=['mse'])"
   ]
  },
  {
   "cell_type": "code",
   "execution_count": 6,
   "metadata": {
    "scrolled": true
   },
   "outputs": [
    {
     "name": "stdout",
     "output_type": "stream",
     "text": [
      "Epoch 1/100\n",
      "179200/179200 [==============================] - 4s - loss: 10.1923 - mean_squared_error: 7.0166     \n",
      "Epoch 2/100\n",
      "179200/179200 [==============================] - 3s - loss: 6.9449 - mean_squared_error: 5.0002     \n",
      "Epoch 3/100\n",
      "179200/179200 [==============================] - 4s - loss: 6.7177 - mean_squared_error: 4.7891     \n",
      "Epoch 4/100\n",
      "179200/179200 [==============================] - 4s - loss: 6.5046 - mean_squared_error: 4.5559     \n",
      "Epoch 5/100\n",
      "179200/179200 [==============================] - 4s - loss: 6.3789 - mean_squared_error: 4.4161     \n",
      "Epoch 6/100\n",
      "179200/179200 [==============================] - 4s - loss: 6.3435 - mean_squared_error: 4.3740     \n",
      "Epoch 7/100\n",
      "179200/179200 [==============================] - 4s - loss: 6.3216 - mean_squared_error: 4.3486     \n",
      "Epoch 8/100\n",
      "179200/179200 [==============================] - 4s - loss: 6.3170 - mean_squared_error: 4.3426     \n",
      "Epoch 9/100\n",
      "179200/179200 [==============================] - 4s - loss: 6.2984 - mean_squared_error: 4.3211     \n",
      "Epoch 10/100\n",
      "179200/179200 [==============================] - 4s - loss: 6.3043 - mean_squared_error: 4.3254     \n",
      "Epoch 11/100\n",
      "179200/179200 [==============================] - 4s - loss: 6.2857 - mean_squared_error: 4.3077     \n",
      "Epoch 12/100\n",
      "179200/179200 [==============================] - 3s - loss: 6.2955 - mean_squared_error: 4.3155     \n",
      "Epoch 13/100\n",
      "179200/179200 [==============================] - 3s - loss: 6.2957 - mean_squared_error: 4.3163     \n",
      "Epoch 14/100\n",
      "179200/179200 [==============================] - 4s - loss: 6.2894 - mean_squared_error: 4.3103     \n",
      "Epoch 15/100\n",
      "179200/179200 [==============================] - 4s - loss: 6.2919 - mean_squared_error: 4.3107     \n",
      "Epoch 16/100\n",
      "179200/179200 [==============================] - 3s - loss: 6.2945 - mean_squared_error: 4.3129     \n",
      "Epoch 17/100\n",
      "179200/179200 [==============================] - 4s - loss: 6.2846 - mean_squared_error: 4.3047     \n",
      "Epoch 18/100\n",
      "179200/179200 [==============================] - 4s - loss: 6.2894 - mean_squared_error: 4.3107     \n",
      "Epoch 19/100\n",
      "179200/179200 [==============================] - 4s - loss: 6.2935 - mean_squared_error: 4.3119     \n",
      "Epoch 20/100\n",
      "179200/179200 [==============================] - 4s - loss: 6.2914 - mean_squared_error: 4.3117     \n",
      "Epoch 21/100\n",
      "179200/179200 [==============================] - 3s - loss: 6.2823 - mean_squared_error: 4.3022     \n",
      "Epoch 22/100\n",
      "179200/179200 [==============================] - 4s - loss: 6.2922 - mean_squared_error: 4.3117     \n",
      "Epoch 23/100\n",
      "179200/179200 [==============================] - 4s - loss: 6.2797 - mean_squared_error: 4.2971     \n",
      "Epoch 24/100\n",
      "179200/179200 [==============================] - 4s - loss: 6.2847 - mean_squared_error: 4.3019     \n",
      "Epoch 25/100\n",
      "179200/179200 [==============================] - 4s - loss: 6.2882 - mean_squared_error: 4.3061     \n",
      "Epoch 26/100\n",
      "179200/179200 [==============================] - 4s - loss: 6.2791 - mean_squared_error: 4.2967     \n",
      "Epoch 27/100\n",
      "179200/179200 [==============================] - 3s - loss: 6.2817 - mean_squared_error: 4.2993     \n",
      "Epoch 28/100\n",
      "179200/179200 [==============================] - 3s - loss: 6.2885 - mean_squared_error: 4.3075     \n",
      "Epoch 29/100\n",
      "179200/179200 [==============================] - 4s - loss: 6.2819 - mean_squared_error: 4.3006     \n",
      "Epoch 30/100\n",
      "179200/179200 [==============================] - 4s - loss: 6.2820 - mean_squared_error: 4.3005     \n",
      "Epoch 31/100\n",
      "179200/179200 [==============================] - 4s - loss: 6.2851 - mean_squared_error: 4.3036     \n",
      "Epoch 32/100\n",
      "179200/179200 [==============================] - 4s - loss: 6.2831 - mean_squared_error: 4.3042     \n",
      "Epoch 33/100\n",
      "179200/179200 [==============================] - 4s - loss: 6.2803 - mean_squared_error: 4.2993     \n",
      "Epoch 34/100\n",
      "179200/179200 [==============================] - 4s - loss: 6.2824 - mean_squared_error: 4.3007     \n",
      "Epoch 35/100\n",
      "179200/179200 [==============================] - 3s - loss: 6.2816 - mean_squared_error: 4.2987     \n",
      "Epoch 36/100\n",
      "179200/179200 [==============================] - 4s - loss: 6.2897 - mean_squared_error: 4.3084     \n",
      "Epoch 37/100\n",
      "179200/179200 [==============================] - 3s - loss: 6.2760 - mean_squared_error: 4.2931     \n",
      "Epoch 38/100\n",
      "179200/179200 [==============================] - 3s - loss: 6.2838 - mean_squared_error: 4.3039     \n",
      "Epoch 39/100\n",
      "179200/179200 [==============================] - 4s - loss: 6.2815 - mean_squared_error: 4.3011     \n",
      "Epoch 40/100\n",
      "179200/179200 [==============================] - 4s - loss: 6.2818 - mean_squared_error: 4.2997     \n",
      "Epoch 41/100\n",
      "179200/179200 [==============================] - 4s - loss: 6.2799 - mean_squared_error: 4.2992     \n",
      "Epoch 42/100\n",
      "179200/179200 [==============================] - 4s - loss: 6.2834 - mean_squared_error: 4.3032     \n",
      "Epoch 43/100\n",
      "179200/179200 [==============================] - 4s - loss: 6.2848 - mean_squared_error: 4.3048     \n",
      "Epoch 44/100\n",
      "179200/179200 [==============================] - 3s - loss: 6.2753 - mean_squared_error: 4.2939     \n",
      "Epoch 45/100\n",
      "179200/179200 [==============================] - 4s - loss: 6.2824 - mean_squared_error: 4.3009     \n",
      "Epoch 46/100\n",
      "179200/179200 [==============================] - 4s - loss: 6.2805 - mean_squared_error: 4.2999     \n",
      "Epoch 47/100\n",
      "179200/179200 [==============================] - 4s - loss: 6.2786 - mean_squared_error: 4.2987     \n",
      "Epoch 48/100\n",
      "179200/179200 [==============================] - 3s - loss: 6.2792 - mean_squared_error: 4.3011     \n",
      "Epoch 49/100\n",
      "179200/179200 [==============================] - 4s - loss: 6.2758 - mean_squared_error: 4.2945     \n",
      "Epoch 50/100\n",
      "179200/179200 [==============================] - 4s - loss: 6.2870 - mean_squared_error: 4.3063     \n",
      "Epoch 51/100\n",
      "179200/179200 [==============================] - 4s - loss: 6.2845 - mean_squared_error: 4.3037     \n",
      "Epoch 52/100\n",
      "179200/179200 [==============================] - 4s - loss: 6.2707 - mean_squared_error: 4.2898     \n",
      "Epoch 53/100\n",
      "179200/179200 [==============================] - 3s - loss: 6.2826 - mean_squared_error: 4.2999     \n",
      "Epoch 54/100\n",
      "179200/179200 [==============================] - 4s - loss: 6.2699 - mean_squared_error: 4.2882     \n",
      "Epoch 55/100\n",
      "179200/179200 [==============================] - 4s - loss: 6.2848 - mean_squared_error: 4.3062     \n",
      "Epoch 56/100\n",
      "179200/179200 [==============================] - 3s - loss: 6.2828 - mean_squared_error: 4.3040     \n",
      "Epoch 57/100\n",
      "179200/179200 [==============================] - 3s - loss: 6.2829 - mean_squared_error: 4.3039     \n",
      "Epoch 58/100\n",
      "179200/179200 [==============================] - 3s - loss: 6.2754 - mean_squared_error: 4.2953     \n",
      "Epoch 59/100\n",
      "179200/179200 [==============================] - 4s - loss: 6.2864 - mean_squared_error: 4.3065     \n",
      "Epoch 60/100\n",
      "179200/179200 [==============================] - 4s - loss: 6.2795 - mean_squared_error: 4.2999     \n",
      "Epoch 61/100\n",
      "179200/179200 [==============================] - 3s - loss: 6.2726 - mean_squared_error: 4.2929     \n",
      "Epoch 62/100\n",
      "179200/179200 [==============================] - 4s - loss: 6.2826 - mean_squared_error: 4.3028     \n",
      "Epoch 63/100\n",
      "179200/179200 [==============================] - 4s - loss: 6.2676 - mean_squared_error: 4.2876     \n",
      "Epoch 64/100\n",
      "179200/179200 [==============================] - 4s - loss: 6.2766 - mean_squared_error: 4.2975     \n",
      "Epoch 65/100\n",
      "179200/179200 [==============================] - 3s - loss: 6.2742 - mean_squared_error: 4.2945     \n",
      "Epoch 66/100\n",
      "179200/179200 [==============================] - 4s - loss: 6.2766 - mean_squared_error: 4.2950     \n",
      "Epoch 67/100\n",
      "179200/179200 [==============================] - 4s - loss: 6.2722 - mean_squared_error: 4.2923     \n",
      "Epoch 68/100\n",
      "179200/179200 [==============================] - 3s - loss: 6.2791 - mean_squared_error: 4.2987     \n",
      "Epoch 69/100\n",
      "179200/179200 [==============================] - 4s - loss: 6.2820 - mean_squared_error: 4.3021     \n",
      "Epoch 70/100\n",
      "179200/179200 [==============================] - 4s - loss: 6.2719 - mean_squared_error: 4.2916     \n",
      "Epoch 71/100\n",
      "179200/179200 [==============================] - 4s - loss: 6.2808 - mean_squared_error: 4.3011     \n",
      "Epoch 72/100\n",
      "179200/179200 [==============================] - 4s - loss: 6.2781 - mean_squared_error: 4.3002     \n",
      "Epoch 73/100\n",
      "179200/179200 [==============================] - 4s - loss: 6.2843 - mean_squared_error: 4.3027     \n",
      "Epoch 74/100\n",
      "179200/179200 [==============================] - 3s - loss: 6.2774 - mean_squared_error: 4.2969     \n",
      "Epoch 75/100\n",
      "179200/179200 [==============================] - 3s - loss: 6.2873 - mean_squared_error: 4.3068     \n",
      "Epoch 76/100\n",
      "179200/179200 [==============================] - 3s - loss: 6.2799 - mean_squared_error: 4.3002     \n",
      "Epoch 77/100\n",
      "179200/179200 [==============================] - 4s - loss: 6.2773 - mean_squared_error: 4.2974     \n",
      "Epoch 78/100\n",
      "179200/179200 [==============================] - 4s - loss: 6.2822 - mean_squared_error: 4.3017     \n",
      "Epoch 79/100\n",
      "179200/179200 [==============================] - 4s - loss: 6.2775 - mean_squared_error: 4.2982     \n",
      "Epoch 80/100\n",
      "179200/179200 [==============================] - 4s - loss: 6.2841 - mean_squared_error: 4.3041     \n",
      "Epoch 81/100\n",
      "179200/179200 [==============================] - 4s - loss: 6.2756 - mean_squared_error: 4.2955     \n",
      "Epoch 82/100\n",
      "179200/179200 [==============================] - 3s - loss: 6.2812 - mean_squared_error: 4.3011     \n",
      "Epoch 83/100\n",
      "179200/179200 [==============================] - 4s - loss: 6.2793 - mean_squared_error: 4.2983     \n",
      "Epoch 84/100\n",
      "179200/179200 [==============================] - 3s - loss: 6.2870 - mean_squared_error: 4.3037     \n",
      "Epoch 85/100\n",
      "179200/179200 [==============================] - 4s - loss: 6.2808 - mean_squared_error: 4.3006     \n",
      "Epoch 86/100\n",
      "179200/179200 [==============================] - 4s - loss: 6.2707 - mean_squared_error: 4.2894     \n",
      "Epoch 87/100\n",
      "179200/179200 [==============================] - 3s - loss: 6.2779 - mean_squared_error: 4.2988     \n",
      "Epoch 88/100\n",
      "179200/179200 [==============================] - 4s - loss: 6.2863 - mean_squared_error: 4.3078     \n",
      "Epoch 89/100\n",
      "179200/179200 [==============================] - 4s - loss: 6.2733 - mean_squared_error: 4.2949     \n",
      "Epoch 90/100\n",
      "179200/179200 [==============================] - 3s - loss: 6.2847 - mean_squared_error: 4.3057     \n",
      "Epoch 91/100\n",
      "179200/179200 [==============================] - 4s - loss: 6.2792 - mean_squared_error: 4.3000     \n",
      "Epoch 92/100\n",
      "179200/179200 [==============================] - 4s - loss: 6.2832 - mean_squared_error: 4.3035     \n",
      "Epoch 93/100\n",
      "179200/179200 [==============================] - 4s - loss: 6.2736 - mean_squared_error: 4.2948     \n",
      "Epoch 94/100\n",
      "179200/179200 [==============================] - 4s - loss: 6.2785 - mean_squared_error: 4.2971     \n",
      "Epoch 95/100\n",
      "179200/179200 [==============================] - 3s - loss: 6.2754 - mean_squared_error: 4.2963     \n",
      "Epoch 96/100\n",
      "179200/179200 [==============================] - 4s - loss: 6.2806 - mean_squared_error: 4.3010     \n",
      "Epoch 97/100\n",
      "179200/179200 [==============================] - 3s - loss: 6.2765 - mean_squared_error: 4.2990     \n",
      "Epoch 98/100\n",
      "179200/179200 [==============================] - 4s - loss: 6.2708 - mean_squared_error: 4.2897     \n",
      "Epoch 99/100\n",
      "179200/179200 [==============================] - 4s - loss: 6.2856 - mean_squared_error: 4.3048     \n",
      "Epoch 100/100\n",
      "179200/179200 [==============================] - 4s - loss: 6.2870 - mean_squared_error: 4.3052     \n"
     ]
    }
   ],
   "source": [
    "hist_1 = model_1.fit(x_train.values, y_train.values, epochs=100, batch_size=100)"
   ]
  },
  {
   "cell_type": "code",
   "execution_count": 7,
   "metadata": {},
   "outputs": [],
   "source": [
    "y_pred = model_1.predict(x_test.values)"
   ]
  },
  {
   "cell_type": "code",
   "execution_count": 8,
   "metadata": {},
   "outputs": [],
   "source": [
    "mse = mean_squared_error(y_test.values, y_pred)\n",
    "rmse = np.sqrt(mse)\n",
    "mae_metric = mean_absolute_error(y_test.values, y_pred)\n",
    "r2_error = r2_score(y_test.values, y_pred)"
   ]
  },
  {
   "cell_type": "code",
   "execution_count": 9,
   "metadata": {},
   "outputs": [
    {
     "name": "stdout",
     "output_type": "stream",
     "text": [
      "MSE:  2.47880231046\n",
      "RMSE:  1.57442126207\n",
      "MAP:  1.18270528056\n",
      "R2_Score: 0.737936292706\n"
     ]
    }
   ],
   "source": [
    "print(\"MSE: \", mse)\n",
    "print(\"RMSE: \", rmse)\n",
    "print(\"MAE: \", mae_metric)\n",
    "print(\"R2_Score:\", r2_error)"
   ]
  },
  {
   "cell_type": "code",
   "execution_count": 10,
   "metadata": {
    "scrolled": false
   },
   "outputs": [
    {
     "data": {
      "image/png": "[encoded data removed]",
      "text/plain": [
       "<matplotlib.figure.Figure at 0x7fa48f5d3cc0>"
      ]
     },
     "metadata": {},
     "output_type": "display_data"
    }
   ],
   "source": [
    "fig = plt.figure(figsize=(10,10))\n",
    "\n",
    "ax1 = fig.add_subplot(3,3,1)\n",
    "ax2 = fig.add_subplot(3,3,2)\n",
    "ax3 = fig.add_subplot(3,3,3)\n",
    "ax4 = fig.add_subplot(3,3,4)\n",
    "ax5 = fig.add_subplot(3,3,5)\n",
    "ax6 = fig.add_subplot(3,3,6)\n",
    "\n",
    "ax1.scatter(y_test.values[:,0], y_pred[:,0], s= 2)\n",
    "ax1.set_xlabel('x_real')\n",
    "ax1.set_ylabel('x_pred')\n",
    "ax2.scatter(y_test.values[:,1], y_pred[:,1], s= 2)\n",
    "ax2.set_xlabel('y_real')\n",
    "ax2.set_ylabel('y_pred')\n",
    "ax3.scatter(y_test.values[:,2], y_pred[:,2], s= 2)\n",
    "ax3.set_xlabel('z_real')\n",
    "ax3.set_ylabel('z_pred')\n",
    "ax4.scatter(y_test.values[:,3], y_pred[:,3], s= 2)\n",
    "ax4.set_xlabel('ax_real')\n",
    "ax4.set_ylabel('ax_pred')\n",
    "ax5.scatter(y_test.values[:,4], y_pred[:,4], s= 2)\n",
    "ax5.set_xlabel('ay_real')\n",
    "ax5.set_ylabel('ay_pred')\n",
    "ax6.scatter(y_test.values[:,5], y_pred[:,5], s= 2)\n",
    "ax6.set_xlabel('az_real')\n",
    "ax6.set_ylabel('az_pred')\n",
    "\n",
    "plt.subplots_adjust(wspace = 1, hspace = 0.5)\n",
    "plt.show()"
   ]
  },
  {
   "cell_type": "code",
   "execution_count": null,
   "metadata": {},
   "outputs": [],
   "source": []
  }
 ],
 "metadata": {
  "kernelspec": {
   "display_name": "Python 3",
   "language": "python",
   "name": "python3"
  },
  "language_info": {
   "codemirror_mode": {
    "name": "ipython",
    "version": 3
   },
   "file_extension": ".py",
   "mimetype": "text/x-python",
   "name": "python",
   "nbconvert_exporter": "python",
   "pygments_lexer": "ipython3",
   "version": "3.6.5"
  }
 },
 "nbformat": 4,
 "nbformat_minor": 2
}
